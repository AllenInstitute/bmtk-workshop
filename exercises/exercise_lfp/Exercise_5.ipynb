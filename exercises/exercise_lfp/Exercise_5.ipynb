{
 "cells": [
  {
   "cell_type": "markdown",
   "id": "43369a85",
   "metadata": {},
   "source": [
    "## Exercise 5"
   ]
  },
  {
   "cell_type": "markdown",
   "id": "c2603f7c",
   "metadata": {},
   "source": [
    "### General Instructions\n",
    "\n",
    "Simulate and plot the LFPs and CSD evoked a cortical column of 400 $\\mu m$ radius consisting of a L2/3, L4 and L5 excitatory population and an inhibitory PV cell population. The network is designed to have a realistic distribution of synaptic connections and neuron types, with basal and apical dendritic synapses included. We provide the built network SONATA files (network*) for a nextwork with basal and apical synapses, only basal synapses, and only apical synapses, respectively. Use `BioNet` to run the simulations of the three networks and compared the evoked LFPs and CSDs."
   ]
  },
  {
   "cell_type": "markdown",
   "id": "97003209",
   "metadata": {},
   "source": [
    "### 1. Generate the simulation config.json file:\n",
    "- The config.json file should include the following parameters:\n",
    "  - duration: 3 seconds\n",
    "  - dt: 0.1 ms\n",
    "  - reports: add 'ecp' recordings to the `reports` section to record the LFPs.\n",
    "      - `electrode_positions`: path to the csv file containing the electrode positions. File provided in [components/electrodes](components/electrodes).\n",
    "  - input: use the external input created in step 1.1.2\n",
    "  - output: save the simulation results in a folder named [outputs](outputs)\n",
    "\n",
    "`Note`: You can use `config.lfp.json` file as a template. You can modify it to suit your simulation needs."
   ]
  },
  {
   "cell_type": "code",
   "execution_count": null,
   "id": "7895a6b4",
   "metadata": {},
   "outputs": [],
   "source": [
    "import json\n",
    "\n",
    "# Load the existing config file\n",
    "with open(\"config.lfp.json\", \"r\") as f:\n",
    "    config = json.load(f)\n",
    "\n",
    "# Create config for basal synapses\n",
    "basal_config = config.copy()\n",
    "basal_config[\"manifest\"][\"$NETWORK_DIR\"] = \"$BASE_DIR/network_basalsynapses\"\n",
    "basal_config[\"manifest\"][\"$OUTPUT_DIR\"] = \"$BASE_DIR/output_basalsynapses\"\n",
    "\n",
    "with open(\"config.lfp_basal.json\", \"w\") as f:\n",
    "    json.dump(basal_config, f, indent=2)\n",
    "\n",
    "\n",
    "# Create config for apical synapses\n",
    "apical_config = config.copy()\n",
    "apical_config[\"manifest\"][\"$NETWORK_DIR\"] = \"$BASE_DIR/network_apicalsynapses\"\n",
    "apical_config[\"manifest\"][\"$OUTPUT_DIR\"] = \"$BASE_DIR/output_apicalsynapses\"\n",
    "\n",
    "with open(\"config.lfp_apical.json\", \"w\") as f:\n",
    "    json.dump(apical_config, f, indent=2)\n",
    "\n",
    "print(\"Generated configuration files for basal and apical synapses simulations.\")"
   ]
  },
  {
   "cell_type": "markdown",
   "id": "8de06ee9",
   "metadata": {},
   "source": [
    "### 2. Run the simulation:\n",
    "- Use `BioNet` to run the simulation with the generated config.json file. The simulation should be run for 3 seconds with a time step of 0.1 ms. The results should be saved in the outputs folder.\n",
    "- Remember to compile the [./components/mechanisms](components/mechanisms) before running the simulation. You can do this by running the following command in the terminal:\n",
    "```bash\n",
    "! cd components/mechanisms && nrnivmodl modfiles\n",
    "```\n",
    "\n",
    "We've provided below the code for running the simulation of the network with basal and apical synapses. You can modify the code to run the other two networks (only basal synapses and only apical synapses) by changing the `config.lfp.json` file."
   ]
  },
  {
   "cell_type": "code",
   "execution_count": null,
   "id": "1b6f5a7b",
   "metadata": {},
   "outputs": [],
   "source": [
    "from bmtk.simulator import bionet\n",
    "\n",
    "bionet.reset()\n",
    "conf = bionet.Config.from_json(\"config.lfp.json\")\n",
    "conf.build_env()\n",
    "\n",
    "net = bionet.BioNetwork.from_config(conf)\n",
    "sim = bionet.BioSimulator.from_config(conf, network=net)\n",
    "sim.run()"
   ]
  },
  {
   "cell_type": "markdown",
   "id": "e18c9551",
   "metadata": {},
   "source": [
    "### 3. Plot the results:\n",
    "- Plot the raster plot of the network activity. The x-axis should represent time and the y-axis should represent the neuron index. Use different colors for different populations.\n",
    "- Create a 2D plot of the LFPs recorded by the linear probe. The x-axis should represent time and the y-axis should represent the electrode number.\n",
    "\n",
    "```python\n",
    "_ = plot_raster(\n",
    "    config_file=\"config.lfp.json\",\n",
    "    spikes_file=\"output_allsynapses/spikes.csv\",\n",
    "    title=\"Raster Plot for All Synapses\",\n",
    "    group_by=\"layer\",\n",
    ")\n",
    "\n",
    "_ = plot_ecp(config_file=\"config.lfp_apical.json\", report_name=\"cortical_electrode\")\n",
    "```\n"
   ]
  },
  {
   "cell_type": "markdown",
   "id": "bd817f8b",
   "metadata": {},
   "source": [
    "### 4. Calculate the CSD:\n",
    "- Calculate the CSD from the simulated LFPs using the delta-iCSD method. You can find the implementation of the delta-iCSD method in the [icsd_scripts](icsd_scripts) folder."
   ]
  },
  {
   "cell_type": "code",
   "execution_count": null,
   "id": "cdbbe886",
   "metadata": {},
   "outputs": [],
   "source": [
    "import sys\n",
    "import quantities as pq\n",
    "import pandas as pd\n",
    "import numpy as np\n",
    "import matplotlib.pyplot as plt\n",
    "\n",
    "sys.path.append(\"icsd_scripts/\")\n",
    "\n",
    "import icsd\n",
    "\n",
    "from get_csd_input_dict import get_csd_input_dict\n",
    "\n",
    "delta_icsd_allsynapses = get_csd_input_dict(\n",
    "    \"output_allsynapses/cortical_electrode.h5\",\n",
    ")\n",
    "delta_icsd_basal = get_csd_input_dict(\n",
    "    \"output_basalsynapses/cortical_electrode.h5\",\n",
    ")\n",
    "delta_icsd_apical = get_csd_input_dict(\n",
    "    \"output_apicalsynapses/cortical_electrode.h5\",\n",
    ")"
   ]
  },
  {
   "cell_type": "code",
   "execution_count": null,
   "id": "e9d6e31b",
   "metadata": {},
   "outputs": [],
   "source": [
    "csd_dict = dict(\n",
    "    delta_icsd=icsd.DeltaiCSD(**delta_icsd_allsynapses),\n",
    "    delta_icsd_basal=icsd.DeltaiCSD(**delta_icsd_basal),\n",
    "    delta_icsd_apical=icsd.DeltaiCSD(**delta_icsd_apical),\n",
    ")\n",
    "\n",
    "for method, csd_obj in list(csd_dict.items()):\n",
    "    csd_raw = csd_obj.get_csd()  # num_channels x trial_duration\n",
    "    csd_smooth = csd_obj.filter_csd(csd_raw)  # num_channels x trial_duration"
   ]
  },
  {
   "cell_type": "code",
   "execution_count": null,
   "id": "b567c8a0",
   "metadata": {},
   "outputs": [],
   "source": [
    "import matplotlib.pyplot as plt\n",
    "\n",
    "delta_icsd_dict = dict(\n",
    "    delta_icsd=delta_icsd_allsynapses,\n",
    "    delta_icsd_basal=delta_icsd_basal,\n",
    "    delta_icsd_apical=delta_icsd_apical,\n",
    ")\n",
    "\n",
    "for method, csd_smooth in list(csd_smooth.items()):\n",
    "    fig, axes = plt.subplots(1, 3, figsize=(10, 4))\n",
    "    lfp_data = delta_icsd_dict[method][\"lfp\"]\n",
    "\n",
    "    # plot LFP signal\n",
    "    ax = axes[0]\n",
    "    im = ax.imshow(\n",
    "        np.array(lfp_data),\n",
    "        origin=\"upper\",\n",
    "        vmin=-abs(lfp_data).max(),\n",
    "        vmax=abs(lfp_data).max(),\n",
    "        cmap=\"bwr\",\n",
    "    )\n",
    "    ax.axis(ax.axis(\"tight\"))\n",
    "    cb = plt.colorbar(im, ax=ax)\n",
    "    cb.set_label(\"LFP (%s)\" % lfp_data.dimensionality.string)\n",
    "    ax.set_xticklabels([])\n",
    "    ax.set_title(\"LFP\")\n",
    "    ax.set_ylabel(\"ch #\")\n",
    "\n",
    "    # plot raw csd estimate\n",
    "    ax = axes[1]\n",
    "    im = ax.imshow(\n",
    "        np.array(csd_raw[method]),\n",
    "        origin=\"upper\",\n",
    "        vmin=-abs(csd_raw[method]).max(),\n",
    "        vmax=abs(csd_raw[method]).max(),\n",
    "        cmap=\"jet_r\",\n",
    "    )\n",
    "    ax.axis(ax.axis(\"tight\"))\n",
    "    ax.set_title(csd_obj.name)\n",
    "    cb = plt.colorbar(im, ax=ax)\n",
    "    cb.set_label(\"CSD (%s)\" % csd_raw[method].dimensionality.string)\n",
    "    ax.set_xticklabels([])\n",
    "    ax.set_ylabel(\"ch #\")\n",
    "\n",
    "    # plot spatially filtered csd estimate\n",
    "    ax = axes[2]\n",
    "    im = ax.imshow(\n",
    "        np.array(csd_smooth),\n",
    "        origin=\"upper\",\n",
    "        vmin=-abs(csd_smooth).max(),\n",
    "        vmax=abs(csd_smooth).max(),\n",
    "        cmap=\"jet_r\",\n",
    "    )\n",
    "    ax.axis(ax.axis(\"tight\"))\n",
    "    ax.set_title(csd_obj.name + \", filtered\")\n",
    "    cb = plt.colorbar(im, ax=ax)\n",
    "    cb.set_label(\"CSD (%s)\" % csd_smooth.dimensionality.string)\n",
    "    ax.set_ylabel(\"ch #\")\n",
    "    ax.set_xlabel(\"timestep\")"
   ]
  },
  {
   "cell_type": "markdown",
   "id": "50303b5d",
   "metadata": {},
   "source": []
  }
 ],
 "metadata": {
  "kernelspec": {
   "display_name": "biorealistic-v1",
   "language": "python",
   "name": "python3"
  },
  "language_info": {
   "codemirror_mode": {
    "name": "ipython",
    "version": 3
   },
   "file_extension": ".py",
   "mimetype": "text/x-python",
   "name": "python",
   "nbconvert_exporter": "python",
   "pygments_lexer": "ipython3",
   "version": "3.11.9"
  }
 },
 "nbformat": 4,
 "nbformat_minor": 5
}
