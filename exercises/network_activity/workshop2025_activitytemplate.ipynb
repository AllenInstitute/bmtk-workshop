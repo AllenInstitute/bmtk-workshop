{
 "cells": [
  {
   "cell_type": "code",
   "execution_count": null,
   "metadata": {},
   "outputs": [],
   "source": [
    "import os\n",
    "import shutil\n",
    "from bmtk.builder.networks import NetworkBuilder\n",
    "from bmtk.utils.sim_setup import build_env_bionet\n",
    "from bmtk.simulator import bionet\n",
    "\n",
    "import h5py\n",
    "import matplotlib.pyplot as plt\n",
    "import numpy as np\n",
    "from workshop2025_activityutils import calc_rate_loss"
   ]
  },
  {
   "cell_type": "markdown",
   "metadata": {},
   "source": [
    "## Goal: Create a biophysical neuron model with 3 virtual input populations, that replicates the provided target output trace.\n",
    "\n",
    "Provided:\n",
    "* cell morphology\n",
    "* cell dynamic param file\n",
    "* synapse templates\n",
    "* synapse dynamic param files\n",
    "* Input population spike files\n",
    "\n",
    "Fill in the blanks for each section to simulate a biophysical neuron targetted by 3 distinct input populations. Try to match the target output as closely as possible. If there is a mismatch test out different combinations of parameter choices.\n",
    "\n",
    "Use tutorial 2 as a reference. "
   ]
  },
  {
   "cell_type": "markdown",
   "metadata": {},
   "source": [
    "### Step 1: Build a biophysical neuron"
   ]
  },
  {
   "cell_type": "code",
   "execution_count": null,
   "metadata": {},
   "outputs": [],
   "source": [
    "base_dir = './activity_files'\n",
    "\n",
    "test_file_dir = os.path.join(base_dir, 'test_files') # dir to provided files\n",
    "net_dir = os.path.join(test_file_dir, 'network')\n",
    "input_dir = os.path.join(base_dir, 'inputs')\n",
    "test_path = os.path.join(test_file_dir, 'output')\n",
    "target_path = os.path.join(base_dir, 'targets')\n",
    "\n",
    "if os.path.exists(net_dir):\n",
    "    shutil.rmtree(net_dir)\n",
    "\n",
    "# Build the biophysical neuron\n",
    "# fill in the blanks here, look at tutorial 2 if you need help\n",
    "bneuron = NetworkBuilder('bneuron')\n",
    "bneuron.add_nodes(\n",
    "    cell_name='biophysical_neuron',\n",
    "    potential='exc',\n",
    "    model_type='',\n",
    "    model_template='',\n",
    "    model_processing='',\n",
    "    dynamics_params='473863035_fit.json', # dynamics parameters for the neuron, look at this file to see what parameters are used, do you know what each represents?\n",
    "    morphology='Rorb_325404214_m.swc' # feel free to play around with different morphologies, do they significantly change the results?\n",
    ")\n",
    "\n",
    "\n",
    "bneuron.build()\n",
    "bneuron.save_nodes(output_dir= net_dir)"
   ]
  },
  {
   "cell_type": "markdown",
   "metadata": {},
   "source": [
    "### Step 2: Define the input populations\n",
    "\n",
    "Choose the name of the first input population and create 2 more 'virtual' input populations.\n"
   ]
  },
  {
   "cell_type": "code",
   "execution_count": null,
   "metadata": {},
   "outputs": [],
   "source": [
    "# Input 1\n",
    "input1 = NetworkBuilder('input1')\n",
    "input1.add_nodes(\n",
    "    N=10, # number of nodes in the population\n",
    "    pop_name='', # name of the population, this will be used to identify the population in the output files\n",
    "    potential='exc', # potential of the input network, can be 'exc' or 'inh'\n",
    "    model_type='virtual'\n",
    ")\n",
    "\n",
    "# Input 2\n",
    "\n",
    "# Input 3"
   ]
  },
  {
   "cell_type": "markdown",
   "metadata": {},
   "source": [
    "### Step 3: Connect the inputs to the main neuron\n",
    "\n",
    "This is where you design the connection rule between your inputs and target neuron! What does each argument do? How do you choose what to put? \n",
    "\n",
    "If your simulation output looks different from the target play around with these fields, how does each one change the resulting output?\n",
    "\n",
    "(Hint: you might also need to modify the potential of your input networks)"
   ]
  },
  {
   "cell_type": "code",
   "execution_count": null,
   "metadata": {},
   "outputs": [],
   "source": [
    "# input 1\n",
    "input1.add_edges(\n",
    "    source={'pop_name': 'input1'}, target=bneuron.nodes(),\n",
    "    connection_rule=10, # connection rule for the edges, for this exercise set as an integer (number of connections per neuron) \n",
    "    syn_weight=0.001, # synaptic weight for the edges, this is the strength of the connection\n",
    "    delay= 2.0, # delay for the edges, provided.\n",
    "    weight_function=None, # weight function for the edges, can be None or a string pointing to a weight function file. Set to None for this exercise.\n",
    "    target_sections=[''], # section of the neuron to connect to, can be 'soma', 'apical', or 'basal'\n",
    "    distance_range=[0.0, 150.0], # range of the cell section to connect to, provided for input 1 (not necessarily the same for all 3 inputs).\n",
    "    dynamics_params='', # dynamics parameters for the synapse, look at the provided files to see what options are available.\n",
    "    model_template='' # model template for the synapse, look at the provided test_files/synaptic_models dir to see what options are available.\n",
    ")\n",
    "\n",
    "input1.build()\n",
    "input1.save_nodes(output_dir=net_dir)\n",
    "input1.save_edges(output_dir=net_dir)\n",
    "\n",
    "# input 2\n",
    "\n",
    "# input 3\n"
   ]
  },
  {
   "cell_type": "markdown",
   "metadata": {},
   "source": [
    "### Step 4: Build the network and run the simulation\n",
    "\n",
    "If this cell throws a hocobj_call error try restarting the kernel and running again. "
   ]
  },
  {
   "cell_type": "code",
   "execution_count": null,
   "metadata": {},
   "outputs": [],
   "source": [
    "dt = 0.01  # time step for the simulation\n",
    "build_env_bionet(\n",
    "    base_dir=test_file_dir,\n",
    "    config_file='config.json',\n",
    "    network_dir=net_dir,\n",
    "    tstop=3000.0, dt=dt,\n",
    "    report_vars=['v', 'cai'],    # Record membrane potential and calcium (default recording from the soma)\n",
    "    spikes_inputs=[('input1', \n",
    "                    os.path.join(input_dir, 'input1_spikes.h5')),\n",
    "                    ('input2', \n",
    "                    os.path.join(input_dir,'input2_spikes.h5')),\n",
    "                    ('input3', \n",
    "                    os.path.join(input_dir,'input3_spikes.h5'))],\n",
    "    include_examples=True,       # Copies components files, only run once set to false after\n",
    "    compile_mechanisms=True,      # Will try to compile NEURON mechanisms, only run once set to false after\n",
    "    overwrite_config=True, # Overwrite the config file if it exists\n",
    ")\n",
    "\n",
    "conf = bionet.Config.from_json(os.path.join(test_file_dir,'config.json'))\n",
    "conf.build_env()\n",
    "net = bionet.BioNetwork.from_config(conf)\n",
    "sim = bionet.BioSimulator.from_config(conf, network=net)\n",
    "sim.run()"
   ]
  },
  {
   "cell_type": "markdown",
   "metadata": {},
   "source": [
    "### Step 5: Examine results and compare to target traces"
   ]
  },
  {
   "cell_type": "code",
   "execution_count": null,
   "metadata": {},
   "outputs": [],
   "source": [
    "# load in the simulation output files\n",
    "with h5py.File(os.path.join(test_path, 'v_report.h5'), 'r') as file:\n",
    "    test_vData = file['report']['bneuron']['data'][:]\n",
    "\n",
    "with h5py.File(os.path.join(test_path, 'cai_report.h5'), 'r') as file:\n",
    "    test_cData = file['report']['bneuron']['data'][:]\n",
    "\n",
    "with h5py.File(os.path.join(test_path, 'spikes.h5'), 'r') as file:\n",
    "    print(file['spikes']['bneuron']['timestamps'].shape)\n",
    "    test_spikes = file['spikes']['bneuron']['timestamps'][:]\n",
    "\n",
    "# load in target data\n",
    "with h5py.File(os.path.join(target_path, 'v_report.h5'), 'r') as file:\n",
    "    target_vData = file['report']['bneuron']['data'][:]\n",
    "\n",
    "with h5py.File(os.path.join(target_path, 'cai_report.h5'), 'r') as file:\n",
    "    target_cData = file['report']['bneuron']['data'][:]\n",
    "\n",
    "with h5py.File(os.path.join(target_path, 'spikes.h5'), 'r') as file:\n",
    "    target_spikes = file['spikes']['bneuron']['timestamps'][:]\n",
    "\n",
    "# calculate the rate loss\n",
    "rate_loss, target_rate, test_rate = calc_rate_loss(test_vData, target_vData, -10, dt, 1000)\n",
    "\n",
    "# plot target and test data\n",
    "time = np.linspace(0, len(target_vData) * 0.1, len(target_vData))\n",
    "fig, ax = plt.subplots(3, 1, figsize=(10, 6))\n",
    "ax[0].plot(time, target_vData)\n",
    "ax[0].plot(time, test_vData, alpha = 0.7)\n",
    "ax[0].set_title('Membrane Potential')\n",
    "ax[0].set_xlabel('Time (ms)')\n",
    "ax[0].set_xlim([min(time), max(time)])\n",
    "\n",
    "ax[1].plot(time, target_rate)\n",
    "ax[1].plot(time, test_rate, alpha = 0.7)\n",
    "ax[1].set_title('Smooth Firing Rate')\n",
    "ax[1].set_xlabel('Time (ms)')\n",
    "ax[1].set_xlim([min(time), max(time)])\n",
    "\n",
    "ax[2].plot(time, target_cData, label='Target')\n",
    "ax[2].plot(time, test_cData, label='Test', alpha = 0.7)\n",
    "ax[2].legend()\n",
    "ax[2].set_title('Calcium Concentration')\n",
    "ax[2].set_xlabel('Time (ms)')\n",
    "ax[2].set_xlim([min(time), max(time)])\n",
    "\n",
    "plt.tight_layout()\n",
    "\n",
    "print('Number of Target Spikes: {}'.format(len(target_spikes)))\n",
    "print('Number of Test Spikes: {}'.format(len(test_spikes)))\n",
    "print(f'Rate loss: {rate_loss}')\n"
   ]
  }
 ],
 "metadata": {
  "kernelspec": {
   "display_name": "Python 3 (ipykernel)",
   "language": "python",
   "name": "python3"
  },
  "language_info": {
   "codemirror_mode": {
    "name": "ipython",
    "version": 3
   },
   "file_extension": ".py",
   "mimetype": "text/x-python",
   "name": "python",
   "nbconvert_exporter": "python",
   "pygments_lexer": "ipython3",
   "version": "3.11.13"
  }
 },
 "nbformat": 4,
 "nbformat_minor": 4
}
