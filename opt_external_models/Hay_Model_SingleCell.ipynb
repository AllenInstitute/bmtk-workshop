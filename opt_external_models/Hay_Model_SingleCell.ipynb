{
 "cells": [
  {
   "cell_type": "markdown",
   "id": "9e6ef3db",
   "metadata": {},
   "source": [
    "# Step 1. Build the cell"
   ]
  },
  {
   "cell_type": "markdown",
   "id": "abe9d87f",
   "metadata": {},
   "source": [
    "Here we just have to specify the name of the hoc-template and the morphology, files which should be found in `components/templates/` and `components/morphologies`, respectively.\n",
    "\n",
    "In this model, the dynamic params are built into the .hoc files so there is no need to specify a **dynamics_params** attribute. Similarly there is no need for axon post-processing in these models so we no longer have a **model_processing** attribute.\n",
    "\n",
    "The other attributes are optional and can be removed or used for the Hay model specifically."
   ]
  },
  {
   "cell_type": "code",
   "execution_count": 1,
   "id": "cf9f4baa",
   "metadata": {},
   "outputs": [
    {
     "name": "stderr",
     "output_type": "stream",
     "text": [
      "WARNING:root:No edges have been made for this network, skipping saving of edges file.\n"
     ]
    }
   ],
   "source": [
    "from bmtk.builder.networks import NetworkBuilder\n",
    "\n",
    "net = NetworkBuilder('cell')\n",
    "net.add_nodes(\n",
    "    N=1,\n",
    "    model_type='biophysical',\n",
    "    model_template='hoc:L5PCtemplate.hoc',\n",
    "    morphology='cell3.asc',\n",
    "    \n",
    "    # optional\n",
    "    # ei_type='exc',\n",
    "    # model_name='Scnn1a',\n",
    "    # species='mouse',\n",
    "    # location='VISp',\n",
    "    # layer='L4'\n",
    ")\n",
    "net.build()\n",
    "net.save(output_dir='network')"
   ]
  },
  {
   "cell_type": "markdown",
   "id": "d4887333",
   "metadata": {},
   "source": [
    "\n",
    "Next, we can add synaptic inputs like we did in the workshop. Note that some properties like **target_sections** and **syn_weight** can and should be adjusted according to the target model type."
   ]
  },
  {
   "cell_type": "code",
   "execution_count": 2,
   "id": "38cdd4b2",
   "metadata": {},
   "outputs": [],
   "source": [
    "virt_exc = NetworkBuilder('virt_exc')\n",
    "virt_exc.add_nodes(\n",
    "    N=20,\n",
    "    model_type='virtual',\n",
    "    ei_type='exc'\n",
    ")\n",
    "conns = virt_exc.add_edges(\n",
    "    source=virt_exc.nodes(),\n",
    "    target=net.nodes(),\n",
    "    connection_rule=12,\n",
    "    model_template='Exp2Syn',\n",
    "    dynamics_params='AMPA_ExcToExc.json',\n",
    "    distance_range=[0.0, 1.0e20],\n",
    "    target_sections=['soma', 'basal', 'apical'],\n",
    "    delay=2.0,\n",
    "    syn_weight=0.01\n",
    ")\n",
    "\n",
    "virt_exc.build()\n",
    "virt_exc.save(output_dir='network')"
   ]
  },
  {
   "cell_type": "markdown",
   "id": "d3230a4d",
   "metadata": {},
   "source": [
    "# Step 2: Running the model"
   ]
  },
  {
   "cell_type": "markdown",
   "id": "06ba21d8",
   "metadata": {},
   "source": [
    "To create a cell object from the L5PCtemplate.hoc, we need some specialized code to load in the NEURON template. To do that, we create a special function called loadHayModel that includes customized Python instructions for initializing and building our cell. \n",
    "\n",
    "We use the custom Python **decorator** `@bionet.cell_model` to tell BMTK that whenever a cell has **model_template=hoc:L5PCtemplate.hoc\"**, it should call the `loadHayModel` function, which will build the cell and return it as a HOC object. We can also use the `cell_model` template for loading other models, if necessary."
   ]
  },
  {
   "cell_type": "code",
   "execution_count": 1,
   "id": "a8f05216",
   "metadata": {},
   "outputs": [],
   "source": [
    "from bmtk.simulator import bionet\n",
    "from neuron import h\n",
    "\n",
    "\n",
    "h.load_file(\"import3d.hoc\")\n",
    "\n",
    "@bionet.cell_model(directive='hoc:L5PCtemplate.hoc', model_type='biophysical')\n",
    "def loadHayModel(cell, template_name, dynamics_params):\n",
    "    morphology_file = cell['morphology']\n",
    "    hobj = h.L5PCtemplate(str(morphology_file))\n",
    "    return hobj"
   ]
  },
  {
   "cell_type": "markdown",
   "id": "8842ff7c",
   "metadata": {},
   "source": [
    "After that the simulation can be ran like normal"
   ]
  },
  {
   "cell_type": "code",
   "execution_count": null,
   "id": "a751669e",
   "metadata": {},
   "outputs": [
    {
     "name": "stdout",
     "output_type": "stream",
     "text": [
      "2024-04-29 11:29:02,857 [INFO] Created log file\n"
     ]
    },
    {
     "name": "stderr",
     "output_type": "stream",
     "text": [
      "NEURON: Import3d_Section : a template cannot be redefined\n",
      " in import3d/import3d_sec.hoc near line 1\n",
      " begintemplate Import3d_Section\n",
      "                              ^\n",
      "        xopen(\"import3d/i...\")\n",
      "      xopen(\"import3d.hoc\")\n",
      "    execute1(\"{xopen(\"im...\")\n",
      "  load_file(\"/local1/wo...\")\n",
      "NEURON: Im is not a MECHANISM\n",
      " in L5PCbiophys4.hoc near line 22\n",
      "   \tinsert Im \n",
      "            ^\n",
      "        xopen(\"L5PCbiophy...\")\n",
      "  "
     ]
    },
    {
     "name": "stdout",
     "output_type": "stream",
     "text": [
      "NEURON mechanisms not found in ./components/mechanisms.\n"
     ]
    },
    {
     "name": "stderr",
     "output_type": "stream",
     "text": [
      "    execute1(\"{xopen(\"L5...\")\n",
      "    load_file(\"L5PCbiophy...\")\n"
     ]
    },
    {
     "name": "stdout",
     "output_type": "stream",
     "text": [
      "2024-04-29 11:29:03,148 [INFO] Building cells.\n"
     ]
    }
   ],
   "source": [
    "from bmtk.simulator import bionet\n",
    "\n",
    "bionet.reset()\n",
    "# conf = bionet.Config.from_json('config.iclamp.json')\n",
    "conf = bionet.Config.from_json('config.with_syns.json')\n",
    "conf.build_env()\n",
    "\n",
    "net = bionet.BioNetwork.from_config(conf)\n",
    "sim = bionet.BioSimulator.from_config(conf, network=net)\n",
    "sim.run()"
   ]
  },
  {
   "cell_type": "markdown",
   "id": "1c4fef7b",
   "metadata": {},
   "source": [
    "Like with the Allen Institute model, the Hay NEURON model will record variables like spikes, membrane traces, and other parameters that BMTK will instruct it to. The output is in the same format, and thus, we can read it like with the models we used in the workshop."
   ]
  },
  {
   "cell_type": "code",
   "execution_count": 11,
   "id": "fc6b31b7",
   "metadata": {},
   "outputs": [
    {
     "data": {
      "image/png": "[encoded data removed]",
      "text/plain": [
       "<Figure size 432x288 with 2 Axes>"
      ]
     },
     "metadata": {
      "needs_background": "light"
     },
     "output_type": "display_data"
    },
    {
     "data": {
      "image/png": "[encoded data removed]",
      "text/plain": [
       "<Figure size 432x288 with 1 Axes>"
      ]
     },
     "metadata": {
      "needs_background": "light"
     },
     "output_type": "display_data"
    }
   ],
   "source": [
    "from bmtk.analyzer.spike_trains import plot_raster\n",
    "from bmtk.analyzer.compartment import plot_traces\n",
    "\n",
    "_ = plot_raster(config_file='config.with_syns.json')\n",
    "_ = plot_traces(config_file='config.with_syns.json', report_name='v_report')"
   ]
  },
  {
   "cell_type": "code",
   "execution_count": null,
   "id": "6f7fa777",
   "metadata": {},
   "outputs": [],
   "source": []
  }
 ],
 "metadata": {
  "kernelspec": {
   "display_name": "Python 3 (ipykernel)",
   "language": "python",
   "name": "python3"
  },
  "language_info": {
   "codemirror_mode": {
    "name": "ipython",
    "version": 3
   },
   "file_extension": ".py",
   "mimetype": "text/x-python",
   "name": "python",
   "nbconvert_exporter": "python",
   "pygments_lexer": "ipython3",
   "version": "3.12.3"
  }
 },
 "nbformat": 4,
 "nbformat_minor": 5
}
