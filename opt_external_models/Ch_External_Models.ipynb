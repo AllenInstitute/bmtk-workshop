{
 "cells": [
  {
   "cell_type": "markdown",
   "id": "b365f293-55b6-467d-acdb-ec110988c8fd",
   "metadata": {},
   "source": [
    "# Using Customized and External Models"
   ]
  },
  {
   "cell_type": "markdown",
   "id": "88d41f7b-4ff9-4f25-99fd-9bc0c0804fa5",
   "metadata": {},
   "source": [
    "Through the previous tutorials we've be using networks that are built off of cell-models that are downloaded from the [Allen Cell-Types Database](https://celltypes.brain-map.org/data). While the Allen Cell-Types Databases has a wide and continuing growing selection of optimized cell-type models to download and use, for many scientists it may not meet their needs. BMTK supports the ability to incorporate many different types and cell and synaptic models into their simulations. Including pre-built models from non-Allen Institute organizations as-well-as allowing users multiple ways to create their own customized models. \n",
    "\n",
    "In the following we will show users multiple ways they can import or create their own models."
   ]
  },
  {
   "cell_type": "markdown",
   "id": "f4044c5b-901c-4ef5-8dac-7998c6f0d2cc",
   "metadata": {},
   "source": [
    "## BioNet Cell models\n",
    "\n",
    "This section will focus on single-cell spiking models, including condutance-based models, with multiple channels and/or compartments per model. We do not recommend using Rates-based models with BioNet and will likely not work."
   ]
  },
  {
   "cell_type": "markdown",
   "id": "a08c7955-0ed7-427a-a7eb-dbf97e212cc8",
   "metadata": {},
   "source": [
    "### Hoc Models\n",
    "\n"
   ]
  },
  {
   "cell_type": "markdown",
   "id": "406d9391-8865-44a6-ba50-16dc2df98a3b",
   "metadata": {
    "jp-MarkdownHeadingCollapsed": true
   },
   "source": [
    "#### Tutorial: Loading in a Simple Hoc Model"
   ]
  },
  {
   "cell_type": "markdown",
   "id": "392eeeb2-95f7-44c6-a75f-6a2a8c20dc3c",
   "metadata": {},
   "source": [
    "\n",
    "##### Step 1: \n",
    "\n",
    "**Note**: *This step has already been done in the current notebook and does not need to be repeated, but may be useful when intializing other examples*\n",
    "\n",
    "First Thing we'll do is to download and unpack the model files from ModelDB, which for the Hay L5PC models can be found at  [https://modeldb.science/139653](https://modeldb.science/139653). At the site you can use the download button to download a zip file with the appropiate .hoc (cell model), .mod (ion channels), and .asc (morphologies) files.\n",
    "\n",
    "\n",
    "<br>\n",
    "<div>\n",
    "  <img src=\"../images/modeldb_hay_screen.png\" width=\"800\" align=\"center\" style=\"margin-left:5px\"/>    \n",
    "</div>\n",
    "<br clear=\"left\">\n",
    "\n",
    "To run properly we will need to move the following files from the download zip file into our **components/** folder so BMTK will be able to find them during the simulation:\n",
    "* Move **mod/** folder => **componets/mechanisms/mod/**.\n",
    "* Move **morphologies/\\*.asc** files => **components/morphologies/** folder.\n",
    "* Move **models/L5PCtemplate.hoc** and **models/L5PCbiophys4.hoc** => **componets/templates/** folder (*note*: The zip file contains four different version of L5PCbiophys model stored in different hoc files. However only one can be loaded into NEURON at a time, hence we are only moving one of the files and not all of them).\n",
    " \n"
   ]
  },
  {
   "cell_type": "markdown",
   "id": "b89a7c1e-8b28-4db5-bf96-9598dc3d8bb0",
   "metadata": {},
   "source": [
    "The model contains customized ion channels in the **components/mechanisms/mod/** folder that require compiling using the `nrnivmod` command. In a shell or using jupyter notebook you'll need to run the following:"
   ]
  },
  {
   "cell_type": "code",
   "execution_count": 12,
   "id": "933ad3b3-d8ea-4b14-add0-554f3723571b",
   "metadata": {},
   "outputs": [
    {
     "name": "stdout",
     "output_type": "stream",
     "text": [
      "/local1/.local/miniconda-23.10.0/bin:/local1/.local/miniconda-23.10.0/condabin:/local1/.local/miniconda-23.10.0/bin:/local1/apps/pycharm/bin:/usr/local/bin:/usr/local/sbin:/usr/lib64/qt-3.3/bin:/home/kaeld/perl5/bin:/usr/local/bin:/usr/local/sbin:/usr/bin:/usr/sbin:/bin:/sbin:/home/kaeld/.rvm/bin:/home/kaeld/.rvm/bin:/usr/pgsql-9.4/bin:/home/kaeld/bin\n"
     ]
    }
   ],
   "source": [
    "! cd components/mechanisms && nrnivmodl modfiles"
   ]
  },
  {
   "cell_type": "markdown",
   "id": "9674554b-2bdb-4454-81d6-43cf6f9fe082",
   "metadata": {},
   "source": [
    "##### Step 2: Building the Network\n",
    "\n",
    "Build a network using the downloaded L5PC Hay model is very similiar to how we built biophysically detailed network models in [previous chapters](../Ch3_multicells/3.%20Multipopulation%20biophysical.ipynb). We use the `add_nodes()` method to add a population of 1 or more L5PC `biophsyical` cells and use the `add_edges()` to connect them up with other cells. But due to the model type and parameters we will need to make some changes vs how we utilize Allen-Cell Type models\n",
    "\n",
    "* We set **model_template**=`hoc:L5PCtemplate` instead of the Allen `ctdb:Biophys1` value. The name of the Hoc Template for loading this particular model comes from the components/templates/L5PCtemplate.hoc file\n",
    "* In our Allen Cell-Types models we had set value **model_processing** to 'aibs_perisomatic', which told bmtk to call special post-intialization directive `aibs_perisomatic` which would modify each cell object in a specific manner. Although it is possible to create custom directives to update and modify each cell after the template has been loaded (see below), we don't want to do so and instead leave the model_processing attribute blank.\n",
    "* In our Allen Cell-Types models we also had a **dynamics_params** option to would go through update and add cell parameters after the cell has been initialzed. However for our L5PC Hay model we have no current need to update the parameters (we'll instead use the parameter values that are stored in the .hoc files) we will not have any dynamics_params attributes.\n",
    "\n",
    "\n",
    "    "
   ]
  },
  {
   "cell_type": "code",
   "execution_count": 15,
   "id": "ef2cc58c-6104-48ab-9c90-8c2ae3366597",
   "metadata": {},
   "outputs": [
    {
     "name": "stderr",
     "output_type": "stream",
     "text": [
      "WARNING:root:No edges have been made for this network, skipping saving of edges file.\n"
     ]
    }
   ],
   "source": [
    "from bmtk.builder.networks import NetworkBuilder\n",
    "\n",
    "net = NetworkBuilder('cell')\n",
    "net.add_nodes(\n",
    "    N=10,\n",
    "    model_type='biophysical',\n",
    "    model_template='hoc:L5PCtemplate',\n",
    "    morphology='cell3.asc'\n",
    ")\n",
    "net.build()\n",
    "net.save(output_dir='network')"
   ]
  },
  {
   "cell_type": "code",
   "execution_count": 16,
   "id": "0f5ce031-8c95-4d89-846e-cba00e282ab1",
   "metadata": {},
   "outputs": [],
   "source": [
    "virt_exc = NetworkBuilder('virt_exc')\n",
    "virt_exc.add_nodes(\n",
    "    N=20,\n",
    "    model_type='virtual',\n",
    "    ei_type='exc'\n",
    ")\n",
    "conns = virt_exc.add_edges(\n",
    "    source=virt_exc.nodes(),\n",
    "    target=net.nodes(),\n",
    "    connection_rule=12,\n",
    "    model_template='Exp2Syn',\n",
    "    dynamics_params='AMPA_ExcToExc.json',\n",
    "    distance_range=[0.0, 1.0e20],\n",
    "    target_sections=['soma', 'basal', 'apical'],\n",
    "    delay=2.0,\n",
    "    syn_weight=0.01\n",
    ")\n",
    "\n",
    "virt_exc.build()\n",
    "virt_exc.save(output_dir='network')"
   ]
  },
  {
   "cell_type": "markdown",
   "id": "630bbd89-4ba9-4878-be1e-11a7e90ad732",
   "metadata": {},
   "source": [
    "##### Step 3: Running the simulation\n",
    "\n",
    "Running the simulation with the download L5PC models is no different than running the simulations with the Allen Cell-Types Database cell models. BMTK will be able to use the configuration **components** sections along with the **model_template** and **morphology** values to automatically load in our 10 L5PC cells. The results for these cells, including spikes, Vm traces, etc; will be saved in the same format and paths as with our other examples."
   ]
  },
  {
   "cell_type": "code",
   "execution_count": 17,
   "id": "6a5659ff-4ec4-4f4a-afd2-16291b8b6738",
   "metadata": {},
   "outputs": [
    {
     "name": "stdout",
     "output_type": "stream",
     "text": [
      "numprocs=1\n",
      "2024-04-29 16:58:19,169 [INFO] Created log file\n"
     ]
    },
    {
     "name": "stderr",
     "output_type": "stream",
     "text": [
      "INFO:NEURONIOUtils:Created log file\n"
     ]
    },
    {
     "name": "stdout",
     "output_type": "stream",
     "text": [
      "2024-04-29 16:58:19,247 [INFO] Building cells.\n"
     ]
    },
    {
     "name": "stderr",
     "output_type": "stream",
     "text": [
      "INFO:NEURONIOUtils:Building cells.\n"
     ]
    },
    {
     "name": "stdout",
     "output_type": "stream",
     "text": [
      "2024-04-29 16:58:30,738 [INFO] Building recurrent connections\n"
     ]
    },
    {
     "name": "stderr",
     "output_type": "stream",
     "text": [
      "INFO:NEURONIOUtils:Building recurrent connections\n"
     ]
    },
    {
     "name": "stdout",
     "output_type": "stream",
     "text": [
      "2024-04-29 16:58:30,769 [INFO] Building virtual cell stimulations for virt_exc_spikes\n"
     ]
    },
    {
     "name": "stderr",
     "output_type": "stream",
     "text": [
      "INFO:NEURONIOUtils:Building virtual cell stimulations for virt_exc_spikes\n"
     ]
    },
    {
     "name": "stdout",
     "output_type": "stream",
     "text": [
      "2024-04-29 16:58:30,910 [INFO] Running simulation for 3000.000 ms with the time step 0.100 ms\n"
     ]
    },
    {
     "name": "stderr",
     "output_type": "stream",
     "text": [
      "INFO:NEURONIOUtils:Running simulation for 3000.000 ms with the time step 0.100 ms\n"
     ]
    },
    {
     "name": "stdout",
     "output_type": "stream",
     "text": [
      "2024-04-29 16:58:30,911 [INFO] Starting timestep: 0 at t_sim: 0.000 ms\n"
     ]
    },
    {
     "name": "stderr",
     "output_type": "stream",
     "text": [
      "INFO:NEURONIOUtils:Starting timestep: 0 at t_sim: 0.000 ms\n"
     ]
    },
    {
     "name": "stdout",
     "output_type": "stream",
     "text": [
      "2024-04-29 16:58:30,913 [INFO] Block save every 5000 steps\n"
     ]
    },
    {
     "name": "stderr",
     "output_type": "stream",
     "text": [
      "INFO:NEURONIOUtils:Block save every 5000 steps\n"
     ]
    },
    {
     "name": "stdout",
     "output_type": "stream",
     "text": [
      "2024-04-29 16:59:06,140 [INFO]     step:5000 t_sim:500.00 ms\n"
     ]
    },
    {
     "name": "stderr",
     "output_type": "stream",
     "text": [
      "INFO:NEURONIOUtils:    step:5000 t_sim:500.00 ms\n"
     ]
    },
    {
     "name": "stdout",
     "output_type": "stream",
     "text": [
      "2024-04-29 16:59:41,326 [INFO]     step:10000 t_sim:1000.00 ms\n"
     ]
    },
    {
     "name": "stderr",
     "output_type": "stream",
     "text": [
      "INFO:NEURONIOUtils:    step:10000 t_sim:1000.00 ms\n"
     ]
    },
    {
     "name": "stdout",
     "output_type": "stream",
     "text": [
      "2024-04-29 17:00:14,952 [INFO]     step:15000 t_sim:1500.00 ms\n"
     ]
    },
    {
     "name": "stderr",
     "output_type": "stream",
     "text": [
      "INFO:NEURONIOUtils:    step:15000 t_sim:1500.00 ms\n"
     ]
    },
    {
     "name": "stdout",
     "output_type": "stream",
     "text": [
      "2024-04-29 17:00:51,491 [INFO]     step:20000 t_sim:2000.00 ms\n"
     ]
    },
    {
     "name": "stderr",
     "output_type": "stream",
     "text": [
      "INFO:NEURONIOUtils:    step:20000 t_sim:2000.00 ms\n"
     ]
    },
    {
     "name": "stdout",
     "output_type": "stream",
     "text": [
      "2024-04-29 17:01:25,900 [INFO]     step:25000 t_sim:2500.00 ms\n"
     ]
    },
    {
     "name": "stderr",
     "output_type": "stream",
     "text": [
      "INFO:NEURONIOUtils:    step:25000 t_sim:2500.00 ms\n"
     ]
    },
    {
     "name": "stdout",
     "output_type": "stream",
     "text": [
      "2024-04-29 17:01:59,371 [INFO]     step:30000 t_sim:3000.00 ms\n"
     ]
    },
    {
     "name": "stderr",
     "output_type": "stream",
     "text": [
      "INFO:NEURONIOUtils:    step:30000 t_sim:3000.00 ms\n"
     ]
    },
    {
     "name": "stdout",
     "output_type": "stream",
     "text": [
      "2024-04-29 17:01:59,403 [INFO] Simulation completed in 3.0 minutes, 28.49 seconds \n"
     ]
    },
    {
     "name": "stderr",
     "output_type": "stream",
     "text": [
      "INFO:NEURONIOUtils:Simulation completed in 3.0 minutes, 28.49 seconds \n"
     ]
    }
   ],
   "source": [
    "from bmtk.simulator import bionet\n",
    "\n",
    "bionet.reset()\n",
    "# conf = bionet.Config.from_json('config.iclamp.json')\n",
    "conf = bionet.Config.from_json('config.with_syns.json')\n",
    "conf.build_env()\n",
    "\n",
    "net = bionet.BioNetwork.from_config(conf)\n",
    "sim = bionet.BioSimulator.from_config(conf, network=net)\n",
    "sim.run()"
   ]
  },
  {
   "cell_type": "markdown",
   "id": "0c24a66f-8db0-44b0-948e-c4dbf9f93210",
   "metadata": {},
   "source": [
    "#### Tutorial: Overloading HOC Template initialization\n",
    "\n",
    "\n"
   ]
  },
  {
   "cell_type": "markdown",
   "id": "76b4dafc-4f86-4013-aee0-3188269e5a43",
   "metadata": {},
   "source": [
    "###  NeuroML Models"
   ]
  },
  {
   "cell_type": "markdown",
   "id": "642172f8-b7f3-4216-8a67-15e530b97c94",
   "metadata": {},
   "source": [
    "### Building your own models from scratch"
   ]
  },
  {
   "cell_type": "code",
   "execution_count": null,
   "id": "671db174-eed3-45e9-8adb-cae97da37b65",
   "metadata": {},
   "outputs": [],
   "source": []
  }
 ],
 "metadata": {
  "kernelspec": {
   "display_name": "bmtk-py3.10",
   "language": "python",
   "name": "bmtk-py3.10"
  },
  "language_info": {
   "codemirror_mode": {
    "name": "ipython",
    "version": 3
   },
   "file_extension": ".py",
   "mimetype": "text/x-python",
   "name": "python",
   "nbconvert_exporter": "python",
   "pygments_lexer": "ipython3",
   "version": "3.10.13"
  }
 },
 "nbformat": 4,
 "nbformat_minor": 5
}
