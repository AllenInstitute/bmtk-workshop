{
 "cells": [
  {
   "cell_type": "markdown",
   "id": "51cfd293-7d19-4144-8fcf-5722f88631ee",
   "metadata": {},
   "source": [
    "# Using the Mouse Primary Visual Cortex (V1) model with BMTK"
   ]
  },
  {
   "cell_type": "code",
   "execution_count": null,
   "id": "53a632d5-22cd-44f6-ae51-472f32c0d1c4",
   "metadata": {},
   "outputs": [],
   "source": []
  },
  {
   "cell_type": "markdown",
   "id": "c8e6ab0e-bd3a-4cd1-8efa-b3f4f1a311da",
   "metadata": {
    "jp-MarkdownHeadingCollapsed": true
   },
   "source": [
    "## Downloading and running the biophysical V1 model"
   ]
  },
  {
   "cell_type": "code",
   "execution_count": null,
   "id": "9e4a6be4-5a94-459a-9692-480b53324429",
   "metadata": {},
   "outputs": [],
   "source": []
  },
  {
   "cell_type": "markdown",
   "id": "5bf54297-6279-436a-8b0a-00c126610d99",
   "metadata": {
    "jp-MarkdownHeadingCollapsed": true
   },
   "source": [
    "## Downloading and running the glif (point-neuron) V1 model."
   ]
  },
  {
   "cell_type": "code",
   "execution_count": null,
   "id": "a706e87b-6b34-4ac1-9196-1f897975a17d",
   "metadata": {},
   "outputs": [],
   "source": []
  },
  {
   "cell_type": "markdown",
   "id": "612746b4-13f3-42f8-a3c1-ff0905409554",
   "metadata": {
    "jp-MarkdownHeadingCollapsed": true
   },
   "source": [
    "## Generating the LGN inputs using FilterNet"
   ]
  },
  {
   "cell_type": "code",
   "execution_count": null,
   "id": "68783e37-95ed-4b04-af3b-3751d4410dcc",
   "metadata": {},
   "outputs": [],
   "source": []
  },
  {
   "cell_type": "markdown",
   "id": "72c800aa-a13e-45aa-bd5e-2543434e356a",
   "metadata": {
    "jp-MarkdownHeadingCollapsed": true
   },
   "source": [
    "## Rebuilding the Model"
   ]
  },
  {
   "cell_type": "code",
   "execution_count": null,
   "id": "47d77d94-8f2e-4368-9f52-7b1e2abe70c6",
   "metadata": {},
   "outputs": [],
   "source": []
  },
  {
   "cell_type": "markdown",
   "id": "badddad2-dfd0-404c-9e05-8f46ac0c36af",
   "metadata": {
    "jp-MarkdownHeadingCollapsed": true
   },
   "source": [
    "## Updated versions of the model"
   ]
  },
  {
   "cell_type": "code",
   "execution_count": null,
   "id": "c1012460-c3d7-4b9b-a1b8-2b6c963d6164",
   "metadata": {},
   "outputs": [],
   "source": []
  }
 ],
 "metadata": {
  "kernelspec": {
   "display_name": "Python 3 (ipykernel)",
   "language": "python",
   "name": "python3"
  },
  "language_info": {
   "codemirror_mode": {
    "name": "ipython",
    "version": 3
   },
   "file_extension": ".py",
   "mimetype": "text/x-python",
   "name": "python",
   "nbconvert_exporter": "python",
   "pygments_lexer": "ipython3",
   "version": "3.10.14"
  }
 },
 "nbformat": 4,
 "nbformat_minor": 5
}
