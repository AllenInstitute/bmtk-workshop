{
 "cells": [
  {
   "cell_type": "markdown",
   "id": "12cb39af-dc4e-4c43-8113-7c74b5f72562",
   "metadata": {},
   "source": [
    "# Recording Extracellular Potentials and Current Source Densities"
   ]
  },
  {
   "cell_type": "markdown",
   "id": "9b01bb08-b268-4dcf-904f-56fdde5dbb2e",
   "metadata": {},
   "source": [
    "Extracellular local field potential (LFP) recordings are among the most common electrophysiological recordings for studying brain function. Thus, many scientists might be interested in recording LFPs while simulating the activity of brain circuits to replicate or compare to in-vivo experimental recordings. This tutorial shows how to record extracellular LFPs with BioNet, modify the extracellular resistance, and calculate the current source density (CSD) generating the measured LFPs. "
   ]
  },
  {
   "cell_type": "markdown",
   "id": "21999a38-59d7-4a7a-a2e6-a7aebfe6b528",
   "metadata": {},
   "source": [
    "---\n",
    "\n",
    "## Contents\n",
    "1. [Example: Recording Extracellular Local Field Potentials (LFPs)](#example-lfps)\n",
    "2. [Example: Calculating the Current Source Density (CSD)](#example-cal-csd)\n",
    "\n",
    "\n",
    "---"
   ]
  },
  {
   "cell_type": "markdown",
   "id": "8775ca0d-2a02-443c-926d-df0e4e9baadd",
   "metadata": {},
   "source": [
    "## Example: Recording Extracellular Local Field Potentials (LFPs) <a class=\"anchor\" id=\"example-lfps\">"
   ]
  },
  {
   "cell_type": "markdown",
   "id": "09f9cdc4-c577-4bad-95ce-435f3873338f",
   "metadata": {},
   "source": [
    "A part of BioNet's built-in functionality is the ability to record extracellular LFPs from morphologically detailed networks of cells. Like with in-vivo experiments, it involves placing one or more electrodes by the cells that will pick up the change of the extracellular potentials throughout the experiment/simulation. This can be useful for comparing simulations to real experiment recordings taken from a M.E.A (multi-electrode array), neuronal probe, or even ECoG or EEG. It can also be used to calculate the current source density (CSD), thus capturing the slow-reacting, non-spiking dynamics of your network.\n",
    "\n",
    "<br>\n",
    "<div class=\"admonition note\" name=\"html-admonition\" style=\"background: lightgreen; padding: 10px\">\n",
    "Potential Restrictions\n",
    "</div>\n",
    "<br>\n",
    "\n",
    "BMTK only supports capturing the LFPs for `biophysical` **model_type** cells. It will not work in PointNet since these are point-neuron cells (and many of the models are not conductance-based), so at the moment, BMTK does not have the ability to estimate segment membrane potential. Nor will it work with BioNet/NEURON `point-neuron` models. If a network contains a mix of both `biophysical` and `poinet-neuron` models, then the `point-neuron` models will be ignored when collecting extracellular recordings.\n",
    "\n",
    "Also, **NOTE** that adding extracellular potential recordings to your network is computationally expensive. Expect simulations to take significantly longer than they would if you were just recording spikes or even membrane voltages.\n"
   ]
  },
  {
   "attachments": {},
   "cell_type": "markdown",
   "id": "6b8afc8f-dda6-4022-91ab-4084366a734a",
   "metadata": {
    "jp-MarkdownHeadingCollapsed": true
   },
   "source": [
    "### Step 1: Building a Network (Caveats)\n",
    "\n",
    "Creating a network that is capable of recording LFPs is no different than the way you would normally create a SONATA-based network. And most of the time, we can dynamically add a recording electrode before any simulation. However, there are some requirements that we must be cognizant of:\n",
    "\n",
    "1. Our network **MUST** have attributes **x**, **y**, **z** defined for all cells being recorded by our electrode (s). Variables like spiking events or membrane potential do not typically require explicit information about the cell position, so the exact coordinates of each cell are not required for them. But with extracellular recordings, the distances between the cells and electrodes will be very important in determining LFP.\n",
    "2. You should also take care that **rotation_angle_xaxis**, **rotation_angle_yaxis**, and **rotation_angle_zaxis** are set properly. Especially if the cell is has extended morphology, it can make a big difference. However, if you want to use the default morphology from the *swc*, *asc*, *hoc*, etc, then not specifying the **rotation_angles** will just default rotations to 0.0\n",
    "\n",
    "In this example, we build our network cells like such:\n",
    "```python\n",
    "x, y, z = get_coords(20, y_range=[-300, -100])\n",
    "cortcol.add_nodes(\n",
    "    N=20,\n",
    "\n",
    "    # Reserved SONATA keywords used during simulation\n",
    "    model_type='biophysical',\n",
    "    model_template='ctdb:Biophys1.hoc',\n",
    "    model_processing='aibs_perisomatic',\n",
    "    dynamics_params='Scnn1a_485510712_params.json',\n",
    "    morphology='Scnn1a_485510712_morphology.swc',\n",
    "\n",
    "    # The x, y, z locations and orientations (in Euler angles) of each cell\n",
    "    # Here, rotation around the pia-to-white-matter axis is randomized\n",
    "    x=x,\n",
    "    y=y,\n",
    "    z=z,\n",
    "    rotation_angle_xaxis=0,\n",
    "    rotation_angle_yaxis=np.random.uniform(0.0, 2 * np.pi, size=20),\n",
    "    rotation_angle_zaxis=3.646878266,\n",
    "\n",
    "    tuning_angle=np.linspace(start=0.0, stop=360.0, num=20, endpoint=False),\n",
    "    layer='L23',\n",
    "    model_name='Scnn1a',\n",
    "    ei='e'\n",
    ")\n",
    "```\n",
    "\n",
    "In this particular example, we use a very simplified \"cortical column\" consisting of layers `L2/3`, `L4` (which receives most of the external inputs), and `L5` pyramidal cells surrounded by inhibitory interneurons. The cells are built in a column parallel to the **y** axis and centered at **x=0** and **z=0**. \n",
    "\n",
    "We can use VND to visualize our network to make sure the layering and rotation of our cells are correct:\n",
    "\n",
    "<br>\n",
    "<div>\n",
    "  <img src=\"../images/lfp_cortcol_small.png\" width=\"500\" align=\"center\" style=\"margin-left:5px\"/>    \n",
    "</div>\n",
    "<br clear=\"left\">\n",
    "\n",
    "The full script for this example can be found in the file *build_network.lfp.py*. We encourage you to make changes and test out the effects that different cell types, synapses, and geometry have on LFP recordings. You can also try using a different network altogether.\n"
   ]
  },
  {
   "cell_type": "markdown",
   "id": "1d273e38-7c3a-46c0-aeea-ae399859d55e",
   "metadata": {},
   "source": [
    "### Step 2: Adding \"ecp\" recordings to simulation config.\n",
    "\n",
    "The next step is to open up our SONATA simulation configuration file (*config.lfp.json*) so that it contains the following in the \"reports\" section.\n",
    "\n",
    "```json\n",
    "\"reports\": {\n",
    "    \"cortical_electrode\": {\n",
    "        \"module\": \"extracellular\",\n",
    "        \"variable_name\": \"v\",\n",
    "        \"cells\": \"all\",\n",
    "        \"electrode_positions\": \"./components/electrodes/linear_electrode.csv\",\n",
    "        \"electrode_channels\": \"all\"\n",
    "    }\n",
    "}\n",
    "```\n",
    "* The **module** should always be set to value `extracellular`, which tells BMTK what type of recording to apply.\n",
    "* The **variable_name** should be set to `v`, which is the voltage just outside of every compartment's membrane.\n",
    "* Setting **cells** to all tells BMTK to record the extracellular potential of all (biophysical) cells in the model. You can use the [node_set]() to select only a portion of cells to record from. For example, if you wanted to filter by specific node-ids:\n",
    "```json\n",
    "    \"cells\": {\n",
    "        \"population\": \"cortcol\",\n",
    "        \"node_ids\": [0, 100, 200, 300]\n",
    "    },\n",
    "```\n",
    "&nbsp;&nbsp;&nbsp;&nbsp; or if you wanted to record from Layer 4 excitatory cells\n",
    "```json\n",
    "    \"cells\": {\n",
    "        \"layer\": \"L4\",\n",
    "        \"ei\": \"e\"\n",
    "    },\n",
    "```\n",
    "* **electrode_positions** will point to the csv file containing recording electrodes (see below)\n",
    "* We set **electrode_channels** to `all` to indicate the use of all possible electrodes in the electrodes csv file.\n",
    "\n"
   ]
  },
  {
   "cell_type": "markdown",
   "id": "d54bc46d-7fca-4a9f-8b06-7ec73fcd1d78",
   "metadata": {},
   "source": [
    "### Step 3: Creating electrodes file\n",
    "\n",
    "We must tell BioNet the location of all recording electrodes, which we specify in the file *./componets/electrodes/linear_electrodes.csv*. This is a simple space-separated file where each line represents the `channel_id`, `x`, `y`, and `z` position for each channel that will be recording ecp from."
   ]
  },
  {
   "cell_type": "code",
   "execution_count": null,
   "id": "3808f6c8-38bd-4779-bfd8-95be97b3df12",
   "metadata": {},
   "outputs": [],
   "source": [
    "import pandas as pd\n",
    "\n",
    "\n",
    "pd.read_csv('components/electrodes/linear_electrode.csv', sep=' ')"
   ]
  },
  {
   "cell_type": "markdown",
   "id": "b1dbd11b-d29b-4b01-b414-70a6038fdca6",
   "metadata": {},
   "source": [
    "In this example, an electrode array placed straight down the column will record the LFP at every 100-micron interval. Like with the placement of cells, we can use whatever coordinate framework for placing our network. In this case, we assume our columnar network's axis is aligned with the y-axis, which also passes through the center of the column. However, we could also use a global framework like the [CCF](https://biccn.org/standards/common-coordinate-frameworks-biccn). The important thing for BMTK is that the electrodes and cells must be in the same coordinate system. "
   ]
  },
  {
   "cell_type": "markdown",
   "id": "0c83436c-a787-4286-99cd-cdb3f72117c4",
   "metadata": {},
   "source": [
    "### Step 4: Running the simulation\n",
    "\n",
    "Now that we've updated our simulation configuration accordingly, we can run the simulation like we normally would (be mindful that it will likely take longer and use more resources than normal):\n"
   ]
  },
  {
   "cell_type": "code",
   "execution_count": null,
   "id": "0ab3c735-c03b-419c-bf91-0ebb6019e3a6",
   "metadata": {},
   "outputs": [],
   "source": [
    "! cd components/mechanisms && nrnivmodl modfiles"
   ]
  },
  {
   "cell_type": "code",
   "execution_count": null,
   "id": "314e78ab-ef2e-4b71-9b31-e67124d3b012",
   "metadata": {},
   "outputs": [],
   "source": [
    "from bmtk.simulator import bionet\n",
    "\n",
    "bionet.reset()\n",
    "conf = bionet.Config.from_json('config.lfp.json')\n",
    "conf.build_env()\n",
    "\n",
    "net = bionet.BioNetwork.from_config(conf)\n",
    "sim = bionet.BioSimulator.from_config(conf, network=net)\n",
    "sim.run()"
   ]
  },
  {
   "cell_type": "markdown",
   "id": "505e2b14-1f8b-49e6-8324-550a71a8929d",
   "metadata": {},
   "source": [
    "### Step 5: Analyzing the results\n",
    "\n",
    "The `bmtk.analyzer.ecp` package of BMTK includes a number of tools for analyzing and visualizing the results of the electrode recordings:\n"
   ]
  },
  {
   "cell_type": "code",
   "execution_count": null,
   "id": "d58f72c7-73a5-46b8-aad9-f616f55708c9",
   "metadata": {},
   "outputs": [],
   "source": [
    "from bmtk.analyzer.ecp import plot_ecp\n",
    "\n",
    "_ = plot_ecp(config_file='config.lfp.json', report_name='cortical_electrode')"
   ]
  },
  {
   "cell_type": "markdown",
   "id": "502259b2-a07c-4b37-8343-606d47d5c9b3",
   "metadata": {},
   "source": [
    "But if you need to analyze the results yourself, they will be saved in the *output/cortical_electrode.h5* file, which is an HDF5 following SONATA format for [Extracellular reports](https://github.com/AllenInstitute/sonata/blob/master/docs/SONATA_DEVELOPER_GUIDE.md#extracellular-report). The results are stored in the `/ecp/data` table that is $T \\times N -(timestamps \\times channels)$ in size.\n",
    "\n",
    "\n",
    "<br>\n",
    "<div>\n",
    "  <img src=\"../images/hdf5_ecp_format.png\" width=\"500\" align=\"center\" style=\"margin-left:5px\"/>    \n",
    "</div>\n",
    "<br clear=\"left\">\n"
   ]
  },
  {
   "cell_type": "code",
   "execution_count": null,
   "id": "99ce85b5-106a-4f31-a1c7-795c6f401235",
   "metadata": {},
   "outputs": [],
   "source": [
    "import h5py\n",
    "import numpy as np\n",
    "import matplotlib.pyplot as plt\n",
    "\n",
    "channel_id = 5\n",
    "\n",
    "with h5py.File('output_lfp/cortical_electrode.h5', 'r') as h5:\n",
    "    channel_idx = np.argwhere(h5['/ecp/channel_id'][()] == channel_id).flatten()\n",
    "    ts = np.arange(start=h5['/ecp/time'][0], stop=h5['/ecp/time'][1], step=h5['/ecp/time'][2])\n",
    "    plt.plot(ts, h5['/ecp/data'][:, channel_idx])\n",
    "    plt.title(f'Channel {channel_id}')\n",
    "    plt.xlabel(h5['/ecp/time'].attrs['units'])\n",
    "    plt.ylabel(h5['/ecp/data'].attrs['units'])"
   ]
  },
  {
   "cell_type": "markdown",
   "id": "db84d250-afcd-4bf2-a736-56ff816ba219",
   "metadata": {},
   "source": [
    "### (Optional) Finding individual contributions\n",
    "\n",
    "When each channel in the electrode calculates the ECP at each given time, it does so by taking the extracellular Vm of each cell, adjusting for distance and interstitial resistance, and summing the results over all recorded cells. \n",
    "\n",
    "Sometimes, for deeper analysis of a simulation, you may want to measure the individual contribution each cell has on the electrode. To do so in our simulation we just need to add the **contributions_dir** option to the simulation configuration:\n",
    "\n",
    "```json\n",
    "\"reports\": {\n",
    "    \"cortical_electrode\": {\n",
    "        \"module\": \"extracellular\",\n",
    "        \"variable_name\": \"v\",\n",
    "        \"cells\": \"all\",\n",
    "        \"electrode_positions\": \"./components/electrodes/linear_electrode.csv\",\n",
    "        \"electrode_channels\": \"all\",\n",
    "        \"contributions_dir\": \"cell_contributions\"\n",
    "    }\n",
    "}\n",
    "```\n",
    "\n",
    "Now, when you run the simulation, it will add an extra directory *output_lfp/cell_contributions/* that will contain N SONATA Extracellular reports for each of the N individual cells (the name of each h5 file will correspond to the node_id of each cell).\n",
    "\n",
    "Be **WARNED** that adding the \"contributions_dir\" option will take up a lot of disk space for even moderately sized networks. Feel free to edit *config.lfp.json* and see how different cells and cell-types differ in their LFP signatures.\n"
   ]
  },
  {
   "cell_type": "code",
   "execution_count": null,
   "id": "719366bd-6d3f-4591-a52c-04c6c8414bc3",
   "metadata": {},
   "outputs": [],
   "source": []
  },
  {
   "cell_type": "markdown",
   "id": "eda4f2e5-0c31-4e44-97fe-cdccfa476944",
   "metadata": {},
   "source": [
    "## Example: Calculating the Current Source Density (CSD) <a class=\"anchor\" id=\"example-cal-csd\">"
   ]
  },
  {
   "cell_type": "markdown",
   "id": "67133568-2105-47cc-8f30-056949ebe155",
   "metadata": {},
   "source": [
    "Scientists are often interested in estimating the current sources or CSD generating the measured LFPs. Calculating the CSD associated with simulated LFPs can also be useful for comparing simulations to experimental data. This example demonstrates how to compute the CSD from the simulated LFPs in the first example using the iCSD method from [Pettersen et al. 2006](https://doi.org/10.1016/j.jneumeth.2005.12.005). The iCSD methods can be applied to data recorded from multielectrode arrays with various geometries.\n",
    "\n",
    "iCSD methods are available in the py-iCSD toolbox, which is a translation of the core functionality of the CSDplotter MATLAB package to Python. The py-ICSD toolbox can be downloaded from https://github.com/espenhgn/iCSD"
   ]
  },
  {
   "cell_type": "code",
   "execution_count": null,
   "id": "d9ac57ad-a270-49ac-ada1-969a37994bde",
   "metadata": {},
   "outputs": [],
   "source": [
    "import sys\n",
    "sys.path.append('icsd_scripts/')"
   ]
  },
  {
   "cell_type": "markdown",
   "id": "44016e87-e584-460b-97f3-0d194bd97e69",
   "metadata": {},
   "source": [
    "For the below scripts you will also need to install third party packages [quantities](https://github.com/python-quantities/python-quantities) and [neo](https://github.com/NeuralEnsemble/python-neo) to handle dimensional units and electrophysiology calculations, respectively"
   ]
  },
  {
   "cell_type": "code",
   "execution_count": null,
   "id": "6bb4d2d4-cdc7-4c6e-8813-a9334c83a050",
   "metadata": {},
   "outputs": [],
   "source": [
    "! pip install quantities\n",
    "! pip install neo"
   ]
  },
  {
   "cell_type": "code",
   "execution_count": null,
   "id": "37b5bd38-150b-4d49-b967-3a8ecfc3182c",
   "metadata": {},
   "outputs": [],
   "source": [
    "import icsd\n",
    "import quantities as pq"
   ]
  },
  {
   "cell_type": "markdown",
   "id": "150dca73-2942-49d1-afeb-002af0db546f",
   "metadata": {},
   "source": [
    "### Step 1: Setting up quantities for py-iCSD toolbox\n",
    "\n",
    "All inputs to the iCSD methods class instances are considered Quantity arrays. First, we need to patch quantities with the SI unit Siemens if it does not exist:"
   ]
  },
  {
   "cell_type": "code",
   "execution_count": null,
   "id": "eb319516-83b4-44fa-83f3-0df017eb4eb6",
   "metadata": {},
   "outputs": [],
   "source": [
    "for symbol, prefix, definition, u_symbol in zip(\n",
    "    ['siemens', 'S', 'mS', 'uS', 'nS', 'pS'],\n",
    "    ['', '', 'milli', 'micro', 'nano', 'pico'],\n",
    "    [pq.A/pq.V, pq.A/pq.V, 'S', 'mS', 'uS', 'nS'],\n",
    "    [None, None, None, None, u'µS', None]):\n",
    "    if type(definition) is str:\n",
    "        definition = lastdefinition / 1000\n",
    "    if not hasattr(pq, symbol):\n",
    "        setattr(pq, symbol, pq.UnitQuantity(\n",
    "            prefix + 'siemens',\n",
    "            definition,\n",
    "            symbol=symbol,\n",
    "            u_symbol=u_symbol))\n",
    "    lastdefinition = definition"
   ]
  },
  {
   "cell_type": "markdown",
   "id": "dd40b27a-7501-4885-8f2b-f7480dd0383a",
   "metadata": {},
   "source": [
    "### Step 2: Preparing LFP data and defining parameters for the CSD calculation\n",
    "\n",
    "The iCSD method considers the CSD to have cylindrical symmetry with a diameter `diam` specified by the user based on the geometry of your simulated network or the area captured by your experimental recordings. Here, we calculate the CSD assuming a homogenous conductivity `sigma` throughout the column and an infinite medium (i.e., the extracellular conductivity above the cortical surface is the same as the grey matter conductivity - `sigma_top = sigma`). However, you can use a different value for `sigma_top` if you use substances such as saline (with a high conductivity) or oil (with a very low conductivity) to prevent the brain from drying during your experiments.\n",
    "\n",
    "In addition to these parameters, you need to input the LFP data `lfp` with units in SI, the coordinates of the electrodes `coord_electrode`, and the type `f_type` and order `f_order` of the spatial filter to be applied to the estimated CSD. You must append the corresponding quantities to `lfp`, `coord_electrode`, `diam`, `sigma`, and `sigma_top` to convert them to Quantity arrays.\n",
    "\n",
    "Here, we will use the delta-iCSD method for calculating the CSD, using a Gaussian 3-point filter with a standard deviation equal to 1 (`sigma = 1`). However, the py-iCSD toolbox also includes the step-iCSD, spline-iCSD, and std or standard CSD methods. More details on these methods can be found in [Pettersen et al. 2006](https://doi.org/10.1016/j.jneumeth.2005.12.005). \n",
    "\n",
    "These are examples of the input dictionaries for each method:\n",
    "```python\n",
    "delta_input = {\n",
    "    'lfp' : lfp_data,\n",
    "    'coord_electrode' : z_data,\n",
    "    'diam' : diam,          # source diameter\n",
    "    'sigma' : sigma,        # extracellular conductivity\n",
    "    'sigma_top' : sigma,    # conductivity on top of cortex\n",
    "    'f_type' : 'gaussian',  # gaussian filter\n",
    "    'f_order' : (3, 1),     # 3-point filter, sigma = 1.\n",
    "}\n",
    "step_input = {\n",
    "    'lfp' : lfp_data,\n",
    "    'coord_electrode' : z_data,\n",
    "    'diam' : diam,\n",
    "    'h' : h,                # source thickness\n",
    "    'sigma' : sigma,\n",
    "    'sigma_top' : sigma,\n",
    "    'tol' : 1E-12,          # Tolerance in numerical integration\n",
    "    'f_type' : 'gaussian',\n",
    "    'f_order' : (3, 1),\n",
    "}\n",
    "spline_input = {\n",
    "    'lfp' : lfp_data,\n",
    "    'coord_electrode' : z_data,\n",
    "    'diam' : diam,\n",
    "    'sigma' : sigma,\n",
    "    'sigma_top' : sigma,\n",
    "    'num_steps' : 201,      # Spatial CSD upsampling to N steps\n",
    "    'tol' : 1E-12,\n",
    "    'f_type' : 'gaussian',\n",
    "    'f_order' : (20, 5),\n",
    "}\n",
    "std_input = {\n",
    "    'lfp' : lfp_data,\n",
    "    'coord_electrode' : z_data,\n",
    "    'sigma' : sigma,\n",
    "    'f_type' : 'gaussian',\n",
    "    'f_order' : (3, 1),\n",
    "}\n",
    "```"
   ]
  },
  {
   "cell_type": "markdown",
   "id": "ede35e49-ab83-40fe-9d8d-a8cbec883e99",
   "metadata": {},
   "source": [
    "Getting the simulated LFPs and electrodes' coordinates from the first example:"
   ]
  },
  {
   "cell_type": "code",
   "execution_count": null,
   "id": "0116042e-249d-45a2-9e39-23dbb99f9e96",
   "metadata": {},
   "outputs": [],
   "source": [
    "import h5py\n",
    "\n",
    "with h5py.File('output_lfp/cortical_electrode.h5', 'r') as h5:\n",
    "    channel_idx = h5['/ecp/channel_id'][()]\n",
    "    ts = np.arange(start=h5['/ecp/time'][0], stop=h5['/ecp/time'][1], step=h5['/ecp/time'][2])\n",
    "    lfp = h5['/ecp/data'][()]\n",
    "\n",
    "\n",
    "coord_ele = pd.read_csv('components/electrodes/linear_electrode.csv', sep=' ')"
   ]
  },
  {
   "cell_type": "markdown",
   "id": "5bb82f49-177e-40d0-9a43-39e7ea17c490",
   "metadata": {},
   "source": [
    "Defining the input dictionary for the delta-iCSD method: "
   ]
  },
  {
   "cell_type": "code",
   "execution_count": null,
   "id": "b4ae6192-4565-4503-9568-8bbd68ce5c73",
   "metadata": {},
   "outputs": [],
   "source": [
    "z_data = np.array(coord_ele['y_pos']) * (-1E-6) * pq.m      # [um] --> [m] linear probe - electrodes' position in depth\n",
    "diam = 800E-6 * pq.m                              # [m] source diameter\n",
    "h = 100E-6 * pq.m                                 # [m] distance between channels\n",
    "sigma = 0.3* pq.S / pq.m                          # [S/m] or [1/(ohm*m)] extracellular conductivity\n",
    "sigma_top = 0.3* pq.S / pq.m                      # [S/m] or [1/(ohm*m)] conductivity on top of cortex\n",
    "\n",
    "delta_input = {\n",
    "        'lfp' : lfp.T*1E-3*pq.V, #[um] --> [V]\n",
    "        'coord_electrode' : z_data,\n",
    "        'diam' : diam,\n",
    "        'sigma' : sigma,\n",
    "        'sigma_top' : sigma_top,\n",
    "        'f_type' : 'gaussian',  # gaussian filter\n",
    "        'f_order' : (3, 1),     # 3-point filter, sigma = 1.\n",
    "    }"
   ]
  },
  {
   "cell_type": "markdown",
   "id": "f520d1cf-32f5-427f-802c-c4f3771e3b30",
   "metadata": {},
   "source": [
    "### Step 3: Calculating the CSD\n",
    "\n",
    "First, we create the delta CSD-method class instance:\n",
    "```python\n",
    "csd_dict = dict(\n",
    "    delta_icsd = icsd.DeltaiCSD(**delta_input),\n",
    ")\n",
    "```\n",
    "\n",
    "The class methods get_csd() and filter_csd() are used below to get the raw and spatially filtered versions of the CSD estimates. The raw- and filtered CSD estimates are returned as Quantity arrays. \n",
    "\n",
    "In the comments below, we illustrate how to calculate the CSD using the other methods, considering their input dictionary is defined as shown in Step 2.\n"
   ]
  },
  {
   "cell_type": "code",
   "execution_count": null,
   "id": "4fb517ab-9be2-48e8-b03c-6982c91058e4",
   "metadata": {},
   "outputs": [],
   "source": [
    "csd_dict = dict(\n",
    "    delta_icsd = icsd.DeltaiCSD(**delta_input),\n",
    "\n",
    "    #Other methods for computing CSD:\n",
    "    #step_icsd = icsd.StepiCSD(**step_input),\n",
    "    #spline_icsd = icsd.SplineiCSD(**spline_input),\n",
    "    #std_csd = icsd.StandardCSD(**std_input),\n",
    ")\n",
    "\n",
    "for method, csd_obj in list(csd_dict.items()):\n",
    "    csd_raw =  csd_obj.get_csd()  # num_channels x trial_duration\n",
    "    csd_smooth = csd_obj.filter_csd(csd_raw)  # num_channels x trial_duration"
   ]
  },
  {
   "cell_type": "code",
   "execution_count": null,
   "id": "0ba20d00-f906-479d-ad34-d3fc175e97b1",
   "metadata": {},
   "outputs": [],
   "source": [
    "fig, axes = plt.subplots(3,1, figsize=(8,8))\n",
    "\n",
    "lfp_data = lfp.T*1E-3*pq.V\n",
    "\n",
    "#plot LFP signal\n",
    "ax = axes[0]\n",
    "im = ax.imshow(np.array(lfp_data), origin='upper', vmin=-abs(lfp_data).max(), \\\n",
    "          vmax=abs(lfp_data).max(), cmap='bwr')\n",
    "ax.axis(ax.axis('tight'))\n",
    "cb = plt.colorbar(im, ax=ax)\n",
    "cb.set_label('LFP (%s)' % lfp_data.dimensionality.string)\n",
    "ax.set_xticklabels([])\n",
    "ax.set_title('LFP')\n",
    "ax.set_ylabel('ch #')\n",
    "\n",
    "#plot raw csd estimate\n",
    "ax = axes[1]\n",
    "im = ax.imshow(np.array(csd_raw), origin='upper', vmin=-abs(csd_raw).max(), \\\n",
    "      vmax=abs(csd_raw).max(), cmap='jet_r')\n",
    "ax.axis(ax.axis('tight'))\n",
    "ax.set_title(csd_obj.name)\n",
    "cb = plt.colorbar(im, ax=ax)\n",
    "cb.set_label('CSD (%s)' % csd_raw.dimensionality.string)\n",
    "ax.set_xticklabels([])\n",
    "ax.set_ylabel('ch #')\n",
    "\n",
    "#plot spatially filtered csd estimate\n",
    "ax = axes[2]\n",
    "im = ax.imshow(np.array(csd_smooth), origin='upper', vmin=-abs(csd_smooth).max(), \\\n",
    "      vmax=abs(csd_smooth).max(), cmap='jet_r')\n",
    "ax.axis(ax.axis('tight'))\n",
    "ax.set_title(csd_obj.name + ', filtered')\n",
    "cb = plt.colorbar(im, ax=ax)\n",
    "cb.set_label('CSD (%s)' % csd_smooth.dimensionality.string)\n",
    "ax.set_ylabel('ch #')\n",
    "ax.set_xlabel('timestep')"
   ]
  },
  {
   "cell_type": "code",
   "execution_count": null,
   "id": "e4e75331-bb64-409e-aadc-6945c799d5a1",
   "metadata": {},
   "outputs": [],
   "source": []
  }
 ],
 "metadata": {
  "kernelspec": {
   "display_name": "bmtk-py3.11",
   "language": "python",
   "name": "bmtk-py3.11"
  },
  "language_info": {
   "codemirror_mode": {
    "name": "ipython",
    "version": 3
   },
   "file_extension": ".py",
   "mimetype": "text/x-python",
   "name": "python",
   "nbconvert_exporter": "python",
   "pygments_lexer": "ipython3",
   "version": "3.11.13"
  }
 },
 "nbformat": 4,
 "nbformat_minor": 5
}
