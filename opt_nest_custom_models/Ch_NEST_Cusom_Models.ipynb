{
 "cells": [
  {
   "cell_type": "markdown",
   "id": "386a5424-30e2-4e40-ac4e-547846da1294",
   "metadata": {},
   "source": [
    "# Extending PointNet networks and simulation with external and customized models."
   ]
  },
  {
   "cell_type": "code",
   "execution_count": null,
   "id": "3bea07be-9bef-4e8a-90ed-bf97b3ed1fb2",
   "metadata": {},
   "outputs": [],
   "source": []
  },
  {
   "cell_type": "markdown",
   "id": "b24846e8-de07-4d2e-bd41-ea2b62c64ad3",
   "metadata": {
    "jp-MarkdownHeadingCollapsed": true
   },
   "source": [
    "## Example: Using Built-In NEURONAL Models"
   ]
  },
  {
   "cell_type": "markdown",
   "id": "e9d5cd7c-b786-424e-9cfe-f51cf0e203c1",
   "metadata": {},
   "source": [
    "PointNet utlizes the NEST simulator for running point-neuron simulations, which includes many different varieties and types of neuronal models the majority of which can readily used during simulation in BMTK. An very useful practice is to take an existing network model built on model of a cell and replace it with a different cell model that more closely fits the needs of our research. With BMTK and SONATA this can be easily done, often without any programming, and even done on the fly before any given simulation.\n",
    "\n",
    "A list of available models built into the NEST simulator can be found [here](https://nest-simulator.readthedocs.io/en/stable/models/index.html).\n",
    "\n",
    "Most of the spiking models will work out-of-the-box in BMTK, readily swapped in and out of existing simulations, and you can use multiple models in the same network. (*We will ignore rates-based models which can only tentively work with BMTK. And for devices like genators and recorders PointNet uses a separate way of inserting them into the simulation*). To define what model will be used with a specific subset of cells and their properties, SONATA has two defined reserved attributes `model_template` and `dynamics_params` which we will take advantage of in this example."
   ]
  },
  {
   "cell_type": "markdown",
   "id": "9de5ab45-f067-4b56-ab29-cd01569ab5c1",
   "metadata": {},
   "source": [
    "### Setting the model type in our network."
   ]
  },
  {
   "cell_type": "markdown",
   "id": "13ad2a5b-6d0d-450b-b78e-e75806477644",
   "metadata": {},
   "source": [
    "The default way to set the model type for subset of neurons (which may be just a single neuron) that all use the same built-in NEST model type is to set the the **model_type** attributes to a value `nest:<nest-model-name>` where `<nest-model-name>` is the name of one of the spiking [NEST cell models](https://nest-simulator.readthedocs.io/en/stable/models/index.html). However, different models will have different parameters. There are multiple ways to set model parameters in BMTK, but the one that is most flexible and will make it easier to switch out different models while testing and optimizing our network is to set the **dynamics_params** to an easy to edit json file.\n",
    "\n",
    "In the below example (*build_network.built_in.py*) will built a simple 100 cell network with synaptic stimuli. Initialally we will use [izhikevich](https://nest-simulator.readthedocs.io/en/stable/models/izhikevich.html) models using default params (**hint**: if the dynamics_params .json file is just an empty json file, then the cells will be loaded with the default params. This is a useful starting point). But you can change the **nest_model** (and optionally the **dynamics_params**) variable below to build the same network using different model types"
   ]
  },
  {
   "cell_type": "code",
   "execution_count": 2,
   "id": "8dfcdc1f-8e52-459c-82ba-819e4304e7fc",
   "metadata": {},
   "outputs": [],
   "source": [
    "nest_model = 'nest:izhikevich'\n",
    "# nest_model = 'nest:iaf_psc_delta'\n",
    "# nest_model = 'nest:aeif_cond_alpha'\n",
    "# nest_model = 'nest:glif_psc'\n",
    "\n",
    "dynamics_params = 'custom_model_params.default.json'\n",
    "# dynamics_params = 'custom_model_params.izhikevich.json'\n",
    "# dynamics_params = 'custom_model_params.aeif_cond_alpha.json'\n",
    "# dynamics_params = 'custom_model_params.glif_psc.json'"
   ]
  },
  {
   "cell_type": "code",
   "execution_count": 3,
   "id": "560a5df1-dc8c-4884-bc6c-077478b6f72e",
   "metadata": {},
   "outputs": [],
   "source": [
    "import numpy as np\n",
    "from bmtk.builder import NetworkBuilder\n",
    "\n",
    "\n",
    "net = NetworkBuilder('net')\n",
    "net.add_nodes(\n",
    "    N=100,\n",
    "    model_type='point_neuron',\n",
    "    model_template=nest_model,\n",
    "    dynamics_params=dynamics_params\n",
    ")\n",
    "\n",
    "net.add_edges(\n",
    "    source=net.nodes(), target=net.nodes(),\n",
    "    connection_rule=1,\n",
    "    syn_weight=2.0,\n",
    "    delay=1.5,\n",
    "    dynamics_params='ExcToInh.json',\n",
    "    model_template='static_synapse'\n",
    ")\n",
    "\n",
    "net.build()\n",
    "net.save(output_dir='network_built_in')\n",
    "\n",
    "\n",
    "virt_exc = NetworkBuilder('virt_exc')\n",
    "virt_exc.add_nodes(\n",
    "    N=10,\n",
    "    model_type='virtual'\n",
    ")\n",
    "\n",
    "virt_exc.add_edges(\n",
    "    target=net.nodes(),\n",
    "    connection_rule=lambda *_: np.random.randint(0, 10),\n",
    "    syn_weight=2.0,\n",
    "    delay=1.0,\n",
    "    dynamics_params='ExcToInh.json',\n",
    "    model_template='static_synapse'\n",
    ")\n",
    "\n",
    "virt_exc.build()\n",
    "virt_exc.save(output_dir='network_built_in')"
   ]
  },
  {
   "cell_type": "markdown",
   "id": "2ced04e1-511f-4e17-8c26-d8da389a7236",
   "metadata": {},
   "source": [
    "If you have access to an existing model but not the build-script, or if rebuilding the network is too time consuming and/or expensive, then another option to swap out different models is to open the *node_types.csv* in an text editor (especially ones that support csv forats like VSCode or Atom), update the **model_template** and **dynamics_params** attributes, then rerun the simulation."
   ]
  },
  {
   "cell_type": "code",
   "execution_count": 4,
   "id": "4167ebf8-4802-4c2c-8ac7-fea1cabd5505",
   "metadata": {},
   "outputs": [
    {
     "data": {
      "text/html": [
       "<div>\n",
       "<style scoped>\n",
       "    .dataframe tbody tr th:only-of-type {\n",
       "        vertical-align: middle;\n",
       "    }\n",
       "\n",
       "    .dataframe tbody tr th {\n",
       "        vertical-align: top;\n",
       "    }\n",
       "\n",
       "    .dataframe thead th {\n",
       "        text-align: right;\n",
       "    }\n",
       "</style>\n",
       "<table border=\"1\" class=\"dataframe\">\n",
       "  <thead>\n",
       "    <tr style=\"text-align: right;\">\n",
       "      <th></th>\n",
       "      <th>node_type_id</th>\n",
       "      <th>model_template</th>\n",
       "      <th>dynamics_params</th>\n",
       "      <th>model_type</th>\n",
       "    </tr>\n",
       "  </thead>\n",
       "  <tbody>\n",
       "    <tr>\n",
       "      <th>0</th>\n",
       "      <td>100</td>\n",
       "      <td>nest:izhikevich</td>\n",
       "      <td>custom_model_params.default.json</td>\n",
       "      <td>point_neuron</td>\n",
       "    </tr>\n",
       "  </tbody>\n",
       "</table>\n",
       "</div>"
      ],
      "text/plain": [
       "   node_type_id   model_template                   dynamics_params  \\\n",
       "0           100  nest:izhikevich  custom_model_params.default.json   \n",
       "\n",
       "     model_type  \n",
       "0  point_neuron  "
      ]
     },
     "execution_count": 4,
     "metadata": {},
     "output_type": "execute_result"
    }
   ],
   "source": [
    "import pandas as pd\n",
    "\n",
    "pd.read_csv('network_built_in/net_node_types.csv', sep=' ')"
   ]
  },
  {
   "cell_type": "markdown",
   "id": "6e0700fb-674e-40d9-bbec-b49697e4e9e9",
   "metadata": {},
   "source": [
    "We encourage you to try running the network yourself by either running in the command line or un\n",
    "```\n",
    "$ python run_pointnet.built_in.py config.built_in.json\n",
    "```\n",
    "or with the below cell, trying it with different cell models. "
   ]
  },
  {
   "cell_type": "code",
   "execution_count": 5,
   "id": "3aa1cd9b-0b93-4d33-b0d8-89ea13cff66c",
   "metadata": {},
   "outputs": [
    {
     "name": "stdout",
     "output_type": "stream",
     "text": [
      "\n",
      "              -- N E S T --\n",
      "  Copyright (C) 2004 The NEST Initiative\n",
      "\n",
      " Version: 3.6.0\n",
      " Built: Sep 28 2023 11:52:40\n",
      "\n",
      " This program is provided AS IS and comes with\n",
      " NO WARRANTY. See the file LICENSE for details.\n",
      "\n",
      " Problems or suggestions?\n",
      "   Visit https://www.nest-simulator.org\n",
      "\n",
      " Type 'nest.help()' to find out more about NEST.\n",
      "\n",
      "2024-05-02 13:23:45,110 [INFO] Created log file\n",
      "2024-05-02 13:23:45,120 [INFO] Batch processing nodes for net/0.\n",
      "2024-05-02 13:23:45,128 [INFO] Batch processing nodes for virt_exc/0.\n",
      "2024-05-02 13:23:45,149 [INFO] Setting up output directory\n",
      "2024-05-02 13:23:45,150 [INFO] Building cells.\n",
      "2024-05-02 13:23:45,158 [INFO] Building recurrent connections\n",
      "2024-05-02 13:23:45,176 [INFO] Network created.\n",
      "2024-05-02 13:23:45,178 [INFO] Build virtual cell stimulations for thalamus_spikes\n",
      "2024-05-02 13:23:45,206 [INFO] Starting Simulation\n",
      "2024-05-02 13:23:49,697 [INFO] Simulation finished, finalizing results.\n",
      "2024-05-02 13:23:51,325 [INFO] Done.\n"
     ]
    }
   ],
   "source": [
    "from bmtk.simulator import pointnet\n",
    "\n",
    "configure = pointnet.Config.from_json('config.built_in.json')\n",
    "configure.build_env()\n",
    "\n",
    "network = pointnet.PointNetwork.from_config(configure)\n",
    "sim = pointnet.PointSimulator.from_config(configure, network)\n",
    "sim.run()"
   ]
  },
  {
   "cell_type": "markdown",
   "id": "48bae8e9-4b80-4c81-b67a-2bc3759e75ad",
   "metadata": {},
   "source": [
    "One thing to note is that when you replace one cell-model with another you may often get widely varying results. A network that is stable or silent in using one cell type may explode when a model gets replaced. Fixing this may require the or both of the following following:\n",
    "* Adjusting the **dynamics_params** of the new cell type.\n",
    "* Adjust the synaptic models and parameters (especially **syn_weight**)."
   ]
  },
  {
   "cell_type": "markdown",
   "id": "2ad7f269-b7a8-474a-826d-54b18a8a9466",
   "metadata": {},
   "source": [
    "## Example: Importing Custom NESTML cell models"
   ]
  },
  {
   "cell_type": "code",
   "execution_count": null,
   "id": "7a113e5d-a05a-4029-b37c-f04ab31e3a2b",
   "metadata": {},
   "outputs": [],
   "source": []
  }
 ],
 "metadata": {
  "kernelspec": {
   "display_name": "bmtk-py3.10",
   "language": "python",
   "name": "bmtk-py3.10"
  },
  "language_info": {
   "codemirror_mode": {
    "name": "ipython",
    "version": 3
   },
   "file_extension": ".py",
   "mimetype": "text/x-python",
   "name": "python",
   "nbconvert_exporter": "python",
   "pygments_lexer": "ipython3",
   "version": "3.10.13"
  }
 },
 "nbformat": 4,
 "nbformat_minor": 5
}
