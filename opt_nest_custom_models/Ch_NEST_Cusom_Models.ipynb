{
 "cells": [
  {
   "cell_type": "markdown",
   "id": "386a5424-30e2-4e40-ac4e-547846da1294",
   "metadata": {},
   "source": [
    "# Extending PointNet networks and simulation with external and customized models."
   ]
  },
  {
   "cell_type": "code",
   "execution_count": null,
   "id": "3bea07be-9bef-4e8a-90ed-bf97b3ed1fb2",
   "metadata": {},
   "outputs": [],
   "source": []
  },
  {
   "cell_type": "markdown",
   "id": "b24846e8-de07-4d2e-bd41-ea2b62c64ad3",
   "metadata": {},
   "source": [
    "## Example: Using Built-In NEURONAL Models"
   ]
  },
  {
   "cell_type": "markdown",
   "id": "e9d5cd7c-b786-424e-9cfe-f51cf0e203c1",
   "metadata": {},
   "source": [
    "PointNet utlizes the NEST simulator for running point-neuron simulations, which includes many different varieties and types of neuronal models the majority of which can readily used during simulation in BMTK. An very useful practice is to take an existing network model built on model of a cell and replace it with a different cell model that more closely fits the needs of our research. With BMTK and SONATA this can be easily done, often without any programming, and even done on the fly before any given simulation.\n",
    "\n",
    "A list of available models built into the NEST simulator can be found [here](https://nest-simulator.readthedocs.io/en/stable/models/index.html).\n",
    "\n",
    "Most of the spiking models will work out-of-the-box in BMTK, readily swapped in and out of existing simulations, and you can use multiple models in the same network. (*We will ignore rates-based models which can only tentively work with BMTK. And for devices like genators and recorders PointNet uses a separate way of inserting them into the simulation*). To define what model will be used with a specific subset of cells and their properties, SONATA has two defined reserved attributes `model_template` and `dynamics_params` which we will take advantage of in this example."
   ]
  },
  {
   "cell_type": "markdown",
   "id": "9de5ab45-f067-4b56-ab29-cd01569ab5c1",
   "metadata": {},
   "source": [
    "### Setting the model type in our network."
   ]
  },
  {
   "cell_type": "markdown",
   "id": "13ad2a5b-6d0d-450b-b78e-e75806477644",
   "metadata": {},
   "source": [
    "The default way to set the model type for subset of neurons (which may be just a single neuron) that all use the same built-in NEST model type is to set the the **model_type** attributes to a value `nest:<nest-model-name>` where `<nest-model-name>` is the name of one of the spiking [NEST cell models](https://nest-simulator.readthedocs.io/en/stable/models/index.html). However, different models will have different parameters. There are multiple ways to set model parameters in BMTK, but the one that is most flexible and will make it easier to switch out different models while testing and optimizing our network is to set the **dynamics_params** to an easy to edit json file.\n",
    "\n",
    "In the below example (*build_network.built_in.py*) will built a simple 100 cell network with synaptic stimuli. Initialally we will use [izhikevich](https://nest-simulator.readthedocs.io/en/stable/models/izhikevich.html) models using default params (**hint**: if the dynamics_params .json file is just an empty json file, then the cells will be loaded with the default params. This is a useful starting point). But you can change the **nest_model** (and optionally the **dynamics_params**) variable below to build the same network using different model types"
   ]
  },
  {
   "cell_type": "code",
   "execution_count": 1,
   "id": "8dfcdc1f-8e52-459c-82ba-819e4304e7fc",
   "metadata": {},
   "outputs": [],
   "source": [
    "nest_model = 'nest:izhikevich'\n",
    "# nest_model = 'nest:iaf_psc_delta'\n",
    "# nest_model = 'nest:aeif_cond_alpha'\n",
    "# nest_model = 'nest:glif_psc'\n",
    "\n",
    "dynamics_params = 'custom_model_params.default.json'\n",
    "# dynamics_params = 'custom_model_params.izhikevich.json'\n",
    "# dynamics_params = 'custom_model_params.aeif_cond_alpha.json'\n",
    "# dynamics_params = 'custom_model_params.glif_psc.json'"
   ]
  },
  {
   "cell_type": "code",
   "execution_count": 2,
   "id": "560a5df1-dc8c-4884-bc6c-077478b6f72e",
   "metadata": {},
   "outputs": [],
   "source": [
    "import numpy as np\n",
    "from bmtk.builder import NetworkBuilder\n",
    "\n",
    "\n",
    "net = NetworkBuilder('net')\n",
    "net.add_nodes(\n",
    "    N=100,\n",
    "    model_type='point_neuron',\n",
    "    model_template=nest_model,\n",
    "    dynamics_params=dynamics_params\n",
    ")\n",
    "\n",
    "net.add_edges(\n",
    "    source=net.nodes(), target=net.nodes(),\n",
    "    connection_rule=1,\n",
    "    syn_weight=2.0,\n",
    "    delay=1.5,\n",
    "    dynamics_params='ExcToInh.json',\n",
    "    model_template='static_synapse'\n",
    ")\n",
    "\n",
    "net.build()\n",
    "net.save(output_dir='network_built_in')\n",
    "\n",
    "\n",
    "virt_exc = NetworkBuilder('virt_exc')\n",
    "virt_exc.add_nodes(\n",
    "    N=10,\n",
    "    model_type='virtual'\n",
    ")\n",
    "\n",
    "virt_exc.add_edges(\n",
    "    target=net.nodes(),\n",
    "    connection_rule=lambda *_: np.random.randint(0, 10),\n",
    "    syn_weight=2.0,\n",
    "    delay=1.0,\n",
    "    dynamics_params='ExcToInh.json',\n",
    "    model_template='static_synapse'\n",
    ")\n",
    "\n",
    "virt_exc.build()\n",
    "virt_exc.save(output_dir='network_built_in')"
   ]
  },
  {
   "cell_type": "markdown",
   "id": "2ced04e1-511f-4e17-8c26-d8da389a7236",
   "metadata": {},
   "source": [
    "If you have access to an existing model but not the build-script, or if rebuilding the network is too time consuming and/or expensive, then another option to swap out different models is to open the *node_types.csv* in an text editor (especially ones that support csv forats like VSCode or Atom), update the **model_template** and **dynamics_params** attributes, then rerun the simulation."
   ]
  },
  {
   "cell_type": "code",
   "execution_count": 3,
   "id": "4167ebf8-4802-4c2c-8ac7-fea1cabd5505",
   "metadata": {},
   "outputs": [
    {
     "data": {
      "text/html": [
       "<div>\n",
       "<style scoped>\n",
       "    .dataframe tbody tr th:only-of-type {\n",
       "        vertical-align: middle;\n",
       "    }\n",
       "\n",
       "    .dataframe tbody tr th {\n",
       "        vertical-align: top;\n",
       "    }\n",
       "\n",
       "    .dataframe thead th {\n",
       "        text-align: right;\n",
       "    }\n",
       "</style>\n",
       "<table border=\"1\" class=\"dataframe\">\n",
       "  <thead>\n",
       "    <tr style=\"text-align: right;\">\n",
       "      <th></th>\n",
       "      <th>node_type_id</th>\n",
       "      <th>dynamics_params</th>\n",
       "      <th>model_template</th>\n",
       "      <th>model_type</th>\n",
       "    </tr>\n",
       "  </thead>\n",
       "  <tbody>\n",
       "    <tr>\n",
       "      <th>0</th>\n",
       "      <td>100</td>\n",
       "      <td>custom_model_params.default.json</td>\n",
       "      <td>nest:izhikevich</td>\n",
       "      <td>point_neuron</td>\n",
       "    </tr>\n",
       "  </tbody>\n",
       "</table>\n",
       "</div>"
      ],
      "text/plain": [
       "   node_type_id                   dynamics_params   model_template  \\\n",
       "0           100  custom_model_params.default.json  nest:izhikevich   \n",
       "\n",
       "     model_type  \n",
       "0  point_neuron  "
      ]
     },
     "execution_count": 3,
     "metadata": {},
     "output_type": "execute_result"
    }
   ],
   "source": [
    "import pandas as pd\n",
    "\n",
    "pd.read_csv('network_built_in/net_node_types.csv', sep=' ')"
   ]
  },
  {
   "cell_type": "markdown",
   "id": "6e0700fb-674e-40d9-bbec-b49697e4e9e9",
   "metadata": {},
   "source": [
    "We encourage you to try running the network yourself by either running in the command line or un\n",
    "```\n",
    "$ python run_pointnet.built_in.py config.built_in.json\n",
    "```\n",
    "or with the below cell, trying it with different cell models. "
   ]
  },
  {
   "cell_type": "code",
   "execution_count": 4,
   "id": "3aa1cd9b-0b93-4d33-b0d8-89ea13cff66c",
   "metadata": {},
   "outputs": [
    {
     "name": "stdout",
     "output_type": "stream",
     "text": [
      "\n",
      "              -- N E S T --\n",
      "  Copyright (C) 2004 The NEST Initiative\n",
      "\n",
      " Version: 3.6.0\n",
      " Built: Sep 28 2023 11:52:40\n",
      "\n",
      " This program is provided AS IS and comes with\n",
      " NO WARRANTY. See the file LICENSE for details.\n",
      "\n",
      " Problems or suggestions?\n",
      "   Visit https://www.nest-simulator.org\n",
      "\n",
      " Type 'nest.help()' to find out more about NEST.\n",
      "\n",
      "2024-05-02 17:29:54,210 [INFO] Created log file\n",
      "2024-05-02 17:29:54,225 [INFO] Batch processing nodes for net/0.\n",
      "2024-05-02 17:29:54,237 [INFO] Batch processing nodes for virt_exc/0.\n",
      "2024-05-02 17:29:54,263 [INFO] Setting up output directory\n",
      "2024-05-02 17:29:54,266 [INFO] Building cells.\n",
      "2024-05-02 17:29:54,276 [INFO] Building recurrent connections\n",
      "2024-05-02 17:29:54,298 [INFO] Network created.\n",
      "2024-05-02 17:29:54,301 [INFO] Build virtual cell stimulations for thalamus_spikes\n",
      "2024-05-02 17:29:54,341 [INFO] Starting Simulation\n",
      "2024-05-02 17:29:59,093 [INFO] Simulation finished, finalizing results.\n",
      "2024-05-02 17:30:00,275 [INFO] Done.\n"
     ]
    }
   ],
   "source": [
    "from bmtk.simulator import pointnet\n",
    "\n",
    "configure = pointnet.Config.from_json('config.built_in.json')\n",
    "configure.build_env()\n",
    "\n",
    "network = pointnet.PointNetwork.from_config(configure)\n",
    "sim = pointnet.PointSimulator.from_config(configure, network)\n",
    "sim.run()"
   ]
  },
  {
   "cell_type": "markdown",
   "id": "48bae8e9-4b80-4c81-b67a-2bc3759e75ad",
   "metadata": {},
   "source": [
    "One thing to note is that when you replace one cell-model with another you may often get widely varying results. A network that is stable or silent in using one cell type may explode when a model gets replaced. Fixing this may require the or both of the following following:\n",
    "* Adjusting the **dynamics_params** of the new cell type.\n",
    "* Adjust the synaptic models and parameters (especially **syn_weight**)."
   ]
  },
  {
   "cell_type": "markdown",
   "id": "2ad7f269-b7a8-474a-826d-54b18a8a9466",
   "metadata": {},
   "source": [
    "## Example: Importing Custom NESTML cell models"
   ]
  },
  {
   "cell_type": "code",
   "execution_count": null,
   "id": "7a113e5d-a05a-4029-b37c-f04ab31e3a2b",
   "metadata": {},
   "outputs": [],
   "source": []
  },
  {
   "cell_type": "markdown",
   "id": "5232f217-7b0c-4ebd-b2d4-4d93e320f85a",
   "metadata": {},
   "source": [
    "## Example: Overriding the creating of cell models"
   ]
  },
  {
   "cell_type": "markdown",
   "id": "27bfbb77-ec4e-4f9d-bb59-fd5b6889df5c",
   "metadata": {},
   "source": [
    "Before BMTK starts a simulation, it will go ahead and call on NEST to create neurons for all cells using attributes like **model_type**, **model_template**, and **dynamics_params**. BMTK will initialize the creation of these cells for you and for the vast majority of simulations the user does not have to do anythin special other than specify the models and parameters in the SONATA file. \n",
    "\n",
    "However, on rare occassions you may find yourself requiring more grainular control of how PointNet initializes and creates the neurons before the simulation begins. For example, you may want to find or alter cell parameters at the start of a simulation. Some models may require a non-standard way of initializing them. Or you may need to attach Parrot or Relay neurons to a subset of your cells. \n",
    "\n",
    "When BMTK initializes cells for simualation it will normally call the function `loadNESTModel` function in [`bmtk.simulation.pointnet.default_setters.cell_models`](). This is a simple function that calls that NEST `Create` function to initialize a batch of neurons that share the same model-name and properites.\n",
    "\n",
    "```python\n",
    "def loadNESTModel(cell, template_name, dynamics_params):\n",
    "    return nest.Create(template_name, cell.n_nodes, dynamics_params)\n",
    "```\n",
    "\n",
    "If you need to override this function, BMTK provides a special [python decorator](https://peps.python.org/pep-0318/) called `@cell_model`. To use the decorator you can add the following to your *run_pointnet.py* (or in a separate python file imported before you run the simulation) as such\n",
    "\n",
    "```python\n",
    "from bmtk.simulator.pointnet import cell_model\n",
    "\n",
    "@cell_model(directive='nest', model_type='point_neuron')\n",
    "def loadNESTModel(cell, template_name, dynamics_params):\n",
    "    nest_nodes = ... # create and initialize cells\n",
    "    return nest_nodes\n",
    "```\n",
    "To explain what is happening in this function\n",
    "* The `@cell_model` decorator is placed right before our user defined function in order to tell bmtk that this is a special function that will be used in the creation of \"nest\" cells\n",
    "  * The parameters tell BMTK that this function will be called for every group of cells with **model_template** of format `nest:...` and have **model_type** of point_neuron\n",
    "* There are three parameters the BMTK will pass into this function\n",
    "  * `cell` is copy of cell object and can be used to access all of an cell(s) properities (can be accessed like a dictionary)\n",
    "  * `template` will be the name of the model (eg. izhikevich, glif_psc, hh_cond, etc)\n",
    "  * `dynamics_params` will be a dictionary containing the contents of the json or hdf5 **dynamics_params**.\n",
    "* Inside the function we should create our cell(s), usually using the NEST [Create](https://nest-simulator.readthedocs.io/en/v3.3/ref_material/pynest_apis.html#module-nest.lib.hl_api_nodes) function.\n",
    "* You must return the results of the Create function, usually of list of ids, back to bmtk.\n",
    "\n",
    "During the initialization process BMTK will call this custom function. It tries to do so in batches, often initializing cells with the same models and signitures in batches.\n"
   ]
  },
  {
   "cell_type": "markdown",
   "id": "f1e646fd-c529-407c-a8c6-bc8e533641a7",
   "metadata": {},
   "source": [
    "<div class=\"alert alert-block alert-info\">\n",
    "⚠️ WARNING: Overwriting loadNESTModel can be dangerous\n",
    "</div>\n",
    "\n",
    "If you're network has many different models then overwritting `loadNESTModel` to deal with only a subset of the cells can have unintended side-effects. However bmtk lets you create specific load methods for different models\n"
   ]
  },
  {
   "cell_type": "markdown",
   "id": "d12fcb57-8c57-4fb8-86f1-6c8a431e44c9",
   "metadata": {},
   "source": [
    "#### Overriding Izhikeich model\n",
    "\n",
    "For example, let's say we want to modify and adjust parameters on-the-fly (eg. we don't want to have to rebuild the network every time) but only for the `izhikevich` models. Specially we want to add jitter to the \"d\" parameter which won't exists for other model types. To do so we add a function `loadIzhikevich` and in the `@cell_model` parameters make sure that it only applies to `nest:Izhikevich` models, so that all other model types gets created in the default manner.\n",
    "\n",
    "We add the following function"
   ]
  },
  {
   "cell_type": "code",
   "execution_count": 9,
   "id": "605848aa-1c59-4929-a68f-73641e1dfec9",
   "metadata": {},
   "outputs": [],
   "source": [
    "from bmtk.simulator.pointnet import cell_model\n",
    "from bmtk.simulator.pointnet.io_tools import io\n",
    "import nest\n",
    "\n",
    "@cell_model(directive='nest:izhikevich', model_type='point_neuron')\n",
    "def loadIzhikevich(cell, template_name, dynamics_params):\n",
    "    nodes = nest.Create(template_name, cell.n_nodes, dynamics_params)\n",
    "    \n",
    "    d_orig = nest.GetStatus(nodes, 'd')\n",
    "    jitter = cell['jitter']\n",
    "    d_noisy = d_orig*jitter\n",
    "    nest.SetStatus(nodes, {'d': d_noisy})\n",
    "    io.log_info(f'Modifying the parameters of {cell.n_nodes} {template_name} neurons.')\n",
    "    return nodes"
   ]
  },
  {
   "cell_type": "markdown",
   "id": "2238dbbe-25fa-4143-808c-2b29c838f5a4",
   "metadata": {},
   "source": [
    "* First we create the cells as normal using the `Create` method. Then we use the `nest.GetStatus` and `nest.SetStatus` to update the \"d\" parameters for each cell. It is sometimes possible to alter the way `Create()` method is called, but in general it is best to use [`GetStatus`](https://nest-simulator.readthedocs.io/en/v3.3/ref_material/pynest_apis.html#module-nest.lib.hl_api_info) to alter parameters\n",
    "* The network has a jitter parameter which we can multiple by the default \"d\" value and is stored in the hdf5 file. We call `cell[jitter]` to get this value as an array, and can use `cell` to fetch other cell attributes.\n",
    "* As an optional measure we add some logging. This is a good sanity check to make sure our funnction is being called as it should.\n",
    "\n",
    "After we added our custom function we can load PointNet in the normal manner:"
   ]
  },
  {
   "cell_type": "code",
   "execution_count": 10,
   "id": "0acdb9d5-cd8a-441b-a4aa-5da5f879cdb0",
   "metadata": {},
   "outputs": [
    {
     "name": "stdout",
     "output_type": "stream",
     "text": [
      "2024-05-02 17:30:46,709 [INFO] Created log file\n",
      "2024-05-02 17:30:46,719 [INFO] Batch processing nodes for net/0.\n",
      "2024-05-02 17:30:46,729 [INFO] Batch processing nodes for virt_exc/0.\n",
      "2024-05-02 17:30:46,748 [INFO] Setting up output directory\n",
      "2024-05-02 17:30:46,751 [INFO] Building cells.\n",
      "2024-05-02 17:30:46,755 [INFO] Modifying the parameters of 10 izhikevich neurons.\n",
      "2024-05-02 17:30:46,757 [INFO] Building recurrent connections\n",
      "2024-05-02 17:30:46,762 [INFO] Network created.\n",
      "2024-05-02 17:30:46,764 [INFO] Build virtual cell stimulations for thalamus_spikes\n",
      "2024-05-02 17:30:46,792 [INFO] Starting Simulation\n",
      "2024-05-02 17:30:47,388 [INFO] Simulation finished, finalizing results.\n",
      "2024-05-02 17:30:47,413 [INFO] Done.\n"
     ]
    }
   ],
   "source": [
    "from bmtk.simulator import pointnet\n",
    "\n",
    "configure = pointnet.Config.from_json('config.iz_updated.json')\n",
    "configure.build_env()\n",
    "\n",
    "network = pointnet.PointNetwork.from_config(configure)\n",
    "sim = pointnet.PointSimulator.from_config(configure, network)\n",
    "sim.run()"
   ]
  },
  {
   "cell_type": "code",
   "execution_count": null,
   "id": "cb747400-de5a-41d1-9b2d-0ced945dac42",
   "metadata": {},
   "outputs": [],
   "source": []
  }
 ],
 "metadata": {
  "kernelspec": {
   "display_name": "bmtk-py3.10",
   "language": "python",
   "name": "bmtk-py3.10"
  },
  "language_info": {
   "codemirror_mode": {
    "name": "ipython",
    "version": 3
   },
   "file_extension": ".py",
   "mimetype": "text/x-python",
   "name": "python",
   "nbconvert_exporter": "python",
   "pygments_lexer": "ipython3",
   "version": "3.10.13"
  }
 },
 "nbformat": 4,
 "nbformat_minor": 5
}
