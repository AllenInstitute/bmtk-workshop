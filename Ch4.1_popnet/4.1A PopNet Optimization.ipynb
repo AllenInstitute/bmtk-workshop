{
 "cells": [
  {
   "cell_type": "markdown",
   "id": "4a48c45c-27e9-458e-8ed5-0729be661d34",
   "metadata": {},
   "source": [
    "# 4.1A PopNet optimization\n",
    "\n",
    "This tutorial demonstrates a method for optimizing Stabilized Supralinear Network (SSN) model parameters using an optimizer.\n",
    "\n",
    "This example requires the 'numba' and 'iminuit' packages. Please ensure they are installed to run the notebook. While Numba is not strictly required for running the SSN model, its inclusion accelerates the simulation by approximately 50-100 times, making it more practical for optimization tasks.\n",
    "\n",
    "Reference: [Coordinated changes in a cortical circuit sculpt effects of novelty on neural dynamics](https://www.sciencedirect.com/science/article/pii/S2211124724011148)\n"
   ]
  },
  {
   "cell_type": "code",
   "execution_count": null,
   "id": "313c08fa-97eb-41b0-a135-864d64c17fa1",
   "metadata": {},
   "outputs": [],
   "source": [
    "%%html\n",
    "<style>table {float:left;display:block}</style>\n",
    "\n",
    "\n"
   ]
  },
  {
   "cell_type": "code",
   "execution_count": null,
   "id": "401c8d30",
   "metadata": {},
   "outputs": [],
   "source": [
    "# Import block\n",
    "from bmtk.simulator import popnet\n",
    "import matplotlib.pyplot as plt\n",
    "import matplotlib as mpl\n",
    "from cycler import cycler\n",
    "import pickle\n",
    "import numpy as np\n",
    "from iminuit import minimize\n",
    "\n",
    "\n",
    "# For visualization\n",
    "line_cols = {  # copied form project_colors in util\n",
    "    \"Sst-IRES-Cre\": (158 / 255, 218 / 255, 229 / 255),\n",
    "    \"sst\": (158 / 255, 218 / 255, 229 / 255),\n",
    "    \"Slc17a7-IRES2-Cre\": (255 / 255, 152 / 255, 150 / 255),\n",
    "    \"slc\": (255 / 255, 152 / 255, 150 / 255),\n",
    "    \"Vip-IRES-Cre\": (197 / 255, 176 / 255, 213 / 255),\n",
    "    \"vip\": (197 / 255, 176 / 255, 213 / 255),\n",
    "}\n",
    "color_list = [line_cols[\"slc\"], \"mediumaquamarine\", line_cols[\"sst\"], line_cols[\"vip\"]]\n",
    "mpl.rcParams[\"axes.prop_cycle\"] = cycler(color=color_list)"
   ]
  },
  {
   "cell_type": "markdown",
   "id": "7dc99302-689a-4be6-8876-ed6b6affaeec",
   "metadata": {},
   "source": [
    "## Optimizing network parameters\n",
    "\n",
    "In this example, the SSN PopNet is used in an interactive mode and used for parameter optimization. First, load the network and instantiate the simulator."
   ]
  },
  {
   "cell_type": "code",
   "execution_count": null,
   "id": "c4b3bc43-114c-4498-a48a-c0c26588aea2",
   "metadata": {},
   "outputs": [],
   "source": [
    "@popnet.inputs_generator\n",
    "def load_bkg_inputs(node, sim, **opts):\n",
    "    # print(node.node_id, node.population)\n",
    "    # print(sim.dt, sim.tstart, sim.tstop, sim.nsteps)\n",
    "    return np.ones(sim.nsteps)\n",
    "\n",
    "\n",
    "configure = popnet.Config.from_json('config.simulation.json')\n",
    "configure.build_env()\n",
    "\n",
    "network = popnet.PopNetwork.from_config(configure)\n",
    "sim = popnet.PopSimulator.from_config(configure, network)"
   ]
  },
  {
   "cell_type": "markdown",
   "id": "3f1342e2",
   "metadata": {},
   "source": [
    "When the simulator is run with 'return_output' option, the results are returned a variable instead of being written to a file.\n",
    "This mechanism facilitates the formulation of an optimization problem."
   ]
  },
  {
   "cell_type": "code",
   "execution_count": null,
   "id": "2c2548cb",
   "metadata": {},
   "outputs": [],
   "source": [
    "results = sim.run(return_output=True)\n",
    "\n",
    "print(results.shape)"
   ]
  },
  {
   "cell_type": "markdown",
   "id": "0c916d47",
   "metadata": {},
   "source": [
    "The result will have a shape of (time steps, number of nodes) including the external units.\n",
    "To retrieve the activity of only the recurrent units, one can do:"
   ]
  },
  {
   "cell_type": "code",
   "execution_count": null,
   "id": "5c9c25bb",
   "metadata": {},
   "outputs": [],
   "source": [
    "print(results[:, :network.n_neu_recurrent])\n",
    "\n",
    "\n",
    "# %% simulation runs the network twice, first half for stabilizing the activity, second half for recording the activity\n",
    "duration = 6750\n",
    "\n",
    "def plot_traces(results):\n",
    "    plt.plot(results)\n",
    "    plt.legend([\"Exc\", \"PV\", \"SST\", \"VIP\"])\n",
    "    plt.xlabel(\"Time (ms)\")\n",
    "    plt.ylabel(\"Firing Rate (Hz)\")\n",
    "    \n",
    "# plot only the second half of the simulation\n",
    "plot_traces(results[duration:duration*2, :network.n_neu_recurrent])\n",
    "plt.title(\"Simulated traces\")"
   ]
  },
  {
   "cell_type": "markdown",
   "id": "03dceff5",
   "metadata": {},
   "source": [
    "Now let's load some target data. The present model is pre-optimized to reproduce this data."
   ]
  },
  {
   "cell_type": "code",
   "execution_count": null,
   "id": "de0fd37a-26f3-4c73-ba61-1d0c9dc56a52",
   "metadata": {},
   "outputs": [],
   "source": [
    "with open('optim_data/l23_mean_traces.pkl', 'rb') as f:\n",
    "    l23_mean_traces = pickle.load(f)\n",
    "\n",
    "l23_mean_traces.keys()\n",
    "\n",
    "cells_to_read = ['RS_G', 'FS_G', 'SST_G', 'VIP_G']\n",
    "mean_traces = np.array([l23_mean_traces[cell][\"mean\"] for cell in cells_to_read]).T\n",
    "\n",
    "plot_traces(mean_traces[:duration])\n",
    "plt.title(\"Experimental traces\")\n",
    "\n"
   ]
  },
  {
   "cell_type": "markdown",
   "id": "1a03cfd3",
   "metadata": {},
   "source": [
    "For a demonstration purpose, let's jitter the parameters of the model."
   ]
  },
  {
   "cell_type": "code",
   "execution_count": null,
   "id": "6fd104bd",
   "metadata": {},
   "outputs": [],
   "source": [
    "# Jitter parameters by 5%.\n",
    "\n",
    "original_connectivity_mat = network.connectivity_mat\n",
    "original_decay_constants = network.decay_constants"
   ]
  },
  {
   "cell_type": "code",
   "execution_count": null,
   "id": "029f51de",
   "metadata": {},
   "outputs": [],
   "source": [
    "# fix the seed for reproducibility\n",
    "np.random.seed(0)\n",
    "\n",
    "frac_change = 0.01\n",
    "\n",
    "new_connectivity_mat = original_connectivity_mat * np.random.uniform(1-frac_change, 1+frac_change, original_connectivity_mat.shape)\n",
    "new_decay_constants = original_decay_constants * np.random.uniform(1-frac_change, 1+frac_change, original_decay_constants.shape)\n",
    "\n",
    "# set the new parameters to the network\n",
    "network.connectivity_mat = new_connectivity_mat\n",
    "network.decay_constants = new_decay_constants\n",
    "\n",
    "# run simulation\n",
    "results_jittered = sim.run(return_output=True)\n",
    "\n",
    "\n",
    "# plot the results\n",
    "plot_traces(results_jittered[duration:duration*2, :network.n_neu_recurrent])\n",
    "plt.title(\"Jittered traces\")\n"
   ]
  },
  {
   "cell_type": "markdown",
   "id": "8b7b8efc",
   "metadata": {},
   "source": [
    "We can see that the jittered traces have different SST/VIP balances. Let's see whether we can recover the activity of the original model through optimization. First let's define the loss function simply as the mean square errors between the model and target traces."
   ]
  },
  {
   "cell_type": "code",
   "execution_count": null,
   "id": "9b403940",
   "metadata": {},
   "outputs": [],
   "source": [
    "def loss_function(results, target):\n",
    "    # pick up the time window that corresponds to the target data\n",
    "    # For the simulation, the first half is for stabilizing the activity.\n",
    "    # The second half should be compared with the target data.\n",
    "    results = results[duration:duration*2]\n",
    "    target = target[:duration]\n",
    "    \n",
    "    return np.mean((results - target)**2)\n",
    "\n",
    "def set_parameters(parameters):\n",
    "    matrix_parameters = parameters[:network.connectivity_mat.size]\n",
    "    decay_parameters = parameters[network.connectivity_mat.size:]\n",
    "\n",
    "    network.connectivity_mat = matrix_parameters.reshape(network.connectivity_mat.shape)\n",
    "    network.decay_constants = decay_parameters\n",
    "    return\n",
    "\n",
    "# formulate the optimization problem\n",
    "def optim_func(parameters):\n",
    "    set_parameters(parameters)\n",
    "\n",
    "    results = sim.run(return_output=True)\n",
    "    \n",
    "    loss = loss_function(results[:, :network.n_neu_recurrent], mean_traces)\n",
    "    return loss\n",
    "\n",
    "\n",
    "# let's minimize using minimize in iminuit\n",
    "init_parameters = np.concatenate([network.connectivity_mat.flatten(), network.decay_constants])\n",
    "m = minimize(optim_func, init_parameters)\n",
    "\n",
    "print(m.message)\n",
    "print(m.x)"
   ]
  },
  {
   "cell_type": "code",
   "execution_count": null,
   "id": "79ad7dc3",
   "metadata": {},
   "outputs": [],
   "source": [
    "# Plot the results of the optimized network.\n",
    "set_parameters(m.x)\n",
    "\n",
    "results = sim.run(return_output=True)\n",
    "\n",
    "plot_traces(results[duration:duration*2, :network.n_neu_recurrent])\n",
    "plt.title(\"Optimized traces\")\n",
    "plt.show()"
   ]
  },
  {
   "cell_type": "markdown",
   "id": "8dfd0084",
   "metadata": {},
   "source": [
    "We successfully recovered the original activity of the network that matches with the experiment. Note that this is a simple demonstration of the optimization using the SSN model. Real-world optimization problem using the SSN model is typically much more difficult and require more elaborated setup. Please refer to the paper [Coordinated changes in a cortical circuit sculpt effects of novelty on neural dynamics](https://www.sciencedirect.com/science/article/pii/S2211124724011148) for an example of an actual study."
   ]
  },
  {
   "cell_type": "markdown",
   "id": "70c4370d-4832-43c5-9043-724e6a92b63d",
   "metadata": {},
   "source": [
    "[**Proceed to Chapter 5**](../Ch5_filternet/5.%20FilterNet.ipynb)"
   ]
  },
  {
   "cell_type": "code",
   "execution_count": null,
   "id": "65a20d2e-e8a6-43b0-b6f2-f52e79cb4b96",
   "metadata": {},
   "outputs": [],
   "source": []
  }
 ],
 "metadata": {
  "kernelspec": {
   "display_name": "bmtk-py3.11",
   "language": "python",
   "name": "bmtk-py3.11"
  },
  "language_info": {
   "codemirror_mode": {
    "name": "ipython",
    "version": 3
   },
   "file_extension": ".py",
   "mimetype": "text/x-python",
   "name": "python",
   "nbconvert_exporter": "python",
   "pygments_lexer": "ipython3",
   "version": "3.11.13"
  }
 },
 "nbformat": 4,
 "nbformat_minor": 5
}
