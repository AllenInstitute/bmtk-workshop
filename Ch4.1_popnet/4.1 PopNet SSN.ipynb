{
 "cells": [
  {
   "cell_type": "markdown",
   "id": "4a48c45c-27e9-458e-8ed5-0729be661d34",
   "metadata": {},
   "source": [
    "# 4.1 PopNet Simulation with SSN\n",
    "\n",
    "\n",
    "Original work by Rubin et al.: [The Stabilized Supralinear Network: A Unifying Circuit Motif Underlying Multi-Input Integration in Sensory Cortex](https://doi.org/10.1016/j.neuron.2014.12.026)\n",
    "\n",
    "Application study by Ito et al.: [Coordinated changes in a cortical circuit sculpt effects of novelty on neural dynamics](https://doi.org/10.1016/j.celrep.2024.114763)\n",
    "\n",
    "$$\n",
    "\\tau_j \\frac{dr}{dt} = -r_j + (s(\\sum_i J_{ji} r_{i} + J_{E}r_{E}) + b_{j})_+^2 \\tag{1}\n",
    "$$\n"
   ]
  },
  {
   "cell_type": "code",
   "execution_count": 1,
   "id": "313c08fa-97eb-41b0-a135-864d64c17fa1",
   "metadata": {},
   "outputs": [
    {
     "data": {
      "text/html": [
       "<style>table {float:left;display:block}</style>\n",
       "\n"
      ],
      "text/plain": [
       "<IPython.core.display.HTML object>"
      ]
     },
     "metadata": {},
     "output_type": "display_data"
    }
   ],
   "source": [
    "%%html\n",
    "<style>table {float:left;display:block}</style>\n",
    "\n"
   ]
  },
  {
   "cell_type": "markdown",
   "id": "747d7113-a5f0-4aa5-bec3-38534725e04e",
   "metadata": {},
   "source": [
    "## Building and Saving the network\n",
    "\n",
    "First step is to either build a new, or download an existing, network of nodes and edges to simulate. We will use the BMTK [NetworkBuilder](https://alleninstitute.github.io/bmtk/tutorials/NetworkBuilder_Intro.html) to create a standard network and save it to the SONATA network file format. Unlike simulators like BioNet or PointNet, which deals with networks of individual spiking cells - PopNet simulates the firing-rate dynamics between subpopulations/cell-types. As such when we build each sub-population using ```add_nodes``` method we only have 1 cell in a population (eg. We let the ```N``` parameter default to value **1**).\n",
    "\n",
    "It is also possible to use PopNet with an existing network containing individual cells, as long as we specify during simulation how to group individual cells into populations, which we will demonstrate below. (**NOTE**: If using a BioNet or PointNet network with PopNet you will also need to update and map parameters, which at the moment needs to be preformed manually)."
   ]
  },
  {
   "cell_type": "markdown",
   "id": "3c511cb5-48b9-4d5f-b92f-c85923340e5d",
   "metadata": {},
   "source": [
    "### Building Recurrent Networks\n",
    "\n",
    "We will first build and save a model representing the major cell types found in the mouse cortex L2/3. We start by instantiating a network called \"l23\" and addng the four major cell populations whose firing-rates dynamics will be calculated during simulation"
   ]
  },
  {
   "cell_type": "code",
   "execution_count": 1,
   "id": "9d0a1961-dea7-4ca2-a89b-affd484fe338",
   "metadata": {},
   "outputs": [],
   "source": [
    "from bmtk.builder import NetworkBuilder\n",
    "\n",
    "\n",
    "l23_net = NetworkBuilder('l23')\n",
    "l23_net.add_nodes(\n",
    "    pop_name='Exc',\n",
    "    ei='e',\n",
    "    model_template='ssn:Recurrent',\n",
    "    model_type='rate_population',\n",
    "    scaling_coef=22.392148198236782,\n",
    "    exponent=2.0,\n",
    "    decay_const=10.0500429106779\n",
    ")\n",
    "l23_net.add_nodes(\n",
    "    pop_name='PV',\n",
    "    ei='i',\n",
    "    model_template='ssn:Recurrent',\n",
    "    model_type='rate_population',\n",
    "    scaling_coef=22.392148198236782,\n",
    "    exponent=2.0,\n",
    "    decay_const=11.8257398864811\n",
    ")\n",
    "\n",
    "l23_net.add_nodes(\n",
    "    pop_name='SST',\n",
    "    ei='i',\n",
    "    model_template='ssn:Recurrent',\n",
    "    model_type='rate_population',\n",
    "    scaling_coef=22.392148198236782,\n",
    "    exponent=2.0,\n",
    "    decay_const=10.0159482249032\n",
    ")\n",
    "\n",
    "l23_net.add_nodes(\n",
    "    pop_name='VIP',\n",
    "    ei='i',\n",
    "    model_template='ssn:Recurrent',\n",
    "    model_type='rate_population',\n",
    "    scaling_coef=22.392148198236782,\n",
    "    exponent=2.0,\n",
    "    decay_const=49.3117045605402\n",
    ")"
   ]
  },
  {
   "cell_type": "markdown",
   "id": "cc6f0a35-8359-4bcc-a0e4-9e7c215103f6",
   "metadata": {},
   "source": [
    "Each of the four node-populations are set using a combination of optional and required attributes which will be used to instantate the cells in the network.\n",
    "\n",
    "* **pop_name** and **ei** are *optional* attributes we assign to each population, will be useful during analysis and \n",
    "* We must set **model_type** to ```rate_population``` and **model_template** to ```ssn:Recurrent``` to indicate to PopNet how to instantiate each sub-population.\n",
    "* **scaling_coeff** is the connectivity scaling factor of the network: variable $s$ in eq (1)\n",
    "* **decay_const** is the decay rate of the popuatlion: $\\tau$ in eq (1)\n",
    "* **exponent** is the exponent calcuated at each time step (defaul 2)\n",
    "* **init_state** is the *optional* default initial state ($r_0$ in eq (1)). Although this value can be overwritten at the start of each simulation (see below)."
   ]
  },
  {
   "cell_type": "markdown",
   "id": "1ed7c9a9-6a62-456b-8840-7c5008a58350",
   "metadata": {},
   "source": [
    "---\n",
    "\n",
    "#### [OPTIONAL] Dynamic Parameters File\n",
    "\n",
    "The above network will save the relevant PopNet simulation parameters - **scaling_coeff**, **decay_const**, **exponent**, and **init_state** inside the SONATA network file. It is also possible to use the ```dynamic_params``` keyword to store and load parameters from an external json file. For example you can also use:\n",
    "\n",
    "```python\n",
    "\n",
    "l23_net.add_nodes(\n",
    "    pop_name='Exc',\n",
    "    ei='e',\n",
    "    model_template='ssn:Recurrent',\n",
    "    model_type='rate_population',\n",
    "    dynamics_params='Exc_ssn_params.json'\n",
    ")\n",
    "```\n",
    "\n",
    "Where **Exc_ssn_params.json** is a json file\n",
    "\n",
    "```json\n",
    "{\n",
    "    scaling_coef=22.392148198236782,\n",
    "    exponent=2.0,\n",
    "    decay_const=49.3117045605402,\n",
    "    init_state=0.0\n",
    "}\n",
    "```\n",
    "\n",
    "Both options will work with PopNet and produce the same results. Using ```dynamics_params``` makes it easier to adjust and swap out parameters on the fly, but can add complexity to the simulation and could potentially lead to issues with reproducability.\n",
    "\n",
    "---"
   ]
  },
  {
   "cell_type": "markdown",
   "id": "52fc5ab5-ceb3-4628-9da1-a503ab9dc6e6",
   "metadata": {},
   "source": [
    "Now we want to add connections between populations using the ```add_edges``` method. For each population we only need to indicate the **source** sub-population, the **target** population, and the **connection-strength** ($J_{ij}$).\n",
    "\n",
    "After we set the connections we can build and save the network to the *network/* directory.\n"
   ]
  },
  {
   "cell_type": "code",
   "execution_count": 2,
   "id": "5c9b76fa-0d4d-40e9-b387-a72e5eb0cda6",
   "metadata": {},
   "outputs": [],
   "source": [
    "import pandas as pd\n",
    "import numpy as np\n",
    "import itertools\n",
    "\n",
    "matrix = [\n",
    "    # Connection weights have been pre-calculated\n",
    "    [ 0.032540014514440,  0.04043037008531871,  0.07409100928480848,  0.054303329629300665],\n",
    "    [-0.009474168446121, -0.01234075896522014, -0.00496813087571539,                   0.0],\n",
    "    [-0.001201518371451, -0.00271476061802006, -0.00061333573436626, -0.014630226522887473],\n",
    "    [-0.000305028126569, -0.00073158484138907, -0.00777536182340318, -0.0001246269351861529]\n",
    "]\n",
    "connections_df = pd.DataFrame(np.array(matrix), columns=['Exc', 'PV', 'SST', 'VIP'], index=['Exc', 'PV', 'SST', 'VIP'])\n",
    "\n",
    "for src, trg in itertools.product(['Exc', 'PV', 'SST', 'VIP'], repeat=2):\n",
    "    l23_net.add_edges(\n",
    "        source={'pop_name': src}, \n",
    "        target={'pop_name': trg},\n",
    "        syn_weight=connections_df.loc[src][trg]\n",
    "    )\n",
    "\n",
    "l23_net.build()\n",
    "l23_net.save(output_dir='network')"
   ]
  },
  {
   "cell_type": "markdown",
   "id": "00173cfd-0c1e-4494-b51d-b7447b8f8f24",
   "metadata": {},
   "source": [
    "### Building External Inputs\n",
    "\n",
    "Now we also want to create inputs that can be used to drive our network ($b_j$). In our model we will have inputs from two separate networks; subcortical inputs (**bkg**) and inputs from the local L4 cells (**l4**). We create these two networks like we do with the recurrent - but the caveat that we must set ```model_type=virtual``` which will indicate to PopNet that these aren't populations to simulate, but rather virutal \"placeholders\" that will be used for input stimulus (which we can define at run-time).\n"
   ]
  },
  {
   "cell_type": "code",
   "execution_count": 3,
   "id": "2f355141-8c74-4dee-9e25-243ebd8418e7",
   "metadata": {},
   "outputs": [],
   "source": [
    "# Create L4 --> L2/3 connections\n",
    "l4e_net = NetworkBuilder('l4e')\n",
    "l4e_net.add_nodes(\n",
    "    model_template='ssn:External',\n",
    "    model_type='virtual'\n",
    ")\n",
    "\n",
    "for trg, syn_weight in zip(['Exc', 'PV', 'SST', 'VIP'], [0.01256496, 0.0278943, 0.0034658, 0.01172155]):\n",
    "    l4e_net.add_edges(\n",
    "        target=l23_net.nodes(pop_name=trg),\n",
    "        syn_weight=syn_weight\n",
    "    )\n",
    "\n",
    "l4e_net.build()\n",
    "l4e_net.save(output_dir='network')\n",
    "\n",
    "\n",
    "# Create BKG --> L2/3 connections\n",
    "bkg_net = NetworkBuilder('bkg')\n",
    "bkg_net.add_nodes(\n",
    "    model_template='ssn:External',\n",
    "    model_type='virtual'\n",
    ")\n",
    "for trg, syn_weight in zip(['Exc', 'PV', 'SST', 'VIP'], [0.00869301, 0.00013383, 0.00177394, 0.01785412]):\n",
    "    bkg_net.add_edges(\n",
    "        target=l23_net.nodes(pop_name=trg),\n",
    "        syn_weight=syn_weight\n",
    "    )\n",
    "bkg_net.build()\n",
    "bkg_net.save(output_dir='network')"
   ]
  },
  {
   "cell_type": "markdown",
   "id": "660fcb60-76ec-44c8-a52b-16a625165b46",
   "metadata": {},
   "source": [
    "## Setting up and running a simulation"
   ]
  },
  {
   "cell_type": "markdown",
   "id": "b1a15845-b96b-42f6-b9a3-20853e5bf680",
   "metadata": {},
   "source": [
    "Once we have built or imported a set of network file(s) we can go ahead and start the simulation. We must tell BMTK where find the network files for simulation, as well as what inputs/stimuli to use, and how to record and save the results of the simulation. The easiest way to do so is through a SONATA configuration file; in this case **config.simulation.json** which we can be easily edited with the text editor of your choice (you may also multiple configuration files corresponding to different simulations). \n",
    "\n",
    "We will go through the **config.simulation.json** file and explain the different sections and options available when running a simulation"
   ]
  },
  {
   "cell_type": "markdown",
   "id": "b89f9f14-8c3a-4783-a9a2-ddfa9a42315f",
   "metadata": {},
   "source": [
    "### \"run\" and \"target_simulator\""
   ]
  },
  {
   "cell_type": "markdown",
   "id": "a256b83e-0163-4997-abd1-a3e8b043a5ab",
   "metadata": {},
   "source": [
    "We specify to **target_simulator** parameter to indicate to use the **SSN** simulator backend (available options: **SSN**, **DiPDE**) and the **run** section to indicate overall run-time and grouping parameters  \n",
    "\n",
    "\n",
    "```json\n",
    "{\n",
    "\n",
    "  \"target_simulator\": \"SSN\",\n",
    "  \n",
    "  \"run\": {\n",
    "    \"tstop\": 13500.0\n",
    "    \"dt\": 1.0\n",
    "  },\n",
    "\n",
    "  // ...\n",
    "\n",
    "}\n",
    "```\n",
    "<table >\n",
    "    <tr><th>Attribute</th><th>units</th><th>Description</th><th>Default</th><tr>\n",
    "    <tr>\n",
    "        <td>tstop</td>\n",
    "        <td>ms</td>\n",
    "        <td>The amount of time (in ms) to run the simulation. If not explcity specified, BMTK will attempt to infer tstop from external input(s)</td>\n",
    "        <td></td>\n",
    "    </tr>\n",
    "    <tr>\n",
    "        <td>dt</td>\n",
    "        <td>ms</td>\n",
    "        <td>The time step in ms. Is required</td>\n",
    "        <td>1.0</td>\n",
    "    </tr>\n",
    "    <tr>\n",
    "        <td>nsteps_block</td>\n",
    "        <td>steps</td>\n",
    "        <td>Used by modules for block processing</td>\n",
    "        <td>tstop/dt</td>\n",
    "    </tr>\n",
    "    <tr>\n",
    "        <td>groupby</td>\n",
    "        <td>string</td>\n",
    "        <td>Used to specify which attribute/column for when grouping individual cells into populations</td>\n",
    "        <td>node_id</td>\n",
    "    </tr>\n",
    "    <tr>\n",
    "        <td>activation_function</td>\n",
    "        <td>string</td>\n",
    "        <td>name of function to call at each step (see below).</td>\n",
    "        <td>relu</td>\n",
    "    </tr>\n",
    "<table>"
   ]
  },
  {
   "cell_type": "markdown",
   "id": "d64dfd77-ec22-4abd-a35d-157c5db1d8bc",
   "metadata": {},
   "source": [
    "### \"inputs\""
   ]
  },
  {
   "cell_type": "markdown",
   "id": "5adf877c-e9df-47d3-b24e-7f58718b53c9",
   "metadata": {},
   "source": [
    "#### initial states"
   ]
  },
  {
   "cell_type": "markdown",
   "id": "2fafc522-85c6-4fd4-a64a-6ca9a706e8c2",
   "metadata": {},
   "source": [
    "\n",
    "We use the following block to define the initial states of the recurrent populations, eg. $r_0$. (**Note**: Any ```init_state``` attribute saved in the SONATA network file or dynamics_params json will be overwritten).  \n",
    "\n",
    "```json\n",
    "\"inputs\": {\n",
    "  \"init_states\": {\n",
    "    \"input_type\": \"init_states\",\n",
    "    \"module\": \"csv\",\n",
    "    \"node_set\": {\n",
    "      \"population\": \"l23\"\n",
    "     },\n",
    "     \"file\": \"$BASE_DIR/input/initial_state.csv\"\n",
    "  }\n",
    "  // ...\n",
    "}\n",
    "\n",
    "```\n",
    "\n",
    "We must set ```input_type``` to **init_states**, and use ```node_set``` to indicate which nodes to target (in this case all nodes in the \"l23\" network). While the ```module``` is used to indicate how to actually assign initial states (randomly, using a pregenerated list, or through custom functions).\n",
    "\n",
    "In the above case the init_states are saved in a csv file *inputs/initial_states.csv* which contains assignements of each inital_state based on the id of each subpopulation:\n",
    "\n",
    "<table >\n",
    "    <tr><th>node_id</th><th>population</th><th>initial_state</th><th>pop_name</th><tr>\n",
    "    <tr>\n",
    "        <td>0</td>\n",
    "        <td>l23</td>\n",
    "        <td>1.38853652</td>\n",
    "        <td>Exc</td>\n",
    "    </tr>\n",
    "    <tr>\n",
    "        <td>0</td>\n",
    "        <td>l23</td>\n",
    "        <td>3.50304166</td>\n",
    "        <td>PV</td>\n",
    "    </tr>\n",
    "    <tr>\n",
    "        <td>0</td>\n",
    "        <td>l23</td>\n",
    "        <td>1.61686557</td>\n",
    "        <td>SST</td>\n",
    "    </tr>\n",
    "    <tr>\n",
    "        <td>0</td>\n",
    "        <td>l23</td>\n",
    "        <td>5.02447877</td>\n",
    "        <td>VIP</td>\n",
    "    </tr>\n",
    "</table>\n",
    "<br>"
   ]
  },
  {
   "cell_type": "markdown",
   "id": "1743de79-fddd-447d-b649-ce3c7cdf57ef",
   "metadata": {},
   "source": [
    "We could aslo pass it in as a list directly specified in the json file:\n",
    "\n",
    "```json\n",
    "\"inputs\": {\n",
    "  \"init_states\": {\n",
    "    \"input_type\": \"init_states\",\n",
    "    \"node_set\": {\n",
    "        \"population\": \"l23\",\n",
    "        \"node_id\": [0, 1, 2, 3]\n",
    "    }\n",
    "    \"module\": \"list\",\n",
    "    \"initial_states\": [1.38853652, 3.50304166, 1.61686557, 5.02447877]\n",
    "  }\n",
    "  // ...\n",
    "}\n",
    "\n",
    "```\n",
    "\n",
    "Options for **init_states** inputs. \n",
    "\n",
    "<table >\n",
    "    <tr><th>module</th><th>Description</th><th>Options</th><tr>\n",
    "    <tr>\n",
    "        <td>constant</td>\n",
    "        <td>Assigns all populations the same constant value</td>\n",
    "        <td><b>initial_state</b>: initial firing rate value (float)</td>\n",
    "    </tr>\n",
    "    <tr>\n",
    "        <td>random</td>\n",
    "        <td>Assign initial states randomly</td>\n",
    "        <td><b>distribution</b>: name of distribution for sampling (\"uniform\", \"normal\", \"poisson\", \"lognormal\")<br>\n",
    "            <b>seed</b>: integer random number generator seed (int, default: None)<br>\n",
    "            <b>low, high</b>: parameters used in \"uniform\" random sampling<br>\n",
    "            <b>mean, std</b>: parameters using in \"normal\", \"poisson\", and \"lognormal\" distribution<br>\n",
    "        </td>\n",
    "    </tr>\n",
    "    <tr>\n",
    "        <td>list</td>\n",
    "        <td>Assign population initial values from a list or npy array, by default assignment is done in order</td>\n",
    "        <td><b>initial_states</b>: A list of initial firing rates (list) or path to npy file (string)<br>\n",
    "            <b>shuffle</b>: shuffle list before assigning initial values (default: false)\n",
    "        </td>\n",
    "    </tr>\n",
    "    <tr>\n",
    "        <td>csv</td>\n",
    "        <td>Assign populations init_values from a csv file</td>\n",
    "        <td>\n",
    "            <b>file</b>: path to csv file containg inital rates<br>\n",
    "            <b>initial_states</b>: A list of initial firing rates (list) or path to npy file (string)<br>\n",
    "            <b>shuffle</b>: shuffle list before assigning initial values (default: false)\n",
    "        </td>\n",
    "    </tr>\n",
    "    <tr>\n",
    "        <td>function</td>\n",
    "        <td>Will call a user-defined function to fetch initial states for each node</td>\n",
    "        <td>\n",
    "            <b>init_function</b>: name of function to execute<br>\n",
    "        </td>\n",
    "    </tr>\n",
    "<table>\n",
    "\n",
    "\n",
    "**Using custom function**\n",
    "\n",
    "The ```input_type=\"function\"``` options allows users to write special functions that will be called before each simulation that returns a init_value according to the rules specified by the user. In the json we must tell BMTK the name of the function to call using the ```init_function``` attribute. Then in the main python script (or any imported python script) we use the ```@init_function``` decorator to register our function with BMTK.\n",
    "\n",
    "\n",
    "For example we create a function named **set_init_states** by adding the following to our run_popnet.py script\n",
    "\n",
    "\n",
    "```python\n",
    "\n",
    "from bmtk.simulator import popnet\n",
    "\n",
    "@popnet.init_function\n",
    "def set_init_states(node, **opts):\n",
    "    if node['ie'] == 'e':\n",
    "        return 1.5\n",
    "    else:\n",
    "        return np.random.uniform(0.0, 5.0)\n",
    "\n",
    "```\n",
    "\n",
    "The function will be called for each node that requires init_state value to be assinged. The **node** parameter is a dictionary like object that user can get attributes from each node. The **\\*\\*opts** contain additional options including simulation, network, and input parameters if the user needs them. The function is expected to return a value firing rate value (a positive floating point number).\n"
   ]
  },
  {
   "cell_type": "markdown",
   "id": "56123954-ff29-4e0b-9061-e58b0931a1bd",
   "metadata": {},
   "source": [
    "#### external inputs"
   ]
  },
  {
   "cell_type": "markdown",
   "id": "e12d0b86-2385-40f6-a833-3a56519d8f7c",
   "metadata": {},
   "source": [
    "We also use the \"inputs\" section of the json file to indicate how our virtual/external nodes will calculate firing-rate inputs into our recurrent network. \n",
    "\n",
    "```python\n",
    "{\n",
    "    \"inputs\": {\n",
    "        // ...\n",
    "    \n",
    "      \"l4_inputs\": {\n",
    "        \"input_type\": \"external_rates\",\n",
    "        \"module\": \"h5\",\n",
    "        \"file\": \"$BASE_DIR/input/l4e_rates.h5\",\n",
    "        \"node_set\": {\n",
    "            \"population\": \"l4e\"\n",
    "        }\n",
    "      },\n",
    "      \"bkg_inputs\": {\n",
    "        \"input_type\": \"external_rates\",\n",
    "        \"node_set\": {\n",
    "            \"population\": \"bkg\"\n",
    "        },\n",
    "        \"module\": \"npy\",\n",
    "        \"file\": \"$BASE_DIR/input/bkg_rates.npy\"\n",
    "      }\n",
    "    }\n",
    "}\n",
    "```\n",
    "\n",
    "We must set ```input_type``` to value **external_rates**, and use the ```node_set``` attribute to indicate which nodes to target. Because bkg and l4e uses different stimuli inputs we have two independent **external_rates** section. Like with init_states the ```module``` tells us the modality of the inputs\n",
    "\n",
    "<table >\n",
    "    <tr><th>module</th><th>Description</th><th>Options</th><tr>\n",
    "    <tr>\n",
    "        <td>npy</td>\n",
    "        <td>Read in array containing firing rate dynamics to assign to external input</td>\n",
    "        <td><b>file</b>: path to file containing array of firing-rate dynamics to use during simulation</td>\n",
    "    </tr>\n",
    "    <tr>\n",
    "        <td>csv</td>\n",
    "        <td>Read in a csv file containing firing rate dynamics to assign to external input (See below for rates format)</td>\n",
    "        <td><b>file</b>: path to file containing array of firing-rate dynamics to use during simulation<br>\n",
    "            <b>sep</b>: column separator to use (default: \" \")<br>\n",
    "            <b>index_col</b>: column to use to identify and map nodes (default: \"node_id\")<br>\n",
    "            <b>firing_rates_col</b>: column to use to get firing rates array (default: \"node_id\")<br>\n",
    "            <b>ignore_population</b>: do not use population (network name) for mapping nodes from network to csv (default: false)\n",
    "        </td>\n",
    "    </tr>\n",
    "    <tr>\n",
    "        <td>h5</td>\n",
    "        <td>Read in a hdf5 file containing firing rate dynamics to assign to external input (See below for rates format)</td>\n",
    "        <td><b>file</b>: path to file containing array of firing-rate dynamics to use during simulation<br>\n",
    "            <b>ignore_population</b>: do not use population (network name) for mapping nodes from network to csv (default: false)\n",
    "        </td>\n",
    "    </tr>\n",
    "    <tr>\n",
    "        <td>fuction</td>\n",
    "        <td>Have popnet call a user-defined function for each node that will return an array of firing rates</td>\n",
    "        <td><b>inputs_generator</b>: name of function to call before simulation starts<br></td>\n",
    "    </tr>\n",
    "<table>\n",
    "\n",
    "**custom function**\n",
    "\n",
    "When ```module``` is set to value **function** then PopNet will expect find a user defined function with name ```inputs_generator``` that will be called before the simulation. In the main python script (or any imported python script) we use the ```@inputs_generator``` decorator to register our function with BMTK. For example:\n",
    "\n",
    "\n",
    "```python\n",
    "\n",
    "from bmtk.simulator import popnet\n",
    "\n",
    "\n",
    "@popnet.inputs_generator\n",
    "def load_bkg_inputs(node, sim, **opts):\n",
    "    # print(node.node_id, node.population)\n",
    "    # print(sim.dt, sim.tstart, sim.tstop, sim.nsteps)\n",
    "    return np.ones(sim.nsteps)\n",
    "```\n",
    "\n",
    "\n",
    "**WARNING: simulation time and step size**\n",
    "\n",
    "The SSN simulation engine requires all input arrays have the same time signature (eg. same start, stop, and dt) as specified in the \"run\" section. To make things easier, if ```tstop``` and ```dt``` are not defined the \"run\" section PopNet will try to infer it from the external_inputs array (in the case the user doesn't know the time signature in the numpy/csv/hdf5 file).\n",
    "\n",
    "However if the ```tstop``` and ```dt``` are defined in the \"run\" section, issues may arise if the time signature of any of the inputs don't match up. By default BMTK will compalain and stop the simulation. But users have the option of using ```\"strict\": false``` option to allow PopNet to attempt to run the simulation anyways. If the simulation ends before the input array PopNet will remove the tail of the input. If the input array is too short it will append the end with zeros. It will also try to align timestamps if the sampling rates are different. But if the inputs can't align with the run time BMTK will throw an error and exit the simulation.\n",
    "\n"
   ]
  },
  {
   "cell_type": "markdown",
   "id": "7f084275-8568-4579-841b-fc5a77ea463b",
   "metadata": {},
   "source": [
    "### \"output\""
   ]
  },
  {
   "cell_type": "markdown",
   "id": "72ab6979-8d81-4942-8506-e7ebf429ffca",
   "metadata": {},
   "source": [
    "The \"output\" section of the configuration json is used to indicate where and how to save simulated firing-rates\n",
    "\n",
    "```json \n",
    "  \"output\": {\n",
    "    \"output_dir\": \"$BASE_DIR/output/\",\n",
    "    \"rates_file_csv\": \"l23_rates.csv\",\n",
    "    \"rates_file_h5\": \"l23_rates.h5\",\n",
    "    \"include_columns\": [\"pop_name\"],\n",
    "    \"log_file\": \"log.txt\",\n",
    "    \"overwrite_output_dir\": true\n",
    "  }\n",
    "```\n",
    "\n",
    "In the above example, when the simulation is finished it will save the L2/3 firing rate dynamics in two different file formats, a csv file (under ./ouput/l23_rates.csv) and a hdf5 file (user ./output/l23_rates.h5). See below for more information about how rates are saved to file.\n",
    "\n",
    "\n",
    "<table >\n",
    "    <tr><th>module</th><th>Description</th><tr>\n",
    "    <tr>\n",
    "        <td>output_dir</td>\n",
    "        <td>Directory where any output files will be written to (assuming they aren't using relative paths)</td>\n",
    "    </tr>\n",
    "    <tr>\n",
    "        <td>log_file</td>\n",
    "        <td>Path to file where simulation log will be written.</td>\n",
    "    </tr>\n",
    "    <tr>\n",
    "        <td>log_level</td>\n",
    "        <td>Level of logging: DEBUG, INFO, WARNING, ERROR. (default: INFO)</td>\n",
    "        <td>node_id</td>\n",
    "    </tr>\n",
    "    <tr>\n",
    "        <td>rates_file_csv</td>\n",
    "        <td>Path to csv where firing rates will be written to (see below for rates format)</td>\n",
    "    </tr>\n",
    "    <tr>\n",
    "        <td>rates_file_h5</td>\n",
    "        <td>Path to csv where firing rates will be written to (see below for rates format)</td>\n",
    "    </tr>\n",
    "    <tr>\n",
    "        <td>include_columns</td>\n",
    "        <td>(Optional) Include other columns/attributes in output rates file(s)</td>\n",
    "    </tr>\n",
    "<table>"
   ]
  },
  {
   "cell_type": "markdown",
   "id": "e4d64ba4-7ca2-482f-b705-611505c74bb3",
   "metadata": {},
   "source": [
    "### \"networks\""
   ]
  },
  {
   "cell_type": "markdown",
   "id": "e34b97c8-e7bf-4353-bab0-5c6005611cc4",
   "metadata": {},
   "source": [
    "The \"networks\" section allows us to define which networks to use during the simulation. If we want to run a simulation with different inputs, or add recurrent connections, we can do so here:\n",
    "\n",
    "```json\n",
    "{\n",
    "  \"networks\": {\n",
    "    \"nodes\": [\n",
    "      {\n",
    "        \"nodes_file\": \"$NETWORK_DIR/l23_nodes.h5\",\n",
    "        \"node_types_file\": \"$NETWORK_DIR/l23_node_types.csv\"\n",
    "      },\n",
    "      {\n",
    "            \"nodes_file\": \"$NETWORK_DIR/l4e_nodes.h5\",\n",
    "            \"node_types_file\": \"$NETWORK_DIR/l4e_node_types.csv\"\n",
    "      },\n",
    "      {\n",
    "            \"nodes_file\": \"$NETWORK_DIR/bkg_nodes.h5\",\n",
    "            \"node_types_file\":  \"$NETWORK_DIR/bkg_node_types.csv\"\n",
    "      }\n",
    "    ],\n",
    "    \"edges\": [\n",
    "      {\n",
    "            \"edges_file\": \"$NETWORK_DIR/l23_l23_edges.h5\",\n",
    "            \"edge_types_file\": \"$NETWORK_DIR/l23_l23_edge_types.csv\"\n",
    "      },\n",
    "      {\n",
    "            \"edges_file\": \"$NETWORK_DIR/l4e_l23_edges.h5\",\n",
    "            \"edge_types_file\": \"$NETWORK_DIR/l4e_l23_edge_types.csv\"\n",
    "      },\n",
    "      {\n",
    "           \"edges_file\": \"$NETWORK_DIR/bkg_l23_edges.h5\",\n",
    "            \"edge_types_file\": \"$NETWORK_DIR/bkg_l23_edge_types.csv\"\n",
    "      }\n",
    "    ]\n",
    "  }\n",
    "}\n",
    "```\n"
   ]
  },
  {
   "cell_type": "markdown",
   "id": "e3ec9640-2434-4bc8-be59-3b09e48b3b1a",
   "metadata": {},
   "source": [
    "### [OPTIONAL] \"run/activation_function\""
   ]
  },
  {
   "cell_type": "markdown",
   "id": "bc59da9a-f7f7-41a8-b7bc-070ed0cd183e",
   "metadata": {},
   "source": [
    "By default, the SSN applies a standard [ReLU function](https://en.wikipedia.org/wiki/Relu) to the input at the each time step before raising it to an exponent, however it is possible to overwrite it with a function of your own. We can replace it with our own function by first creating a function that takes an array of size $N$ (number of recurrent nodes), does some processing, then returns an array of size $N$. To make sure that PopNet can see the function we need to register it with the ```@activation_function``` decorator and make sure it's somewhere in our run script.\n",
    "\n",
    "For example we could have\n",
    "\n",
    "```python\n",
    "from bmtk.simulator import popnet\n",
    "\n",
    "\n",
    "@popnet.inputs_generator\n",
    "def custom_activation_fn(state_arr):\n",
    "    return np.tanh(state_arr)\n",
    "\n",
    "\n",
    "configure = popnet.Config.from_json('config.simulation.json')\n",
    "configure.build_env()\n",
    "//... rest of run script\n",
    "```\n",
    "\n",
    "Then in the **\"run\"** section of the configuration json\n",
    "\n",
    "```json\n",
    "{\n",
    "  \"run\" {\n",
    "    \"tstop\": 13500.0,\n",
    "    \"dt\": 1.0,\n",
    "    \"activation_function\": \"custon_activation_fn\"\n",
    "  }\n",
    "}\n",
    "```\n",
    "\n",
    "And next time we run the popnet script like usual it replace the normal relu function with the custom one.\n"
   ]
  },
  {
   "cell_type": "markdown",
   "id": "7dc99302-689a-4be6-8876-ed6b6affaeec",
   "metadata": {},
   "source": [
    "## Running the simulation"
   ]
  },
  {
   "cell_type": "markdown",
   "id": "2a084018-9650-4ce5-acd9-b09983dacf7a",
   "metadata": {},
   "source": [
    "Now that we have created our network, and defined our simulation parameters in the json configuration, we can go ahead and run the simulation. In the terminal we could run the script \n",
    "\n",
    "```bash\n",
    " $ python run_popnet.py config.simulation.json\n",
    "```\n",
    "\n",
    "Or in jupyter lab cell:"
   ]
  },
  {
   "cell_type": "code",
   "execution_count": 4,
   "id": "c4b3bc43-114c-4498-a48a-c0c26588aea2",
   "metadata": {},
   "outputs": [
    {
     "name": "stdout",
     "output_type": "stream",
     "text": [
      "2025-07-11 18:16:02,840 [INFO] Created log file\n",
      "2025-07-11 18:16:02,872 [INFO] Building nodes.\n",
      "2025-07-11 18:16:02,873 [INFO] Building connections.\n",
      "2025-07-11 18:16:02,874 [INFO] Add input module \"init_states\"\n",
      "2025-07-11 18:16:02,875 [INFO] Add input module \"l4_inputs\"\n",
      "2025-07-11 18:16:02,876 [INFO] Add input module \"bkg_inputs\"\n",
      "2025-07-11 18:16:02,877 [INFO] Running Simulation.\n",
      "2025-07-11 18:16:04,217 [INFO] Simulation Finished.\n",
      "2025-07-11 18:16:04,221 [INFO] RatesRecorderMod: Saving rates to /home/kael/Workspace/bmtk-workshop/Ch4.1_popnet/output/l23_rates.csv.\n",
      "2025-07-11 18:16:04,271 [INFO] RatesRecorderMod: Saving rates to /home/kael/Workspace/bmtk-workshop/Ch4.1_popnet/output/l23_rates.h5.\n"
     ]
    }
   ],
   "source": [
    "from bmtk.simulator import popnet\n",
    "\n",
    "@popnet.inputs_generator\n",
    "def load_bkg_inputs(node, sim, **opts):\n",
    "    # print(node.node_id, node.population)\n",
    "    # print(sim.dt, sim.tstart, sim.tstop, sim.nsteps)\n",
    "    return np.ones(sim.nsteps)\n",
    "\n",
    "\n",
    "configure = popnet.Config.from_json('config.simulation.json')\n",
    "configure.build_env()\n",
    "\n",
    "network = popnet.PopNetwork.from_config(configure)\n",
    "sim = popnet.PopSimulator.from_config(configure, network)\n",
    "sim.run()   "
   ]
  },
  {
   "cell_type": "markdown",
   "id": "9e3d7980-4428-432e-bf05-76dc0f33bf81",
   "metadata": {},
   "source": [
    "We use BMTK built in ```analyzer``` functions to plot the recorded firing rates."
   ]
  },
  {
   "cell_type": "code",
   "execution_count": 5,
   "id": "de0fd37a-26f3-4c73-ba61-1d0c9dc56a52",
   "metadata": {},
   "outputs": [
    {
     "data": {
      "image/png": "[encoded data removed]",
      "text/plain": [
       "<Figure size 640x480 with 1 Axes>"
      ]
     },
     "metadata": {},
     "output_type": "display_data"
    }
   ],
   "source": [
    "from bmtk.analyzer.firing_rates import plot_rates\n",
    "\n",
    "import matplotlib as mpl\n",
    "from cycler import cycler\n",
    "\n",
    "\n",
    "# For visualization\n",
    "line_cols = {  # copied form project_colors in util\n",
    "    \"Sst-IRES-Cre\": (158 / 255, 218 / 255, 229 / 255),\n",
    "    \"sst\": (158 / 255, 218 / 255, 229 / 255),\n",
    "    \"Slc17a7-IRES2-Cre\": (255 / 255, 152 / 255, 150 / 255),\n",
    "    \"slc\": (255 / 255, 152 / 255, 150 / 255),\n",
    "    \"Vip-IRES-Cre\": (197 / 255, 176 / 255, 213 / 255),\n",
    "    \"vip\": (197 / 255, 176 / 255, 213 / 255),\n",
    "}\n",
    "color_list = [line_cols[\"slc\"], \"mediumaquamarine\", line_cols[\"sst\"], line_cols[\"vip\"]]\n",
    "mpl.rcParams[\"axes.prop_cycle\"] = cycler(color=color_list)\n",
    "\n",
    "plot_rates('config.simulation.json', label_column='pop_name')"
   ]
  },
  {
   "cell_type": "markdown",
   "id": "7f2095ab-7e4b-43ad-92da-f71e4d76693e",
   "metadata": {},
   "source": [
    "## Firing Rates File"
   ]
  },
  {
   "cell_type": "markdown",
   "id": "e8fc7c67-5e35-49d6-9dbb-2ccf2f229557",
   "metadata": {},
   "source": [
    "### CSV File"
   ]
  },
  {
   "cell_type": "markdown",
   "id": "1761d5c4-2655-4cdd-bb10-9bd89bf3c0a1",
   "metadata": {},
   "source": [
    "When writing or reading a firing-rates file PopNet is expecting a space-separated csv file with at least columns \"node_id\" (integer) and \"firing_rates\" (float). The format may also include other optional columns that can be used to identify and cluster populations"
   ]
  },
  {
   "cell_type": "code",
   "execution_count": 6,
   "id": "f974427c-9175-4656-9272-06db661c63e9",
   "metadata": {},
   "outputs": [
    {
     "data": {
      "text/html": [
       "<div>\n",
       "<style scoped>\n",
       "    .dataframe tbody tr th:only-of-type {\n",
       "        vertical-align: middle;\n",
       "    }\n",
       "\n",
       "    .dataframe tbody tr th {\n",
       "        vertical-align: top;\n",
       "    }\n",
       "\n",
       "    .dataframe thead th {\n",
       "        text-align: right;\n",
       "    }\n",
       "</style>\n",
       "<table border=\"1\" class=\"dataframe\">\n",
       "  <thead>\n",
       "    <tr style=\"text-align: right;\">\n",
       "      <th></th>\n",
       "      <th>population</th>\n",
       "      <th>node_id</th>\n",
       "      <th>timestamps</th>\n",
       "      <th>firing_rates</th>\n",
       "      <th>pop_name</th>\n",
       "    </tr>\n",
       "  </thead>\n",
       "  <tbody>\n",
       "    <tr>\n",
       "      <th>0</th>\n",
       "      <td>l23</td>\n",
       "      <td>0</td>\n",
       "      <td>0.0</td>\n",
       "      <td>1.388537</td>\n",
       "      <td>Exc</td>\n",
       "    </tr>\n",
       "    <tr>\n",
       "      <th>1</th>\n",
       "      <td>l23</td>\n",
       "      <td>0</td>\n",
       "      <td>1.0</td>\n",
       "      <td>1.388849</td>\n",
       "      <td>Exc</td>\n",
       "    </tr>\n",
       "    <tr>\n",
       "      <th>2</th>\n",
       "      <td>l23</td>\n",
       "      <td>0</td>\n",
       "      <td>2.0</td>\n",
       "      <td>1.388839</td>\n",
       "      <td>Exc</td>\n",
       "    </tr>\n",
       "    <tr>\n",
       "      <th>3</th>\n",
       "      <td>l23</td>\n",
       "      <td>0</td>\n",
       "      <td>3.0</td>\n",
       "      <td>1.388825</td>\n",
       "      <td>Exc</td>\n",
       "    </tr>\n",
       "    <tr>\n",
       "      <th>4</th>\n",
       "      <td>l23</td>\n",
       "      <td>0</td>\n",
       "      <td>4.0</td>\n",
       "      <td>1.388349</td>\n",
       "      <td>Exc</td>\n",
       "    </tr>\n",
       "  </tbody>\n",
       "</table>\n",
       "</div>"
      ],
      "text/plain": [
       "  population  node_id  timestamps  firing_rates pop_name\n",
       "0        l23        0         0.0      1.388537      Exc\n",
       "1        l23        0         1.0      1.388849      Exc\n",
       "2        l23        0         2.0      1.388839      Exc\n",
       "3        l23        0         3.0      1.388825      Exc\n",
       "4        l23        0         4.0      1.388349      Exc"
      ]
     },
     "execution_count": 6,
     "metadata": {},
     "output_type": "execute_result"
    }
   ],
   "source": [
    "import pandas as pd\n",
    "\n",
    "l23_rates_df = pd.read_csv('output/l23_rates.csv', sep=' ')\n",
    "l23_rates_df.head()"
   ]
  },
  {
   "cell_type": "code",
   "execution_count": 7,
   "id": "7ce4c858-bccd-4b2f-9afc-6300ee274bd4",
   "metadata": {},
   "outputs": [
    {
     "data": {
      "text/plain": [
       "population  pop_name\n",
       "l23         Exc         1.738432\n",
       "            PV          4.813858\n",
       "            SST         4.094843\n",
       "            VIP         4.535815\n",
       "Name: firing_rates, dtype: float64"
      ]
     },
     "execution_count": 7,
     "metadata": {},
     "output_type": "execute_result"
    }
   ],
   "source": [
    "# Get the firing rates averages\n",
    "l23_rates_df.groupby(['population', 'pop_name'])['firing_rates'].agg('sum')/sim.tstop"
   ]
  },
  {
   "cell_type": "markdown",
   "id": "33411777-c2c6-4604-8f8b-4cc027fb6a9e",
   "metadata": {},
   "source": [
    "### HDF5 File"
   ]
  },
  {
   "cell_type": "markdown",
   "id": "bc16227c-a7c3-48b6-9cc7-98768ad28845",
   "metadata": {},
   "source": [
    "Another option is to save and load rates from a SONATA formated HDF5 file.\n",
    "\n",
    "Rates will be saved by **population** (if there are multiple recurrent networks in the simualtion there will be multiple subgroups) under the group **/rates/{population}/**. The **data** dataset contains a $T \\times N$ (where $T$ is the number of timesteps, $N$ the number of nodes) matrix where each column represents the recording firing-rate dynamics for each node. And the **mapping** group contains ways of mapping individual times and keys/attributes to the rows and columns, respectivly."
   ]
  },
  {
   "cell_type": "code",
   "execution_count": 8,
   "id": "ce7ec8af-7e4a-4b0f-9a1e-0ad0d62a2d08",
   "metadata": {},
   "outputs": [
    {
     "name": "stdout",
     "output_type": "stream",
     "text": [
      "l23_rates.h5/\n",
      "|--*rates/\n",
      "   |--*l23/\n",
      "      |-->[data] (13500, 4)\n",
      "      |--*mapping/\n",
      "         |-->[node_ids] (4,)\n",
      "         |-->[pop_name] (4,)\n",
      "         |-->[time] (13500,)\n"
     ]
    }
   ],
   "source": [
    "import h5py\n",
    "\n",
    "# Will parse and show the rates hdf5 tree\n",
    "def tree_recurse(h5_obj, depth):\n",
    "    indent = '   '*(depth-1) + '|--'\n",
    "\n",
    "    for key, node in h5_obj.items():\n",
    "        if isinstance(node, h5py.Group):\n",
    "            print(f'{indent}*{key}/')\n",
    "            tree_recurse(node, depth=depth+1)\n",
    "        elif isinstance(node, h5py.Dataset):\n",
    "            print(f'{indent}>[{key}] {node.shape}')\n",
    "\n",
    "\n",
    "h5_root = h5py.File('output/l23_rates.h5', 'r')\n",
    "print('l23_rates.h5/')\n",
    "tree_recurse(h5_root, depth=1)"
   ]
  },
  {
   "cell_type": "code",
   "execution_count": 9,
   "id": "4b8f5ba5-8851-48f8-ae8f-9a9f581bff36",
   "metadata": {},
   "outputs": [
    {
     "name": "stdout",
     "output_type": "stream",
     "text": [
      "l23\n",
      "  Exc: 1.738561101541575\n",
      "  PV: 4.814214600421233\n",
      "  SST: 4.095146474363797\n",
      "  VIP: 4.5361512436614\n"
     ]
    }
   ],
   "source": [
    "# How to calcuate firing rate averages from the h5 file\n",
    "with h5py.File('output/l23_rates.h5', 'r') as h5:\n",
    "    for pname, pgrp in h5['/rates/'].items():\n",
    "        node_ids = pgrp['mapping/pop_name'][()].astype(str)\n",
    "        time = pgrp['mapping/time'][-1]\n",
    "        print(pname)\n",
    "        for idx, nid in enumerate(node_ids):\n",
    "            fr_avg = np.sum(pgrp['data'][:, idx])/time\n",
    "            print(f'  {nid}: {fr_avg}')"
   ]
  },
  {
   "cell_type": "markdown",
   "id": "d2d2c2cc-0b85-4e1d-9687-a87fa41c7f9c",
   "metadata": {},
   "source": [
    "[OPTIONAL]\n",
    "\n",
    "[**See the next section, Ch 4.1A**](./4.1A%20PopNet%20Optimization.ipynb), for a quick tutorial on how to find and optimize Pop network parameters for your model"
   ]
  },
  {
   "cell_type": "markdown",
   "id": "ba65516f-e1c1-4ff0-8e48-5a0b578f3985",
   "metadata": {},
   "source": [
    "[**Proceed to Chapter 5**](../Ch5_filternet/5.%20FilterNet.ipynb)"
   ]
  },
  {
   "cell_type": "code",
   "execution_count": null,
   "id": "9db911bb-7aac-4d13-afbc-029e98a88dec",
   "metadata": {},
   "outputs": [],
   "source": []
  }
 ],
 "metadata": {
  "kernelspec": {
   "display_name": "bmtk-workshop-2025",
   "language": "python",
   "name": "bmtk-workshop-2025"
  },
  "language_info": {
   "codemirror_mode": {
    "name": "ipython",
    "version": 3
   },
   "file_extension": ".py",
   "mimetype": "text/x-python",
   "name": "python",
   "nbconvert_exporter": "python",
   "pygments_lexer": "ipython3",
   "version": "3.11.13"
  }
 },
 "nbformat": 4,
 "nbformat_minor": 5
}
