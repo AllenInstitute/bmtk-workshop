{
 "cells": [
  {
   "cell_type": "markdown",
   "id": "ea250b77-a92e-4946-9b2b-fefcae6f16d2",
   "metadata": {},
   "source": [
    "# Advanced Stimulus Options"
   ]
  },
  {
   "cell_type": "markdown",
   "id": "7f4aa205-0e7a-4370-8db9-997a12bafe9b",
   "metadata": {},
   "source": [
    "---\n",
    "\n",
    "## Contents\n",
    "1. [Example: Advanced options when using current-clamp stimulation](#example-advance-icalmp)\n",
    "2. [Example: Using current-clamp with complex and customized waveforms](#example-iclamp-waveforms)\n",
    "3. [Example: Applying voltage-clamps to cells during simulation](#example-voltage-clamps)\n",
    "4. [Example: Using sweep data from Allen Cell-Types In-vivo experiments](#example-cell-types)\n",
    "5. [Example: Stimulating a network with extracellular field potentials](#example-xstim)\n",
    "\n",
    "---"
   ]
  },
  {
   "cell_type": "markdown",
   "id": "71f5e6f7-a04e-4c31-98a2-026cdfb6655a",
   "metadata": {},
   "source": [
    "## Example: Advanced IClamp Options <a class=\"anchor\" id=\"example-advance-icalmp\">"
   ]
  },
  {
   "cell_type": "markdown",
   "id": "eb8682bf-5e2a-44ee-8d8d-9d73edd62f9b",
   "metadata": {},
   "source": [
    "By default you can insert a simple step current into a cell in your simulation by adding corresponding statement to the \"inputs\" section of your SONATA configuration file. For example, say we want to insert a 0.100 nA injection at t=500 ms for a duration of 1000 ms into the soma of our first cell:\n",
    "\n",
    "```json\n",
    "\"inputs\": {\n",
    "    \"current_clamp\": {\n",
    "        \"input_type\": \"clamp\",\n",
    "        \"module\": \"IClamp\",\n",
    "        \"node_set\": {\n",
    "            \"population\": \"net\"\n",
    "            \"node_id\": 0\n",
    "        },\n",
    "        \"amp\": 0.1000,\n",
    "        \"delay\": 500.0,\n",
    "        \"duration\": 1000.0,\n",
    "        \"section_name\": \"soma\",\n",
    "        \"section_index\": 0,\n",
    "        \"section_dist\": 0.5\n",
    "    }\n",
    "}\n",
    "```\n",
    "* **input_type** and **module** should always be set to values `clamp` and `IClamp`, respecitvely.\n",
    "* The **node_set** specifies what cell(s) we want to apply to the clamp. In this case only cell with node-id #0 in the \"net\" population of cells.\n",
    "* **amp** is the amplitude of the clamp to apply, in nA.\n",
    "* **delay** and **duration** tells us when to start the clamp and how long to apply it for, both in ms. In this case it will be a current from 500 ms to 1500 ms after start of simulation.\n",
    "* **section_name**, **section_index**, and **section_dist** tells us exactly where on the cell to place the clamp. In this case at the center of the soma. (*If you leave section_index and section_dist blank BMTK will attempt to find a random available place where to insert the clamp*)\n",
    "<div class=\"alert alert-block alert-info\">\n",
    " NOTE: For PoinNet users section_name, section_index and section_dist are not applicable and can be removed.\n",
    "</div>\n"
   ]
  },
  {
   "cell_type": "code",
   "execution_count": null,
   "id": "192123e0-d03d-4388-a6dd-afc5e47163d3",
   "metadata": {},
   "outputs": [],
   "source": [
    "from bmtk.simulator import bionet\n",
    "\n",
    "bionet.reset()\n",
    "conf = bionet.Config.from_json('config.current_clamp.json')\n",
    "conf.build_env()\n",
    "\n",
    "graph = bionet.BioNetwork.from_config(conf)\n",
    "sim = bionet.BioSimulator.from_config(conf, network=graph)\n",
    "sim.run()"
   ]
  },
  {
   "cell_type": "code",
   "execution_count": null,
   "id": "34290b9c-9e00-4773-9714-ecf597d0390e",
   "metadata": {},
   "outputs": [],
   "source": [
    "from bmtk.analyzer.compartment import plot_traces\n",
    "_ = plot_traces(config_file='config.current_clamp.json',  node_ids=range(5), report_name='membrane_potential')"
   ]
  },
  {
   "cell_type": "markdown",
   "id": "1d3d422c-8ec2-43cb-a4b7-0201d062624f",
   "metadata": {},
   "source": [
    "#### Selecting multiple cells\n",
    "\n",
    "In the above cells #1-4 have a flat trace since we only applied the current to cell #0. If you want to apply the same current to a specific population of cells you can use the **node_set** option to filter according to any available attributes. For example, say we want to apply the current cells in our network that have **model_type=biophysical**:\n",
    "\n",
    "```json\n",
    "\"current_clamp\": {\n",
    "    \"input_type\": \"current_clamp\",\n",
    "    \"module\": \"IClamp\",\n",
    "    \"node_set\": {\n",
    "        \"population\": \"net\", \n",
    "        \"model_type\": \"biophysical\"\n",
    "    },\n",
    "    \"amp\": 0.1000,\n",
    "    \"delay\": 500.0,\n",
    "    \"duration\": 1000.0,\n",
    "    \"section_name\": \"soma\"\n",
    "}\n",
    "```"
   ]
  },
  {
   "cell_type": "code",
   "execution_count": null,
   "id": "41309ea0-4432-4c78-88bc-872b26ebde4e",
   "metadata": {},
   "outputs": [],
   "source": [
    "from bmtk.simulator import bionet\n",
    "\n",
    "bionet.reset()\n",
    "conf = bionet.Config.from_json('config.current_clamp_allcells.json')\n",
    "conf.build_env()\n",
    "\n",
    "graph = bionet.BioNetwork.from_config(conf)\n",
    "sim = bionet.BioSimulator.from_config(conf, network=graph)\n",
    "sim.run()"
   ]
  },
  {
   "cell_type": "code",
   "execution_count": null,
   "id": "7472d4d5-754e-4179-b6ce-20816ba48272",
   "metadata": {},
   "outputs": [],
   "source": [
    "from bmtk.analyzer.compartment import plot_traces\n",
    "_ = plot_traces(config_file='config.current_clamp.json',  node_ids=range(5), report_name='membrane_potential')"
   ]
  },
  {
   "cell_type": "markdown",
   "id": "40176a68-188b-4f2f-9a99-2fa8f9cf4112",
   "metadata": {},
   "source": [
    "#### Selecting different placement\n",
    "\n",
    "Besides the `soma`, most morphologically detailed models will also give you options to place a clamp at the `axon`, `dend` (dendriates), `basal` (basal dendrites), or the `apic` (the apical dendrites). However unlike the `soma`, these other sections may be split into hundreds of different **section_index** (aka branches and compartments). If you do not know the specific section index for where you want to place the clamp you can use specify a range (in microns from the soma) of where you want BMTK to place it randomly.\n",
    "\n",
    "For example if we want to place the current injection at a random location on the apical or basal dendrites that is atleast 500 um away from the soma\n",
    "\n",
    "```json\n",
    "\"inputs\": {\n",
    "    \"current_clamp_apic\": {\n",
    "    \"input_type\": \"current_clamp\",\n",
    "    \"module\": \"IClamp\",\n",
    "    \"node_set\": {\n",
    "        \"population\": \"net\", \n",
    "        \"node_id\": [0]\n",
    "    },\n",
    "    \"amp\": 0.1000,\n",
    "    \"delay\": 500.0,\n",
    "    \"duration\": 1000.0,\n",
    "    \"section_name\": [\"dend\", \"apic\"],\n",
    "    \"section_index\": [500.0, 1.0e20]\n",
    "    }\n",
    "}\n",
    "```\n",
    "* We are trying to find any section that is (500, $\\infty$) away from the soma. However python doesn't handle infinity values very well so we just use a distance, 1e20, that we know will cover all feasible segments\n",
    "\n",
    "<div class=\"alert alert-block alert-info\">\n",
    " WARNING: As mentioned before this won't work on point-neurons or neurons with only a soma. Some morphologically detailed models may not have an \"apic\" section (or other section types too) and a simulation would thus fail if you attempt to insert an injection into such a section.\n",
    "</div>"
   ]
  },
  {
   "cell_type": "code",
   "execution_count": null,
   "id": "46e4eeaa-03c5-4b3e-b5ca-f87816907ffb",
   "metadata": {},
   "outputs": [],
   "source": [
    "from bmtk.simulator import bionet\n",
    "\n",
    "bionet.reset()\n",
    "conf = bionet.Config.from_json('config.current_clamp_apic.json')\n",
    "conf.build_env()\n",
    "\n",
    "graph = bionet.BioNetwork.from_config(conf)\n",
    "sim = bionet.BioSimulator.from_config(conf, network=graph)\n",
    "sim.run()"
   ]
  },
  {
   "cell_type": "code",
   "execution_count": null,
   "id": "6b89f09d-781b-412d-8331-d13f6d0842e0",
   "metadata": {},
   "outputs": [],
   "source": [
    "from bmtk.analyzer.compartment import plot_traces\n",
    "_ = plot_traces(config_file='config.current_clamp_apic.json',  node_ids=range(5), report_name='membrane_potential')"
   ]
  },
  {
   "cell_type": "markdown",
   "id": "ef02573a-673e-413b-acaa-59674e22c18b",
   "metadata": {},
   "source": [
    "### Adding multiple Clamps\n",
    "\n",
    "If you need to add multiple current-clamps (whether they overlap in time or not) to your simulation you can easily do it by adding multiple sections to the \"inputs\" sections:\n",
    "\n",
    "```json\n",
    "\"inputs\": {\n",
    "    \"current_clamp_1\": {\n",
    "        \"input_type\": \"current_clamp\",\n",
    "        \"module\": \"IClamp\",\n",
    "        \"node_set\": {\n",
    "            \"population\": \"net\", \n",
    "            \"node_id\": [0]\n",
    "        },\n",
    "        \"amp\": 0.1500,\n",
    "        \"delay\": 500.0,\n",
    "        \"section_name\": \"soma\"\n",
    "    },\n",
    "    \"current_clamp_2\": {\n",
    "        \"input_type\": \"current_clamp\",\n",
    "        \"module\": \"IClamp\",\n",
    "        \"node_set\": {\n",
    "            \"population\": \"net\", \n",
    "            \"node_id\": [0]\n",
    "        },\n",
    "        \"amp\": 0.1750,\n",
    "        \"delay\": 1500.0,\n",
    "        \"duration\": 500.0,\n",
    "        \"section_name\": \"soma\"\n",
    "    },\n",
    "    \"current_clamp_3\": {\n",
    "        \"input_type\": \"current_clamp\",\n",
    "        \"module\": \"IClamp\",\n",
    "        \"node_set\": {\n",
    "            \"population\": \"net\", \n",
    "            \"node_id\": [0]\n",
    "        },\n",
    "        \"amp\": 0.2000,\n",
    "        \"delay\": 2500.0,\n",
    "        \"duration\": 500.0,\n",
    "        \"section_name\": \"soma\"\n",
    "    }\n",
    "}\n",
    "```\n",
    "\n",
    "#### As a list\n",
    "\n",
    "However if you are applying clamps to the same **node_set** and **section** it is also possible to set **amp**, **duration**, and **delay** as a list. The main difference is that we must set the **module** to value `list`.\n",
    "\n",
    "```json\n",
    "\"inputs\": {\n",
    "    \"current_clamp_list\": {\n",
    "        \"input_type\": \"current_clamp\",\n",
    "        \"module\": \"list\",\n",
    "        \"node_set\": {\n",
    "            \"population\": \"net\", \n",
    "            \"model_type\": \"biophysical\"\n",
    "        },\n",
    "        \"amp\": [0.1500, 0.1750, 0.2000],\n",
    "        \"delay\": [500.0, 1500.0, 2500.0],\n",
    "        \"duration\": [500.0, 500.0, 500.0]\n",
    "        \"section_name\": \"soma\"\n",
    "    }\n",
    "}\n",
    "```\n"
   ]
  },
  {
   "cell_type": "markdown",
   "id": "601677ed-863b-4fbb-bad6-245dd0dec2e9",
   "metadata": {},
   "source": [
    "## Example: Complex current-clamp waveforms <a class=\"anchor\" id=\"example-iclamp-waveforms\">"
   ]
  },
  {
   "cell_type": "markdown",
   "id": "04a33110-4561-4fe8-a07e-6e62a22e2833",
   "metadata": {},
   "source": [
    "In the above example we inserted a current clamp as single or a series of step-currents. However you may want to use another input waveform like a wave or a gradual current which, if needed to be implemented using the above approach, would be mostly unfeasbile. Luckily, BMTK also allows us to save our current function into a csv file which can contain many individual points determining how the current will change at each step of time.\n",
    "\n",
    "This is done in much the same way as in the example above with two exceptions:\n",
    "1. The **module** should be set to value `csv`.\n",
    "2. Instead of specifying the **amp**, **delay**, or **duration**; you specify the **file** path to the csv file.\n",
    "\n",
    "For example to have a sequences of current clamps in the above example we would add the following to our configuration file:\n",
    "\n",
    "```json\n",
    "\"inputs\": {\n",
    "    \"current_clamp_series\": {\n",
    "        \"input_type\": \"csv\",\n",
    "        \"module\": \"IClamp\",\n",
    "        \"node_set\": {\n",
    "            \"population\": \"net\", \n",
    "            \"model_type\": \"biophysical\"\n",
    "        },\n",
    "        \"file\": \"$INPUT_DIR/iclamp_inputs_series.csv\",\n",
    "        \"section_name\": \"soma\"\n",
    "    }\n",
    "}\n",
    "```\n",
    "\n",
    "Where our file has the following format, each row specifying the time **time-stamp**, where 0 represents beginning of simulation, at which the **amp** value is changes"
   ]
  },
  {
   "cell_type": "code",
   "execution_count": null,
   "id": "1c2ad04a-3fb5-4a60-a9c4-1b422bec6ae9",
   "metadata": {},
   "outputs": [],
   "source": [
    "import pandas as pd\n",
    "\n",
    "pd.read_csv('inputs/iclamp_inputs_series.csv', sep=' ')"
   ]
  },
  {
   "cell_type": "markdown",
   "id": "f98fbb94-da36-404d-85cc-9a83f9154ff5",
   "metadata": {},
   "source": [
    "Also note that unlike with the above example there is no **delay**, thus to turn off current between blocks we must reset amp to 0.0"
   ]
  },
  {
   "cell_type": "code",
   "execution_count": null,
   "id": "0b86ea3a-23bf-40dd-ab82-a6b8063f98a4",
   "metadata": {},
   "outputs": [],
   "source": [
    "from bmtk.simulator import bionet\n",
    "\n",
    "bionet.reset()\n",
    "conf = bionet.Config.from_json('config.csv_series.json')\n",
    "conf.build_env()\n",
    "\n",
    "graph = bionet.BioNetwork.from_config(conf)\n",
    "sim = bionet.BioSimulator.from_config(conf, network=graph)\n",
    "sim.run()"
   ]
  },
  {
   "cell_type": "code",
   "execution_count": null,
   "id": "f92332a6-7e16-448a-a5ba-40f46bbce18c",
   "metadata": {},
   "outputs": [],
   "source": [
    "from bmtk.analyzer.compartment import plot_traces\n",
    "_ = plot_traces(config_file='config.csv_series.json',  node_ids=range(5), report_name='membrane_potential')"
   ]
  },
  {
   "cell_type": "markdown",
   "id": "f8b062be-38f7-4cba-a5b0-211b126836a6",
   "metadata": {},
   "source": [
    "For a more complex example, we will use numpy to create current-clamp trace that represents a damped wave. We'll save it to file *inputs/iclamp_damped_wave.csv*"
   ]
  },
  {
   "cell_type": "code",
   "execution_count": null,
   "id": "3db0e427-b833-4437-81da-28567a27b9e4",
   "metadata": {},
   "outputs": [],
   "source": [
    "import pandas as pd\n",
    "import numpy as np\n",
    "\n",
    "start_time = 0.0\n",
    "stop_time=3000.0\n",
    "dt=0.1\n",
    "\n",
    "times_secs = np.arange(start_time, stop_time, step=dt*200)/1000\n",
    "amps_na = np.sin(times_secs*3*np.pi)*np.exp(-times_secs)\n",
    "pd.DataFrame({\n",
    "    'timestamps': np.round(times_secs*1000, decimals=1),\n",
    "    'amps': amps_na*.1\n",
    "}).to_csv('inputs/iclamp_damped_wave.csv', sep=' ', index=False)\n"
   ]
  },
  {
   "cell_type": "markdown",
   "id": "35c329cc-a5f7-4c79-be44-710db2de0a48",
   "metadata": {},
   "source": [
    "Then modify the config as such\n",
    "\n",
    "```json\n",
    "\"inputs\": {\n",
    "    \"current_clamp_wave\": {\n",
    "        \"input_type\": \"csv\",\n",
    "        \"module\": \"IClamp\",\n",
    "        \"node_set\": {\n",
    "            \"population\": \"net\", \n",
    "            \"model_type\": \"biophysical\"\n",
    "        },\n",
    "        \"file\": \"$INPUT_DIR/iclamp_damped_wave.csv\",\n",
    "        \"section_name\": \"soma\"\n",
    "    }\n",
    "}\n",
    "```\n",
    "\n",
    "Then run the simulation and plot the membrane potential to see that indeed, the cell is acting as we would expect when injecting a damped wave into the soma"
   ]
  },
  {
   "cell_type": "code",
   "execution_count": null,
   "id": "6691c13a-e60b-472a-a47d-faddf35ad1b0",
   "metadata": {},
   "outputs": [],
   "source": [
    "from bmtk.simulator import bionet\n",
    "\n",
    "bionet.reset()\n",
    "conf = bionet.Config.from_json('config.csv_wave.json')\n",
    "conf.build_env()\n",
    "\n",
    "graph = bionet.BioNetwork.from_config(conf)\n",
    "sim = bionet.BioSimulator.from_config(conf, network=graph)\n",
    "sim.run()"
   ]
  },
  {
   "cell_type": "code",
   "execution_count": null,
   "id": "4177b173-1914-417d-bd63-b50f913a73b7",
   "metadata": {},
   "outputs": [],
   "source": [
    "from bmtk.analyzer.compartment import plot_traces\n",
    "_ = plot_traces(config_file='config.csv_wave.json',  node_ids=range(5), report_name='membrane_potential')"
   ]
  },
  {
   "cell_type": "markdown",
   "id": "8ece4be3-20a9-4fc1-a77f-5e31fb04b9d4",
   "metadata": {},
   "source": [
    "## Example: Voltage Clamps <a class=\"anchor\" id=\"example-voltage-clamps\">"
   ]
  },
  {
   "cell_type": "markdown",
   "id": "c5f4cad8-afb6-4446-b7c9-7ccbb12161a7",
   "metadata": {},
   "source": [
    "Besides the current clamp, we can use a voltage clamp to set one or more cells to have a constant membrane voltage during some period of the simulation. And like the IClamp we can dynamically insert or remove a voltage clamp during any given simulation by simply editing our SONATA configuration json file. However, note that not all models allow us to insert a voltage clamp - in particular only models with conductance based mechanics allow voltage clamps (so for example we cannot clamp a integrate-and-fire neuron).\n",
    "\n",
    "In the network built using the file *build_network.voltage_clamp.py* we have a simple network of two cells, with cell #1 synapsing onto cell #2. As we might do with a simple in-vitro experiment we want to clamp only one cell and see the results it has on both cells. And we want to use a simple single-electrode clamp (eg `SEClamp`) which is the simplest way to fix the voltage of one or more cells. To do so we add the following to the SONATA configuration **\"inputs**\" section:\n",
    "\n",
    "```json\n",
    "    \"inputs\": {\n",
    "      \"se_clamp_1\": {\n",
    "        \"input_type\": \"clamp\",\n",
    "        \"module\": \"SEClamp\",\n",
    "        \"node_set\": {\n",
    "            \"population\": \"net\", \n",
    "            \"node_ids\": [0]\n",
    "        },\n",
    "        \"amp\": 20.0,\n",
    "        \"duration\": 1000.0,\n",
    "        \"delay\": 1000.0,\n",
    "        \"section_name\": \"soma\",\n",
    "        \"section_index\": 0,\n",
    "        \"section_dist\": 0.5\n",
    "      }\n",
    "    }\n",
    "```\n",
    "\n",
    "* We must set **input_type** to `clamp` and **module** to 'SEClamp` to tell BMTK which type of stimuli that is being added.\n",
    "* For the **node_set** we make sure to only attach a clamp to cell with `node_id=0`. (eg our source cell only, not the second cell in the network).\n",
    "* We must specify the onset/**delay** of the clamp (in ms), the **duration** (ms) and the **amp** (mV) at which we want to hold our cell. In this case we will set the cell such that between times 1000 to 2000 ms it will be clamped to a membrane voltage of 20.0 mV.\n",
    "* As with current-clamp we have options **section_name**, **section_index** and **section_dist** to determine where to place the clamp within the cell. If not specified BMTK will place it by default in the center of the soma.\n",
    "* We can specifcy the **resistance** in nOhms - by default it will be set to 0.0.\n"
   ]
  },
  {
   "cell_type": "markdown",
   "id": "2057ec57-7361-4c50-89d2-4c7adacfe669",
   "metadata": {},
   "source": [
    "<div class=\"alert alert-block alert-info\">\n",
    "⚠️ WARNING: Currently SEClamp can only handle simple single square-wave block. It does not support advance features like specified in the IClamp.\n",
    "</div>"
   ]
  },
  {
   "cell_type": "code",
   "execution_count": null,
   "id": "96eecab3-7360-41fc-972f-ab37947adaf4",
   "metadata": {},
   "outputs": [],
   "source": [
    "from bmtk.simulator import bionet\n",
    "\n",
    "bionet.reset()\n",
    "conf = bionet.Config.from_json('config.voltage_clamp.json')\n",
    "conf.build_env()\n",
    "\n",
    "graph = bionet.BioNetwork.from_config(conf)\n",
    "sim = bionet.BioSimulator.from_config(conf, network=graph)\n",
    "sim.run()"
   ]
  },
  {
   "cell_type": "markdown",
   "id": "edfb2be7-967a-436f-a02a-ce90b2a5ddde",
   "metadata": {},
   "source": [
    "Now we can plot the membrane potential for the cell with the attached clamp (node-id 0) as-well-as the downstream cell in our network (node-id 1)"
   ]
  },
  {
   "cell_type": "code",
   "execution_count": null,
   "id": "6c8174cd-c04a-42b5-98e5-920335826998",
   "metadata": {},
   "outputs": [],
   "source": [
    "from bmtk.analyzer.compartment import plot_traces\n",
    "\n",
    "_ = plot_traces(config_file='config.voltage_clamp.json', report_name='membrane_potential', population='net', node_ids=[0, 1])"
   ]
  },
  {
   "cell_type": "markdown",
   "id": "15e5748c-1900-4701-a0f9-17eb27ab7311",
   "metadata": {},
   "source": [
    "## Example: Using sweep data from the Allen Cell-Types Database <a class=\"anchor\" id=\"example-cell-types\">"
   ]
  },
  {
   "cell_type": "markdown",
   "id": "71d64192-60e2-4dc3-91cb-6ebf4a9cb3b8",
   "metadata": {},
   "source": [
    "When creating the [Cell-Type Database at the Allen Insitute](https://celltypes.brain-map.org/data), a wide range of clamping stimuli was used in the process of optimizing the parameters for the thousands of human and mouse cell models. BMTK allows the option to download and import these stimuli directly into single and multi-cell simulations (for both BioNet and PointNet). Thus allowing users to apply the same conditions for their own models. Or as just a way to use much more advanced and realistic current-clamping stimuli that would be difficult to rebuild from scratch."
   ]
  },
  {
   "cell_type": "markdown",
   "id": "65fea49d-b3cf-44ef-9a67-a23afb061710",
   "metadata": {},
   "source": [
    "### Step 1: Downloading the data\n",
    "\n",
    "First step is determine which experimental conditions we want to replicate and which stimlus types to use. Different cells were in the Allen Cell Types Database were optimized and tested against different types current clamps. For example if we look at the electrophysiology page for [cell 488683425](https://celltypes.brain-map.org/experiment/electrophysiology/488683425) we can see we have stimulus types including `Long square`, `Noise`, `Ramp`, `Short Square` and `Square`. And for each types there are different *sweeps* where amplitudes and times were varied between trials:\n",
    "\n",
    "<br>\n",
    "<div>\n",
    "  <img src=\"../images/cell_types_screen.png\" width=\"1000\" align=\"center\" style=\"margin-left:5px\"/>    \n",
    "</div>\n",
    "<br clear=\"left\">\n",
    "\n",
    "If you click on the \"`Download Data`\" file it will download an ecephy.nwb file containing all the *sweep* available for said experiment. You just need to put it in a directory that can be accessed by BMTK. If you need a more programatically way to download multiple ecephy files you can use the AllenSDK, and BMTK also includes helper functions to download the data. You can run the following in a command-line:\n",
    "```bash\n",
    "$ python -m bmtk.utils.cell_types_db download_ephys_data --specimen-id=488683425 --download-dir=ecephys_inputs\n",
    "```\n",
    "\n",
    "Or through the notebook"
   ]
  },
  {
   "cell_type": "code",
   "execution_count": null,
   "id": "c8217ae3-8eee-481e-a28d-f2fcb9371cbb",
   "metadata": {},
   "outputs": [],
   "source": [
    "from bmtk.utils.cell_types_db import download_ephys_data\n",
    "\n",
    "download_ephys_data(\n",
    "    specimen_id=488683425,\n",
    "    download_dir='ephys_inputs'\n",
    ")"
   ]
  },
  {
   "cell_type": "markdown",
   "id": "8eedfa8e-79e1-4623-af03-b947ab5a7c60",
   "metadata": {},
   "source": [
    "Due to the size of the files and available internet speeds it may take some time to fully donwnload the nwb file(s). But when it does it will save the file into the local *ephys_inputs/* directory."
   ]
  },
  {
   "cell_type": "markdown",
   "id": "01684297-31ef-4902-acc3-3d68a5bf6152",
   "metadata": {},
   "source": [
    "### (Optional) Step 2: Downloading cell model data\n",
    "\n",
    "The downloaded ephys data can be used with any cell-type (even cells that are not from the Allen Cell-Types Database). However for testing and replication purposes you may want to run the downloaded ephys data on the original cell. If you click on `Select neuronal model` button on the page it will give you an option to download a possible GLIF Model (which can be ran using PointNet) or a Biophysical (ran using BioNet) model. This will download a zip file containing the *fit_parameters.json* which you can use as the **dynamics_params** in you SONATA network. Also for Biophysical models it will contain the file *reconstruction.swc* which is the **morphology** swc file for the specific cell. You can move these file(s) into their appropiate *components/* directory and rebuild/modify the SONATA network file so that **dynamics_params** and **morphology** points to the correct paths.\n",
    "\n",
    "Alternatively you can use BMTK to download, move and rename the files for you. In the command line you can run:\n",
    "```bash\n",
    "$ python -m bmtk.utils.cell_types_db download_model --specimen-id=488683425 --model-dir=\"components\" --model-type=\"Biophysical - all active\"\n",
    "```\n",
    "\n",
    "or in python\n",
    "```python\n",
    "model_dir = download_model(\n",
    "    specimen_id=488683425,\n",
    "    model_dir='components',\n",
    "    model_type='Biophysical - all active'\n",
    ")\n",
    "```\n"
   ]
  },
  {
   "cell_type": "markdown",
   "id": "2bd6923b-ca11-4f27-b409-01333c08de24",
   "metadata": {},
   "source": [
    "### Step 3: Set the configuration\n",
    "\n",
    "To use the downloaded ephys.nwb file we just need to create an \"inputs sections with **module** set to `iclamp` and **input_type** set to `allen`. Use the **file** option to point to the path of our downloaded nwb file. And finally we must select our **sweep** number. In this case we'll use sweep #35 which is just a 1 second long-square current.\n",
    "\n",
    "```json\n",
    "\"inputs\": {\n",
    "    \"current_clamp_allen\": {\n",
    "        \"module\": \"IClamp\",\n",
    "        \"input_type\": \"allen\",\n",
    "        \"node_set\": \"all\",\n",
    "        \"file\": \"${INPUT_DIR}/488683423_ephys.nwb\",\n",
    "        \"sweep_id\": \"35\"\n",
    "    }\n",
    "}\n",
    "```\n"
   ]
  },
  {
   "cell_type": "code",
   "execution_count": null,
   "id": "c4edd959-9003-41ac-b2b4-4e6c1c3418a6",
   "metadata": {},
   "outputs": [],
   "source": [
    "from bmtk.simulator import bionet\n",
    "\n",
    "bionet.reset()\n",
    "conf = bionet.Config.from_json('config.cell_types.json')\n",
    "conf.build_env()\n",
    "\n",
    "graph = bionet.BioNetwork.from_config(conf)\n",
    "sim = bionet.BioSimulator.from_config(conf, network=graph)\n",
    "sim.run()"
   ]
  },
  {
   "cell_type": "code",
   "execution_count": null,
   "id": "37cb859a-6e33-4f34-88e4-ff8c2e0b50c4",
   "metadata": {},
   "outputs": [],
   "source": [
    "from bmtk.analyzer.compartment import plot_traces\n",
    "_ = plot_traces(config_file='config.cell_types.json',  node_ids=[0], report_name='membrane_potential')"
   ]
  },
  {
   "cell_type": "markdown",
   "id": "7b037df1-25bf-4cc0-aa8d-cc6a9abd3628",
   "metadata": {},
   "source": [
    "## Example: Extracellular Stimulation <a class=\"anchor\" id=\"example-xstim\">"
   ]
  },
  {
   "cell_type": "markdown",
   "id": "560a29e1-14eb-4e40-95ac-49a91725ed15",
   "metadata": {},
   "source": [
    "<div class=\"alert alert-block alert-info\">\n",
    "⚠️ NOTE: This feature will only work in BioNet using morphologically detailed cells.\n",
    "</div>"
   ]
  },
  {
   "cell_type": "markdown",
   "id": "e2771c93-0e51-45d9-9f13-c44a23a52d3e",
   "metadata": {},
   "source": [
    "The *BioNet* simulator has optional input stimulus an electric field impulse, thus allowing you to simulat of deep brain stimulation. One or more stimulating electrodes (or a mesh) can be readily inserted and removed into most networks and used along side other stimuli through simple changes to the SONATA config. However, take note that this can only be applied to cells with a biophysical conductances, such as morphologically detailed \"biophysical\" cells or even simple single-compartment \"soma\" cells, but won't work for integrate-and-fire type neurons.\n",
    "\n",
    "When extracellular stimulation(s) are inserted into a simulation, the effect the generated filed has on the extracellular membrane of each cell compartment will depend on the geometric relationship between the cell and the electrode(s). Thus it is important that we specify the **x**, **y**, **z** attributes for each cell, plus make sure the cell is rotated properly (as specified by attributes **rotation_angle_x**, **rotation_angle_y**, **rotation_angle_z**). Once we have such a network (see *build_network.xstim.py*) we can go ahead and insert an extracellular stimulation into a simulation by adding to the **\"inputs\"** section of the SONATA config like such:\n",
    "\n",
    "``` json\n",
    "  \"inputs\": {\n",
    "    \"Extracellular_Stim\": {\n",
    "      \"module\": \"xstim\",\n",
    "      \"input_type\": \"lfp\",\n",
    "      \"node_set\": {\n",
    "        \"model_type\": \"biophysical\"\n",
    "      },\n",
    "      \"positions_file\": \"components/stimulations/xstim_coords.csv\",\n",
    "      \"resistance\": 300.0,\n",
    "      \"waveform\": {\n",
    "        \"shape\": \"sin\",\n",
    "        \"del\": 1000.0,\n",
    "        \"amp\": 0.100,\n",
    "        \"dur\": 2000.0,\n",
    "        \"freq\": 8.0,\n",
    "        \"phase\": 0.0\n",
    "      }\n",
    "    }\n",
    "  }\n",
    "```\n",
    "* You must set **module** to \"xstim\" and **input_type** to \"lfp\" to signal to bmtk the mode of stimulus to apply\n",
    "* The **node_set** is used to filter out which subset of cells in the network to apply the xstim. In this case we want to apply it to all \"biophysical\" type cells (in this example all are cells are \"biophysical\", but in mixed networks it's important to keep track of which cells are biophysical and which are not - otherwise BMTK can fail when applying this stimulus to \"point-neuron\" type cells).\n",
    "* Set the extracellular resistance between the electrode(s) and the cells.\n",
    "* The **waveform** is set to generate a sin-wave shaped stimuli, starting at 1000 ms (**del**) that will run for 2000 ms (**dur**) with a maximum amplitude of .100 nA (**amp**). \n",
    "* Lastly the **positions_file** is used to specify the coordinates of the electrodes (or if using a mesh grid also the rotation). It should be a space-separated file with each row being the location of a different electrode. In our case we are only applying a single electrode\n"
   ]
  },
  {
   "cell_type": "code",
   "execution_count": null,
   "id": "cb948bb9-33ac-4842-b3cd-ccaffb10f1f6",
   "metadata": {},
   "outputs": [],
   "source": [
    "import pandas as pd\n",
    "\n",
    "pd.read_csv('components/stimulations/xstim_coords.csv', sep=' ')"
   ]
  },
  {
   "cell_type": "markdown",
   "id": "7772db17-16a0-4280-8d3e-c7af238e2747",
   "metadata": {},
   "source": [
    "Now we can run the simulation as normal and show the varying results in terms of changes to cell membrane potentials"
   ]
  },
  {
   "cell_type": "code",
   "execution_count": null,
   "id": "aeca0247-d98e-4f2b-bcd7-f61f1a992a90",
   "metadata": {},
   "outputs": [],
   "source": [
    "from bmtk.simulator import bionet\n",
    "\n",
    "bionet.reset()\n",
    "conf = bionet.Config.from_json('config.xstim_sin.json')\n",
    "conf.build_env()\n",
    "\n",
    "graph = bionet.BioNetwork.from_config(conf)\n",
    "sim = bionet.BioSimulator.from_config(conf, network=graph)\n",
    "sim.run()"
   ]
  },
  {
   "cell_type": "code",
   "execution_count": null,
   "id": "e8741b5f-dee6-4313-b8f7-ce7493693e8c",
   "metadata": {},
   "outputs": [],
   "source": [
    "from bmtk.analyzer.compartment import plot_traces\n",
    "\n",
    "_ = plot_traces(config_file='config.xstim_sin.json', report_name='membrane_potential', population='bio')"
   ]
  },
  {
   "cell_type": "markdown",
   "id": "845720d4-5c92-49b7-805e-7f4f8d5c9f84",
   "metadata": {},
   "source": [
    "### More advanced wave-forms"
   ]
  },
  {
   "cell_type": "markdown",
   "id": "4274f41b-76fd-4890-99d8-0a85cb9e4737",
   "metadata": {},
   "source": [
    "In the above example we set it so the stimulus will generate a sin-wave at the electrode site. BMTK has a number of built-in shapes available, including a sin-wave a a direct-current (**waveform**: \"dc\")\n",
    "\n",
    "```json\n",
    "  \"inputs\": {\n",
    "    \"Extracellular_Stim\": {\n",
    "      \"module\": \"xstim\",\n",
    "      \"input_type\": \"lfp\",\n",
    "      \"node_set\": {\n",
    "        \"model_type\": \"biophysical\"\n",
    "      },\n",
    "      \"positions_file\": \"$STIM_DIR/xstim_coords.csv\",\n",
    "      \"resistance\": 300.0,\n",
    "      \"waveform\": {\n",
    "        \"shape\": \"dc\",\n",
    "        \"del\": 1000.0,\n",
    "        \"amp\": 0.400,\n",
    "        \"dur\": 1000.0\n",
    "      }\n",
    "    }\n",
    "  },\n",
    "```"
   ]
  },
  {
   "cell_type": "code",
   "execution_count": null,
   "id": "fb774bc5-c74c-40e9-941a-029099f0e3ec",
   "metadata": {},
   "outputs": [],
   "source": [
    "from bmtk.simulator import bionet\n",
    "\n",
    "bionet.reset()\n",
    "conf = bionet.Config.from_json('config.xstim_dc.json')\n",
    "conf.build_env()\n",
    "\n",
    "graph = bionet.BioNetwork.from_config(conf)\n",
    "sim = bionet.BioSimulator.from_config(conf, network=graph)\n",
    "sim.run()\n",
    "\n",
    "_ = plot_traces(config_file='config.xstim_dc.json', report_name='membrane_potential', population='bio')"
   ]
  },
  {
   "cell_type": "markdown",
   "id": "84dfa32f-bf00-403f-91df-63666e739c47",
   "metadata": {},
   "source": [
    "Or alternatively, instead of having BMTK try to generate a shape for us, we can create the stimlus waveform ourselves. To do so we just need to create a space-separated csv file with columns **time** (ms) and **amplitude** (nA) and set the **waveform** attribute in our csv file to the path of the file.\n",
    "\n",
    "For example, the following lines of code will generate a slow ramping csv file that will go from -0.100 nA to 0.500 nA within a 3 second window, and save it under *./inputs/ramping_xstim.csv*"
   ]
  },
  {
   "cell_type": "code",
   "execution_count": null,
   "id": "ebeb4ca8-dbcd-4ca1-a351-db6b108d0ee1",
   "metadata": {},
   "outputs": [],
   "source": [
    "import numpy as np\n",
    "import pandas as pd\n",
    "import matplotlib.pyplot as plt\n",
    "\n",
    "time = np.linspace(0.0, 3000.0, 1000)\n",
    "amplitude = time*0.0002-.100\n",
    "\n",
    "pd.DataFrame({\n",
    "    'time': time,\n",
    "    'amplitude': amplitude\n",
    "}).to_csv('inputs/ramping_xstim.csv', sep=' ', index=False)\n",
    "plt.plot(time, amplitude)"
   ]
  },
  {
   "cell_type": "markdown",
   "id": "8389a2d5-ab46-45ca-ba45-cb69d8384be9",
   "metadata": {},
   "source": [
    "Then in our configuration file we just need to change the **waveform** attribute to point to the location of our customized file\n",
    "\n",
    "```json\n",
    "  \"inputs\": {\n",
    "    \"Extracellular_Stim\": {\n",
    "      \"module\": \"xstim\",\n",
    "      \"input_type\": \"lfp\",\n",
    "      \"node_set\": {\n",
    "        \"model_type\": \"biophysical\"\n",
    "      },\n",
    "      \"positions_file\": \"$STIM_DIR/xstim_coords.csv\",\n",
    "      \"resistance\": 300.0,\n",
    "      \"waveform\": \"inputs/ramping_xstim.csv\"\n",
    "    }\n",
    "  }\n",
    "```\n",
    "\n",
    "And run it like before"
   ]
  },
  {
   "cell_type": "code",
   "execution_count": null,
   "id": "939f38fc-5376-4dd4-a22e-31666b6e753c",
   "metadata": {},
   "outputs": [],
   "source": [
    "from bmtk.simulator import bionet\n",
    "\n",
    "bionet.reset()\n",
    "conf = bionet.Config.from_json('config.xstim_custom.json')\n",
    "conf.build_env()\n",
    "\n",
    "graph = bionet.BioNetwork.from_config(conf)\n",
    "sim = bionet.BioSimulator.from_config(conf, network=graph)\n",
    "sim.run()\n",
    "\n",
    "_ = plot_traces(config_file='config.xstim_custom.json', report_name='membrane_potential', population='bio')"
   ]
  },
  {
   "cell_type": "code",
   "execution_count": null,
   "id": "52c99a2e-c291-49ce-b924-6c896a6781b3",
   "metadata": {},
   "outputs": [],
   "source": []
  }
 ],
 "metadata": {
  "kernelspec": {
   "display_name": "bmtk-py3.10",
   "language": "python",
   "name": "bmtk-py3.10"
  },
  "language_info": {
   "codemirror_mode": {
    "name": "ipython",
    "version": 3
   },
   "file_extension": ".py",
   "mimetype": "text/x-python",
   "name": "python",
   "nbconvert_exporter": "python",
   "pygments_lexer": "ipython3",
   "version": "3.10.18"
  }
 },
 "nbformat": 4,
 "nbformat_minor": 5
}
