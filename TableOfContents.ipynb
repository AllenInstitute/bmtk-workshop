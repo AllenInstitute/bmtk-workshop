{
 "cells": [
  {
   "cell_type": "markdown",
   "id": "811c6572-3356-487a-91c7-4adedc6db2fd",
   "metadata": {},
   "source": [
    "# Modeling Workshop Tutorials"
   ]
  },
  {
   "cell_type": "markdown",
   "id": "c4df72ef-262f-4d2b-bd9f-589cf4b305d1",
   "metadata": {},
   "source": [
    "## Table of Contents\n",
    "\n",
    "---"
   ]
  },
  {
   "cell_type": "markdown",
   "id": "58f71b76-6ba1-42ba-bbb1-f59383f470b5",
   "metadata": {},
   "source": [
    "### Core Tutorials"
   ]
  },
  {
   "cell_type": "markdown",
   "id": "3df19f2c-6f83-4188-95ba-2d8b90e4ead1",
   "metadata": {},
   "source": [
    "#### [1. Overview of Tutorials](Ch1_intro/1.%20Introduction.ipynb)"
   ]
  },
  {
   "cell_type": "markdown",
   "id": "622547b2-b0a5-4eb0-9503-c2e21f7d133a",
   "metadata": {},
   "source": [
    "* Introduction to BMTK, SONATA, and VND"
   ]
  },
  {
   "cell_type": "markdown",
   "id": "93af95a3-97cb-464d-8de2-e3401746fa54",
   "metadata": {},
   "source": [
    "#### [2. Introduction to building simple biophysical networks](Ch2_single_cell/2.%20Single%20Cell.ipynb)"
   ]
  },
  {
   "cell_type": "markdown",
   "id": "b84e10f5-2350-44d5-b90d-a3cfebb30156",
   "metadata": {},
   "source": [
    "* Setting up an environment for running network simulations\n",
    "* Importing cell models from Allen-Cell Types Database\n",
    "* Building networks with the `NetworkBuilder`\n",
    "* Using `BioNet` to run simulations with *current-clamp* and *synaptic* stimlus.\n",
    "* Using `VND` to examine cell morphologies"
   ]
  },
  {
   "cell_type": "markdown",
   "id": "1b06cec4-cf89-4523-acee-47628fa9fdfc",
   "metadata": {},
   "source": [
    "#### [3. Building and simulating more complex networks](Ch3_multicells/3.%20Multipopulation%20biophysical.ipynb)"
   ]
  },
  {
   "cell_type": "markdown",
   "id": "f749e184-808a-4a74-84c0-3ce0d2cbf852",
   "metadata": {},
   "source": [
    "* Building multi-cell networks with heterogeneous cell-types and cell models using `NetworkBuilder`\n",
    "* Creating controlled synaptic connections between cells using `NetworkBuilder`.\n",
    "* The SONATA network format.\n",
    "* Using `VND` to visualize large networks of neurons and their connections.\n",
    "* Building spike-train inputs using `SpikeGenerator`\n",
    "* Running biophysically detailed simulations using `BioNet`.\n",
    "* Analyzing spiking and membrane potential results using both BMTK and VND. "
   ]
  },
  {
   "cell_type": "markdown",
   "id": "7a37fe01-6d0a-4f6c-a95f-23f9dac8ca9c",
   "metadata": {},
   "source": [
    "#### [4. Building and simulating point-neuron models](Ch4_pointnet/4.%20Multipopulation%20GLIF%20model.ipynb)"
   ]
  },
  {
   "cell_type": "markdown",
   "id": "bc39874a-8341-4655-9052-72af9aa00755",
   "metadata": {},
   "source": [
    "* Converting biophysically detailed networks to use point-neuron models for simulation with `PointNet`.\n",
    "* Using `NetworkBuilder` to build `PointNet` networks from scratch.\n",
    "* Analyzing point-neuron networks with `VND`.\n",
    "* Running point-neuron network simulations with `PointNet`.\n",
    "* (Optional) Using `PopNet` to run rates-based model networks."
   ]
  },
  {
   "cell_type": "markdown",
   "id": "33f81b44-e056-45e4-8beb-88503e75a545",
   "metadata": {},
   "source": [
    "#### [5. Generating realistic spiking stimuli as inputs to our networks](Ch5_filternet/5.%20FilterNet.ipynb)"
   ]
  },
  {
   "cell_type": "markdown",
   "id": "ea6185d6-4990-434e-be03-1200376cedea",
   "metadata": {},
   "source": [
    "* Setting up and building a network that can be used to model the visual receptive field.\n",
    "* Using `FilterNet` to recreate retinal-thalamic rates and spiking data across a range of varying visual stimuli input\n",
    "* Creating custom movies to simulate against our receptive field neurons.\n",
    "* Using receptive field network `FilterNet` results as stimuli into `BioNet` and `PointNet` models.\n",
    "* Downloading and using Allen Brain Observatory stimuli into simulations"
   ]
  },
  {
   "cell_type": "markdown",
   "id": "ae95665e-58dd-4751-a8fd-c2eb7a26fcd3",
   "metadata": {},
   "source": [
    "#### [6. Working with realistic models](Ch6_l4model/6.%20More%20Realistic%20Model%20and%20Advanced%20Features.ipynb)"
   ]
  },
  {
   "cell_type": "markdown",
   "id": "3787c1d1-4f15-4a12-8c6a-6ba0fa1886eb",
   "metadata": {},
   "source": [
    "* Building large-scale networks using real world cell and synaptic data.\n",
    "* Parameter optimization and grid searching.\n",
    "* Running parallel and serial simulations across a range of different input stimuli."
   ]
  },
  {
   "cell_type": "markdown",
   "id": "ad6d6cea-b47b-42f1-9b4b-418010027934",
   "metadata": {},
   "source": [
    "### Additional Tutorials"
   ]
  },
  {
   "cell_type": "markdown",
   "id": "8e00a556",
   "metadata": {},
   "source": [
    "#### [VND Remote Python connection](opt_vnd_python/vnd_python_remote.ipynb)"
   ]
  },
  {
   "cell_type": "markdown",
   "id": "b4693c3d",
   "metadata": {},
   "source": [
    "* Using a live text interface to a running VND session\n",
    "* Creating neuron selections and 3D graphical representations\n",
    "* Getting attribute data from selections\n",
    "* Performing analyses with Python data tools\n",
    "* Using interactive 2D graphs connected to 3D model display\n"
   ]
  },
  {
   "cell_type": "markdown",
   "id": "7db6c974-f01b-4261-96a6-821dd55e4a79",
   "metadata": {},
   "source": [
    "#### [Importing existing cell models and building your own in BioNet](opt_external_models/Ch_External_Models.ipynb)"
   ]
  },
  {
   "cell_type": "markdown",
   "id": "e3cf3675-159a-49b5-adcb-cdbad02a6148",
   "metadata": {},
   "source": [
    "* Importing ModelDB and OpenSourceBrain cell models into your network.\n",
    "* Importing custom membrane mechanics into your models.\n",
    "* Building your own cell models\n",
    "* Overriding the initialization of cell objects prior to simulation.\n",
    "* Dynamically modfying cell properties before and during simulation."
   ]
  },
  {
   "cell_type": "markdown",
   "id": "53d8e819-b828-4d61-9742-78000f765479",
   "metadata": {},
   "source": [
    "#### [Cutomized models in PointNet](opt_nest_custom_models/Ch_NEST_Cusom_Models.ipynb)"
   ]
  },
  {
   "cell_type": "markdown",
   "id": "541c09da-6eeb-4c83-985d-666d0c469946",
   "metadata": {},
   "source": [
    "* Using built-in NEST cell and synaptic models\n",
    "* Creating and importing custom models using NESTML\n",
    "* Dynamically changing way cells are intialized before each simulation."
   ]
  },
  {
   "cell_type": "markdown",
   "id": "273a5a39-1a13-4316-9fbb-270ef86f6e14",
   "metadata": {},
   "source": [
    "#### [Advanced options for synaptic spike inputs in simulation](opt_advanced_spiking_inputs/Ch_advanced_spikes_input.ipynb)"
   ]
  },
  {
   "cell_type": "markdown",
   "id": "5433ff24-7a25-4da2-80a2-48c55c4b2277",
   "metadata": {},
   "source": [
    "* Loading spiking stimuli from user created csv file\n",
    "* Dynamically generating spike input on the fly using user-created functions.\n",
    "* Importing NWB 2.0 extracellular electrophysology experimental recordings into your simulation.\n",
    "* Generating spontoaneous synaptic activity within a network.\n",
    "* Replaying selected recurrent activity."
   ]
  },
  {
   "cell_type": "markdown",
   "id": "c0d297ff-b366-4c54-996c-04d6801a27ad",
   "metadata": {},
   "source": [
    "#### [Advanced (non-spiking) stimuli options](opt_advanced_inputs/Ch_advanced_stim.ipynb)"
   ]
  },
  {
   "cell_type": "markdown",
   "id": "1821ef03-0bcd-4bcf-ba3f-d31e53d5e975",
   "metadata": {},
   "source": [
    "* Options for loading and generating advanced current-clamp wave forms\n",
    "* Voltage Clamping\n",
    "* Importing experimental sweeps from the Allen Cell-Types Database\n",
    "* Extracellular stimulation"
   ]
  },
  {
   "cell_type": "markdown",
   "id": "2318a43d-b099-460b-974c-8cf87fd0b1f7",
   "metadata": {},
   "source": [
    "#### [Extracellular Potential (LFP) recordings](opt_extracellular/Ch_extracellular.ipynb)"
   ]
  },
  {
   "cell_type": "markdown",
   "id": "d883f4a0-4d89-47ce-9184-9fce36b177c2",
   "metadata": {},
   "source": [
    "* Recording LFP from all or a select subset of cells\n",
    "* How to get single cell contributions to the LFP.\n",
    "* Building current source density (CSD) maps from LFP."
   ]
  },
  {
   "cell_type": "markdown",
   "id": "d7a78d11-17e7-4f01-a6ad-66a56e0f07f1",
   "metadata": {},
   "source": [
    "#### [Tools and resources for running large-scale network simulations on HPC](opt_hpc_resources/External_Resources.ipynb)"
   ]
  },
  {
   "cell_type": "markdown",
   "id": "8d5ae312-ef1c-4719-b7f7-bb4cabdb34a6",
   "metadata": {},
   "source": [
    "* Using the Neuroscience Gateway (NSG) with web UI and REST API\n",
    "* Cybershuttle"
   ]
  }
 ],
 "metadata": {
  "kernelspec": {
   "display_name": "bmtk-py3.10",
   "language": "python",
   "name": "bmtk-py3.10"
  },
  "language_info": {
   "codemirror_mode": {
    "name": "ipython",
    "version": 3
   },
   "file_extension": ".py",
   "mimetype": "text/x-python",
   "name": "python",
   "nbconvert_exporter": "python",
   "pygments_lexer": "ipython3",
   "version": "3.10.18"
  }
 },
 "nbformat": 4,
 "nbformat_minor": 5
}
