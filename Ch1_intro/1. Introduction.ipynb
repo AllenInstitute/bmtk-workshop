{
 "cells": [
  {
   "cell_type": "markdown",
   "metadata": {},
   "source": [
    "# Brain Modeling Software Workshop (Allen Institute, July 25-26, 2022)"
   ]
  },
  {
   "cell_type": "markdown",
   "metadata": {},
   "source": [
    "## About the Tutorials\n",
    "\n",
    "The goal of these tutorials is to show how to build, simulate and analyze large-scale brain models using the core Brain-Modeling Toolkit (bmtk) and Visual Neuronal Dynamics (vnd) tools. We have divided this up into multiple chapters and subchapters.\n",
    "\n",
    "* In [Chapter 2](../Ch2_single_cell/2.%20Single%20Cell.ipynb) we show how to build and simulate a simple single-cell network being stimulated by a voltage clamp.\n",
    "\n",
    "* In [Chapter 3](../Ch3_multicells/3.%20Multipopulation%20biophysical.ipynb) we will show how with a few extra steps we can turn our single-cell network into a larger-scale network model with many cells, multiple cell-types, and complex rule-based interactions.\n",
    "\n",
    "* In [Chapter 4](../Ch4_pointnet/4.%20Multipopulation%20GLIF%20model.ipynb) we will show how we can extend our model to build network models at different resolutions (such as LIF point neurons or population models).\n",
    "\n",
    "* In [Chapter 5](../Ch5_filternet/5.%20FilterNet.ipynb) we show how to use realistic visual stimuli to drive our model.\n",
    "\n",
    "* And finally in [Chapter 6](../Ch6_l4model/6.%20More%20Realistic%20Model%20and%20Advanced%20Features.ipynb) we will combine the knowledge we previously learned to show how we created our realistic model of the Mouse Visual Cortex, along with introducing some of the more advanced features of the bmtk.\n",
    "\n"
   ]
  },
  {
   "cell_type": "markdown",
   "metadata": {},
   "source": [
    "## Tools "
   ]
  },
  {
   "cell_type": "markdown",
   "metadata": {},
   "source": [
    "### The Brain Modeling Toolkit (bmtk)\n",
    "\n",
    "The Brain Modeling Toolkit (bmtk) is a Python-based software development kit for building, simulating and analyzing large-scale brain networks across different levels of resolution (multi-compartment biophysical, point-neuron, population firing rates, etc). The Python package consists of multiple components, each for a different part of the model building and simulation workflow, among the most relevant of which we will use in the tutorials.\n",
    "\n",
    "![bmtk_architecture.png](../images/bmtk_architecture.png)\n",
    "\n",
    "* **NetworkBuilder** - A python API for building and storing large-scale brain circuit models.\n",
    "* **BioNet** - A package for simulating multi-compartment morphologically detailed cell models in a large-scale network (uses the NEURON tool as a backend).\n",
    "* **PointNet** - A package for simulating point-neuron and generalized leaky integrate-and-fire cells in a large-scale network (uses NEST tool as a backend).\n",
    "* **PopNet** - A package for simulating population level firing rates.\n",
    "* **FilterNet** - A package for converting stimuli (like movies) into firing rates and spike trains based on simple filters.\n",
    "\n",
    "\n",
    "Among some of the advantages of using bmtk for network modeling:\n",
    "* Provides an easy interface to initialize, alter and run simulations in a variety of different conditions, often with little-to-no programming required.\n",
    "* Facilitates switching between levels-of-resolutions and trying out different simulators without needing to understand the backend implementation details.\n",
    "* Automatically scales and parallelizes simulations when going from single core, to multi-core, to HPC.\n",
    "* Includes a number of added-on features not natively available in backend tools."
   ]
  },
  {
   "cell_type": "markdown",
   "metadata": {},
   "source": [
    "### Visual Neuronal Dynamics\n",
    "\n",
    "VND is a program for visualizing neuronal network models. VND leverages the powerful rendering capabilities of a popular molecular dynamics visualization program to allow us to create beautiful and customizable 3D images or animations of our networks, morphology, connectivity, and output activity. You can use it to check your model, to analyze and inspect it for better understanding, and to showcase it for posters and publications. The following image of a model mouse V1 with a representation of an embedded Neuropixels probe was created with VND and won 2nd prize at a BRAIN Initiative contest:\n",
    "\n",
    "![](../images/mousev1_vnd.png)\n",
    "\n",
    "VND is a tool still under development with more features to come. In addition to the integrated material in these BMTK tutorials, you will also find a separate VND tutorial."
   ]
  },
  {
   "cell_type": "markdown",
   "metadata": {},
   "source": [
    "### SONATA Data formats\n",
    "\n",
    "SONATA is a collection of HDF5-based formats for storing modeling and simulation data, and is the backbone for both BMTK and VND. SONATA includes data descriptions for:\n",
    "* The **SONATA network structure** - Saving and storing heterogeneous network models.\n",
    "* The **SONATA simulation output** - Storing simulation results, including spike trains, voltage and calcium traces, local field potentials, and even population firing rate dynamics.\n",
    "* The **SONATA simulation configurations** - Controlling simulation conditions with a JSON-based file that can be quickly modified in a text editor.\n",
    "\n",
    "It is through SONATA files that we can take a circuit created by the BMTK NetworkBuilder, or spike trains generated by BioNet, and visualize the output using VND. However, SONATA is not just limited to BMTK and VND. It was developed and used by multiple institutions, and the list continues to grow. The goal of SONATA is to provide a standardized format with which modelers and simulators of large-scale neural networks can share their models in a reproducible fashion, and which can interface with multiple modeling environments.\n",
    "\n",
    "![](../images/SONATA_Ecosystem.png)\n"
   ]
  },
  {
   "cell_type": "markdown",
   "metadata": {},
   "source": [
    "### Connecting BMTK, VND and SONATA\n",
    "\n",
    "BMTK and VND are two completely separate tools - they can be run separately from each other and have many independent use-cases. However, through the SONATA data formats, we will be developing a workflow for building and simulating models that uses both tools in a complementary and synergistic manner. In general when building models we will prefer to use the following workflow:\n",
    "\n",
    "![](../images/bmtk_sonata_vnd_workflow.png)\n",
    "\n",
    "1. Build our initial network model using the BMTK NetworkBuilder module.\n",
    "2. Use VND to visualize and analyze our network to make sure neuron-placement, synapse location, etc. are looking as expected.\n",
    "3. Repeat (1) and (2) as needed until we get a network with expected topology and geometry.\n",
    "4. Using our SONATA network files, run simulations under a variety of different conditions as specified by the SONATA configs. \n",
    "5. Visualize and analyze the results of (4) with VND, using VND to determine if we need to:\n",
    " 1. Rerun the same network under different conditions and/or inputs\n",
    " 2. Return to step (1) and adjust or rebuild the network"
   ]
  },
  {
   "cell_type": "markdown",
   "metadata": {},
   "source": [
    "## Tips and best practices\n",
    "\n",
    "\n",
    "\n",
    "### Working with the AWS Instance\n",
    "\n",
    "To copy and paste to or from the remote EC2 instance, use the clipboard icon at the top left to transfer between between local and remote clipboards, or sync the clipboards.\n",
    "\n",
    "For more detailed directions, see [Copying and Pasting](https://docs.aws.amazon.com/dcv/latest/userguide/using-copy-paste.html).\n",
    "\n",
    "If you are having trouble seeing things on the virtual desktop, try resizing (enlarging) your browser window.\n",
    "\n",
    "\n",
    "### Working with the BMTK Jupyter notebook\n",
    "\n",
    "If rerunning the same notebook again, it is best to restart the kernel: in the `Kernel` menu, select `Restart`.\n",
    "\n",
    "\n",
    "When rebuilding the network, delete all existing content of the /network folder so they do not interfere.\n",
    "\n",
    "\n",
    "Existing configuration files are not overwritten by default. To overwrite the configuration files, delete the existing files or use the overwrite option.\n",
    "\n",
    "You can edit a text file (such as the \\*.json files) using Jupyter's text editor by clicking on it in the Jupyter notebook dashboard (or you can work in vim, emacs, or nano).\n",
    "\n",
    "\n",
    "\n",
    "### Command Line Guide\n",
    "\n",
    "To open a terminal, right click on the desktop and select `Open Terminal`.\n",
    "\n",
    "To work in the proper environment with BMTK, VND, and associated simulators installed, launch:\n",
    "``` bash\n",
    "$ conda activate bmtk-py38\n",
    "```\n",
    "\n",
    "The notebooks, models, and configuration files for these tutorials can be found by navigating to:\n",
    "``` bash\n",
    "$ cd Tutorials/bmtk_workshop_2022\n",
    "\n",
    "```\n",
    "\n",
    "Alternatively you can simply open the Jupyter notebook from the Linux desktop by clicking on the icon - the environment will be activated for you. \n",
    "\n"
   ]
  },
  {
   "cell_type": "markdown",
   "metadata": {},
   "source": [
    "## External documentations\n",
    "\n",
    "### BMTK\n",
    "* BMTK documentation [link](https://alleninstitute.github.io/bmtk/)\n",
    "* BMTK Github repo [link](https://github.com/AllenInstitute/bmtk)\n",
    "* List of example networks and models using BMTK [link](https://github.com/AllenInstitute/bmtk/tree/develop/examples)\n",
    "\n",
    "### VND\n",
    "* VND Main page, with install instructions and tutorials [link](https://www.ks.uiuc.edu/Research/vnd/)\n",
    "\n",
    "### SONATA\n",
    "* SONATA developer documentation [link](https://github.com/AllenInstitute/sonata/blob/master/docs/SONATA_DEVELOPER_GUIDE.md)\n",
    "* List of SONATA examples [link](https://github.com/AllenInstitute/sonata/tree/master/examples)\n",
    "\n",
    "\n",
    "### SONATA Models\n",
    "* Layer IV of the mouse V1 [link](https://portal.brain-map.org/explore/models/l4-mv1)\n",
    "* Mouse V1 [link](https://portal.brain-map.org/explore/models/mv1-all-layers)"
   ]
  },
  {
   "cell_type": "code",
   "execution_count": null,
   "metadata": {},
   "outputs": [],
   "source": []
  }
 ],
 "metadata": {
  "kernelspec": {
   "display_name": "Python 3 (ipykernel)",
   "language": "python",
   "name": "python3"
  },
  "language_info": {
   "codemirror_mode": {
    "name": "ipython",
    "version": 3
   },
   "file_extension": ".py",
   "mimetype": "text/x-python",
   "name": "python",
   "nbconvert_exporter": "python",
   "pygments_lexer": "ipython3",
   "version": "3.8.10"
  }
 },
 "nbformat": 4,
 "nbformat_minor": 4
}
