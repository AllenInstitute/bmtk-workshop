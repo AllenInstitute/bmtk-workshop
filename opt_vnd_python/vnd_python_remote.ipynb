{
 "cells": [
  {
   "cell_type": "markdown",
   "id": "50fb8c80",
   "metadata": {},
   "source": [
    "# VND Remote Python Connection"
   ]
  },
  {
   "cell_type": "markdown",
   "id": "e5e6e3ef",
   "metadata": {},
   "source": [
    "In this chapter you will learn to use a live Python text interface connected to a running VND session.   You will use the VND selection language to create Python neuron selection objects, then use the selection objects to create 3D graphical representations. You will also learn how to use the selection objects to produce attribute data for futher analysis with Python data tools, including Pandas DataFrames.  You will use an interactive 2D spike raster plot in the Jupyter notebook window to control a 3D model display in the VMD OpenGL window, and create visualizations and data sets from the interactive selection.\n",
    "\n"
   ]
  },
  {
   "cell_type": "markdown",
   "id": "412af2c4",
   "metadata": {},
   "source": [
    "*First, launch VND and load a model...*\n",
    "* Lauch the VND application (double click icon)\n",
    " * (if using command line, enable ZMQ communication by starting VND with ``vnd -zmq`` )\n",
    "* Load a model:\n",
    " **File : Open File** ``vnd-tutorial-files/300_cells/circuit_config.json``\n",
    "* ...then load a spike time series:\n",
    " **File : Add File with Spikes** ``vnd-tutorial-files/300_cells/output/spikes.h5``"
   ]
  },
  {
   "cell_type": "markdown",
   "id": "8a667082",
   "metadata": {},
   "source": [
    "*Then, start up a connection from this notebook to the VND session with:*"
   ]
  },
  {
   "cell_type": "code",
   "execution_count": null,
   "id": "ec59b680",
   "metadata": {},
   "outputs": [],
   "source": [
    "import VND\n"
   ]
  },
  {
   "cell_type": "markdown",
   "id": "bfcef981",
   "metadata": {},
   "source": [
    "*Now make a selction object using the VND selection langugage...*"
   ]
  },
  {
   "cell_type": "code",
   "execution_count": null,
   "id": "f7c17fdf",
   "metadata": {},
   "outputs": [],
   "source": [
    "mySel=VND.NeuronSel('(soma x < -15) && (soma y < 0) && (population == internal)')\n",
    "\n"
   ]
  },
  {
   "cell_type": "markdown",
   "id": "401b3fe0",
   "metadata": {},
   "source": [
    "*Check the status of this object, and see how many neurons are in the selection:*"
   ]
  },
  {
   "cell_type": "code",
   "execution_count": null,
   "id": "308cd5df",
   "metadata": {},
   "outputs": [],
   "source": [
    "mySel"
   ]
  },
  {
   "cell_type": "markdown",
   "id": "d49a8b3b",
   "metadata": {},
   "source": [
    "*Make a new graphical representation, which will appear in the VND 3D display and be listed in the VND main tab Representations list:*\n"
   ]
  },
  {
   "cell_type": "code",
   "execution_count": null,
   "id": "a1328323",
   "metadata": {},
   "outputs": [],
   "source": [
    "VND.add_rep(sel=mySel, color='red', style='soma', scaling='1.8', resolution=\"10\", material='Opaque', show='True')\n"
   ]
  },
  {
   "cell_type": "markdown",
   "id": "0eb3fb42",
   "metadata": {},
   "source": [
    "*List some attribute values of your selection...*"
   ]
  },
  {
   "cell_type": "code",
   "execution_count": null,
   "id": "1294ffea",
   "metadata": {
    "scrolled": true
   },
   "outputs": [],
   "source": [
    "mySel.get(['x','node', 'model_name'])\n"
   ]
  },
  {
   "cell_type": "markdown",
   "id": "3e6694f6",
   "metadata": {},
   "source": [
    "*Display available attributes for currently loaded model...*"
   ]
  },
  {
   "cell_type": "code",
   "execution_count": null,
   "id": "7b561b80",
   "metadata": {},
   "outputs": [],
   "source": [
    "VND.list_attributes()\n"
   ]
  },
  {
   "cell_type": "markdown",
   "id": "720f9398",
   "metadata": {},
   "source": [
    "*Use  simple .get queries, connected to selections and GUI representations, to populate Pandas DataFrames...*"
   ]
  },
  {
   "cell_type": "code",
   "execution_count": null,
   "id": "e90e44d0",
   "metadata": {},
   "outputs": [],
   "source": [
    "internalSel=VND.NeuronSel('population == internal ')\n"
   ]
  },
  {
   "cell_type": "code",
   "execution_count": null,
   "id": "7e344d5d",
   "metadata": {},
   "outputs": [],
   "source": [
    "internalSel"
   ]
  },
  {
   "cell_type": "code",
   "execution_count": null,
   "id": "5147556c",
   "metadata": {},
   "outputs": [],
   "source": [
    "attribs=VND.list_attributes()"
   ]
  },
  {
   "cell_type": "code",
   "execution_count": null,
   "id": "9733ba99",
   "metadata": {},
   "outputs": [],
   "source": [
    "import pandas as pd\n",
    "import numpy as np"
   ]
  },
  {
   "cell_type": "markdown",
   "id": "7eb5aa03",
   "metadata": {},
   "source": [
    "*Combine column data and column titles for the attributes to make a Pandas DataFrame:*\n"
   ]
  },
  {
   "cell_type": "code",
   "execution_count": null,
   "id": "4b08e6c8",
   "metadata": {},
   "outputs": [],
   "source": [
    "internal_nodes_df=pd.DataFrame(internalSel.get(attribs),columns=attribs)\n"
   ]
  },
  {
   "cell_type": "markdown",
   "id": "161d8d3a",
   "metadata": {},
   "source": [
    "*Choose a random 10 perent of the excitatory cells:*\n"
   ]
  },
  {
   "cell_type": "code",
   "execution_count": null,
   "id": "4bfda9f7",
   "metadata": {},
   "outputs": [],
   "source": [
    "exc_cell_ids = internal_nodes_df[internal_nodes_df['ei'] == 'e']['node_id'].values\n",
    "exc_cell_ids = np.random.choice(exc_cell_ids, size=int(len(exc_cell_ids)*.1), replace=False)\n"
   ]
  },
  {
   "cell_type": "code",
   "execution_count": null,
   "id": "6e5220b2",
   "metadata": {},
   "outputs": [],
   "source": [
    "exc_cell_ids"
   ]
  },
  {
   "cell_type": "markdown",
   "id": "302e7cc7",
   "metadata": {},
   "source": [
    "*Choose a random 10 perent of the inhibitory cells:*"
   ]
  },
  {
   "cell_type": "code",
   "execution_count": null,
   "id": "57c2c82f",
   "metadata": {},
   "outputs": [],
   "source": [
    "inh_cell_ids = internal_nodes_df[internal_nodes_df['ei'] == 'i']['node_id'].values\n",
    "inh_cell_ids = np.random.choice(inh_cell_ids, size=int(len(inh_cell_ids)*.1), replace=False)\n"
   ]
  },
  {
   "cell_type": "code",
   "execution_count": null,
   "id": "d1d5aef7",
   "metadata": {},
   "outputs": [],
   "source": [
    "inhSel=VND.NeuronSel(f'(node_id == {\" \".join(inh_cell_ids)}) && (population == internal)')"
   ]
  },
  {
   "cell_type": "code",
   "execution_count": null,
   "id": "41fdf108",
   "metadata": {},
   "outputs": [],
   "source": [
    "inhSel"
   ]
  },
  {
   "cell_type": "code",
   "execution_count": null,
   "id": "9c3a0c63",
   "metadata": {},
   "outputs": [],
   "source": [
    "excSel=VND.NeuronSel(f'(node_id == {\" \".join(exc_cell_ids)}) && (population == internal)')"
   ]
  },
  {
   "cell_type": "code",
   "execution_count": null,
   "id": "4752640c",
   "metadata": {},
   "outputs": [],
   "source": [
    "excSel"
   ]
  },
  {
   "cell_type": "code",
   "execution_count": null,
   "id": "fecb5e03",
   "metadata": {},
   "outputs": [],
   "source": [
    "VND.add_rep(sel=excSel, color='pink', style='soma', scaling='2.0', material='Opaque', resolution='15',show='True')\n"
   ]
  },
  {
   "cell_type": "code",
   "execution_count": null,
   "id": "8435e4a8",
   "metadata": {},
   "outputs": [],
   "source": [
    "VND.add_rep(sel=inhSel, color='iceblue', style='morphology', scaling='1.6', material='Opaque', show='True')\n"
   ]
  },
  {
   "cell_type": "markdown",
   "id": "703e3313",
   "metadata": {},
   "source": [
    "*Work with spike (action potential) event data.*\n",
    "\n",
    "*In VND: set up spike event viewing/analysis by first using the VND Activity tab to animate any current selection: choose* **Select Population: internal**, choose a selection from* **Select existing selection:**, then click **Update selection**. *Drag the slider and asjust **time window** control and playback controls see animated spike activity.* \n",
    "\n",
    "*Then, create a selection object of the whole population, get the spike event data, and make a DataFrame:*"
   ]
  },
  {
   "cell_type": "code",
   "execution_count": null,
   "id": "4ecdc07d",
   "metadata": {},
   "outputs": [],
   "source": [
    "internSel=VND.NeuronSel('population == internal')\n",
    "d = internSel.get_events_dict(\"internal\")\n",
    "spikes_df = pd.DataFrame({\n",
    "    'node_id':d['n'],\n",
    "    'timestamps':d['t']\n",
    "})\n",
    "spikes_df"
   ]
  },
  {
   "cell_type": "markdown",
   "id": "53dce012",
   "metadata": {},
   "source": [
    "*Find cells with the highest spiking rates:*"
   ]
  },
  {
   "cell_type": "code",
   "execution_count": null,
   "id": "473c3599",
   "metadata": {},
   "outputs": [],
   "source": [
    "# group df by id and use 'count' function to determine firing rates, \n",
    "# sort DataFrame by firing rate and get the top 10\n",
    "min_ts, max_ts = 0, np.ceil(spikes_df['timestamps'].max())\n",
    "firing_rates_df = (spikes_df.groupby('node_id').agg('count')/(max_ts - min_ts)*1000.0).reset_index()\n",
    "firing_rates_df = firing_rates_df.rename(columns={'timestamps': 'firing_rate'})\n",
    "firing_rates_df = firing_rates_df.sort_values('firing_rate', ascending=False)\n",
    "fastest_cell_ids = firing_rates_df['node_id'].head(10).values\n",
    "fastest_cell_ids_seltext=' '.join(map(str, fastest_cell_ids))"
   ]
  },
  {
   "cell_type": "code",
   "execution_count": null,
   "id": "5a108040",
   "metadata": {},
   "outputs": [],
   "source": [
    "fastest_cell_ids_seltext"
   ]
  },
  {
   "cell_type": "code",
   "execution_count": null,
   "id": "e0fd20b2",
   "metadata": {},
   "outputs": [],
   "source": [
    "fastestSel=VND.NeuronSel(f'(node_id == {fastest_cell_ids_seltext} ) && (population == internal)')"
   ]
  },
  {
   "cell_type": "code",
   "execution_count": null,
   "id": "7f924069",
   "metadata": {},
   "outputs": [],
   "source": [
    "fastestSel"
   ]
  },
  {
   "cell_type": "code",
   "execution_count": null,
   "id": "d8be5650",
   "metadata": {},
   "outputs": [],
   "source": [
    "fastestSel.get(['node', 'ei', 'model_name'])\n"
   ]
  },
  {
   "cell_type": "markdown",
   "id": "57c6cd73",
   "metadata": {},
   "source": [
    "*Animated spike events in VND.*\n",
    "\n",
    "*Create a representation for the the fastestSel selection; then animate it in VND using the VND Activity tab:*"
   ]
  },
  {
   "cell_type": "code",
   "execution_count": null,
   "id": "4e200362",
   "metadata": {},
   "outputs": [],
   "source": [
    "#create the rep you will select in the VND GUI in the Activity window\n",
    "VND.add_rep(sel=fastestSel, color='red', style='soma', scaling='1.8', resolution=6, material='Opaque', show='True')"
   ]
  },
  {
   "cell_type": "markdown",
   "id": "3a562e8a-1a56-443e-898d-385f2ed4ccdc",
   "metadata": {},
   "source": [
    "*After animating the representation in the VND Activity tab, go to the VND Main tab, and hide the represenation for fastestSel that you just made.*"
   ]
  },
  {
   "cell_type": "markdown",
   "id": "10cf825e",
   "metadata": {},
   "source": [
    "*Now, use selection objects to draw an interactive raster spike plot for the whole model.  In the plot, use the right-margin Lasso tool (and other controls) to examine highlighted events, and see the selections appear in 3D in the VND OpenGL window.  When using the Lasso tool, use shift to add to the dynamic selection, and click on empty background to reset the selection.*\n",
    "\n",
    "*Note: to see the changing 3D representations more clearly (i.e. less visual clutter), turn off some other representations in the VMD GUI.*"
   ]
  },
  {
   "cell_type": "code",
   "execution_count": null,
   "id": "169448ce-9fdf-40fc-a77d-7390b78f9d05",
   "metadata": {
    "editable": true,
    "scrolled": true,
    "slideshow": {
     "slide_type": ""
    },
    "tags": []
   },
   "outputs": [],
   "source": [
    "#panel graph\n",
    "from bokeh.models import ColumnDataSource, NumeralTickFormatter, LassoSelectTool, HoverTool, TapTool\n",
    "from bokeh.plotting import figure, show\n",
    "from bokeh.events import Tap, SelectionGeometry\n",
    "from bokeh.models.callbacks import CustomJS\n",
    "import panel as pn\n",
    "from bokeh.io import reset_output,output_notebook\n",
    "\n",
    "pn.extension()\n",
    "\n",
    "plottingSel = VND.NeuronSel('population == internal')\n",
    "#Make a rep for the  the plottingSel selection; then animate it in the Activity window\n",
    "\n",
    "\n",
    "dynSel = VND.NeuronSel('! (all)')\n",
    "dyn_plot_rep = VND.add_rep(sel=dynSel, color='cyan', style='soma', scaling='2.1', resolution=\"10\", material='Transparent', show='True')\n",
    "dyn_plot_highlight = \"\"\n",
    "print (f'dyn_plot_rep is {dyn_plot_rep}')\n",
    "vndSpikeEventData = plottingSel.get_events_plot_dict(\"internal\")\n",
    "#now clear \n",
    "#reset_output()\n",
    "#output_notebook()\n",
    "\n",
    "source = ColumnDataSource(vndSpikeEventData)\n",
    "selected = ColumnDataSource(dict(\n",
    "    x=[],\n",
    "    y=[],\n",
    "))\n",
    "\n",
    "fig = figure(title='VND Spike Graph: Select the events',\n",
    "             height=500, width=600,\n",
    "             x_range=(0, max(vndSpikeEventData[\"x\"])), y_range=(0, max(vndSpikeEventData[\"y\"])))\n",
    "\n",
    "hover_glyph = fig.scatter(source=source, x='x', y='y',\n",
    "           color='c', size=3, alpha=0.5,\n",
    "           hover_fill_color='black', hover_alpha=0.5)\n",
    "\n",
    "tooltips = [('t (ms)', '@x'), ('node', '@y'), ('c', '@c'), ('global_id', '@g')]\n",
    "\n",
    "fig.add_tools(HoverTool(tooltips=tooltips, renderers=[hover_glyph]))\n",
    "fig.add_tools(TapTool())\n",
    "fig.add_tools(LassoSelectTool())\n",
    "\n",
    "def selection_change(attr, old, new):\n",
    "    #global my_count\n",
    "    #let data = Object.assign({}, source.data);\n",
    "    #var kernel = Jupyter.notebook.kernel;    \n",
    "    #var inds = source.selected.indices;\n",
    "    global dyn_plot_rep\n",
    "    global dyn_plot_highlight\n",
    "    selected_indices = source.selected.indices\n",
    "    #get gid from the g field\n",
    "    #the_count = len(selected_indices)\n",
    "    # [source['g'][i] for i in selected_indices]\n",
    "    #selection_pane.object = f\"Selected {len(selected_indices)} points: {selected_indices}  count: {the_count}\"\n",
    "    #my_count = the_count\n",
    "    #let indices = Object.assign([], source.selected.indices);\n",
    "    #data.g =indices.map(i=>data.g[i]);\n",
    "    #var data_g_str = data.g.toString();\n",
    "    #var data_g_repl = data_g_str.replace(/,/g,\" \");\n",
    "    values_at_indices= [vndSpikeEventData['g'][i] for i in selected_indices]\n",
    "    values_at_indices_text = ' '.join(str(x) for x in values_at_indices)\n",
    "    VND.vndSocketReq(f'::neuro::cmd_mod_rep_node_gid_list {dyn_plot_rep} soma cyan Transparent 2.1 10 [list {values_at_indices_text}]')\n",
    "    dyn_plot_highlight=values_at_indices_text\n",
    "\n",
    "source.selected.on_change('indices', selection_change)\n",
    "\n",
    "# Layout and display\n",
    "# eliminate column? return extending list of gids or node info?\n",
    "layout = pn.Column(fig)\n",
    "layout.servable()"
   ]
  },
  {
   "cell_type": "markdown",
   "id": "a3cbe2bc",
   "metadata": {},
   "source": [
    "*Make a selection from the dynamic plot selection (you can repeat this when you change the graph selection with the Lasso tool etc.)...*"
   ]
  },
  {
   "cell_type": "code",
   "execution_count": null,
   "id": "7b6586f0",
   "metadata": {},
   "outputs": [],
   "source": [
    "dynSel = VND.NeuronSel(f'gid == {dyn_plot_highlight}')\n",
    "dynSel\n"
   ]
  },
  {
   "cell_type": "code",
   "execution_count": null,
   "id": "9e02a112",
   "metadata": {
    "scrolled": true
   },
   "outputs": [],
   "source": [
    "dynSel.get(['node_id', 'ei', 'model_name'])"
   ]
  },
  {
   "cell_type": "markdown",
   "id": "a4fc319c-cc8a-4dbd-80ed-336564e4977b",
   "metadata": {},
   "source": [
    "*Make a Pandas DataFrame from the dynSel attribute data...*"
   ]
  },
  {
   "cell_type": "code",
   "execution_count": null,
   "id": "aa331b62",
   "metadata": {},
   "outputs": [],
   "source": [
    "attribs=VND.list_attributes()\n",
    "dyn_nodes_df=pd.DataFrame(dynSel.get(attribs),columns=attribs)\n",
    "dyn_nodes_df"
   ]
  },
  {
   "cell_type": "markdown",
   "id": "59a029b0-ccd2-439e-a3d5-10a5a55a9bf1",
   "metadata": {},
   "source": [
    "*Use the DataFrame to inventory the model names of cells in this selection*"
   ]
  },
  {
   "cell_type": "code",
   "execution_count": null,
   "id": "5f5a5e82",
   "metadata": {},
   "outputs": [],
   "source": [
    "dyn_nodes_df['model_name'].value_counts()"
   ]
  },
  {
   "cell_type": "markdown",
   "id": "8aac5769",
   "metadata": {},
   "source": [
    "*Make a graph for the fastest firing neurons only, using the ``fastestSel`` selection...*"
   ]
  },
  {
   "cell_type": "markdown",
   "id": "2442ff86-2470-4ecf-b21e-a3573202e09a",
   "metadata": {},
   "source": [
    "*First, check the number of cells in the fastestSel selection object that we made above:*"
   ]
  },
  {
   "cell_type": "code",
   "execution_count": null,
   "id": "fda6d27f-f712-4307-9bb3-66de5b741df1",
   "metadata": {},
   "outputs": [],
   "source": [
    "fastestSel"
   ]
  },
  {
   "cell_type": "markdown",
   "id": "29189e10-3b85-4119-bc1f-73f36d8b7e03",
   "metadata": {},
   "source": [
    "*Now make a raster plot graph for only fastestSel, and use the Lasso tool to make selections:*"
   ]
  },
  {
   "cell_type": "code",
   "execution_count": null,
   "id": "bbb9dfa5-2d1c-4c4f-84f9-f975e585a0fc",
   "metadata": {},
   "outputs": [],
   "source": [
    "#panel graph for fastestSel\n",
    "from bokeh.models import ColumnDataSource, NumeralTickFormatter, LassoSelectTool, HoverTool, TapTool\n",
    "from bokeh.plotting import figure, show\n",
    "from bokeh.events import Tap, SelectionGeometry\n",
    "from bokeh.models.callbacks import CustomJS\n",
    "import panel as pn\n",
    "from bokeh.io import reset_output,output_notebook\n",
    "\n",
    "pn.extension()\n",
    "\n",
    "#Make a rep for the  the fastestSel selection; then animate it in the Activity window\n",
    "\n",
    "dynSel_2 = VND.NeuronSel('! (all)')\n",
    "dyn_plot_rep_2 = VND.add_rep(sel=dynSel_2, color='magenta', style='soma', scaling='2.1', resolution=\"10\", material='Transparent', show='True')\n",
    "dyn_plot_highlight_2 = \"\"\n",
    "print (f'dyn_plot_rep_2 is {dyn_plot_rep_2}')\n",
    "vndSpikeEventDataFastest = fastestSel.get_events_plot_dict(\"internal\")\n",
    "#now clear \n",
    "#reset_output()\n",
    "#output_notebook()\n",
    "\n",
    "source = ColumnDataSource(vndSpikeEventDataFastest)\n",
    "selected = ColumnDataSource(dict(\n",
    "    x=[],\n",
    "    y=[],\n",
    "))\n",
    "\n",
    "fig2 = figure(title='VND Spike Graph: Select the events',\n",
    "             height=500, width=600,\n",
    "             x_range=(0, max(vndSpikeEventDataFastest[\"x\"])), y_range=(0, max(vndSpikeEventDataFastest[\"y\"])))\n",
    "\n",
    "hover_glyph = fig2.scatter(source=source, x='x', y='y',\n",
    "           color='c', size=3, alpha=0.5,\n",
    "           hover_fill_color='black', hover_alpha=0.5)\n",
    "\n",
    "tooltips = [('t (ms)', '@x'), ('node', '@y'), ('c', '@c'), ('global_id', '@g')]\n",
    "\n",
    "fig2.add_tools(HoverTool(tooltips=tooltips, renderers=[hover_glyph]))\n",
    "fig2.add_tools(TapTool())\n",
    "fig2.add_tools(LassoSelectTool())\n",
    "\n",
    "def selection_change(attr, old, new):\n",
    "    #global my_count\n",
    "    #let data = Object.assign({}, source.data);\n",
    "    #var kernel = Jupyter.notebook.kernel;    \n",
    "    #var inds = source.selected.indices;\n",
    "    global dyn_plot_rep_2\n",
    "    global dyn_plot_highlight_2\n",
    "    selected_indices = source.selected.indices\n",
    "    #get gid from the g field\n",
    "    #the_count = len(selected_indices)\n",
    "    # [source['g'][i] for i in selected_indices]\n",
    "    #selection_pane.object = f\"Selected {len(selected_indices)} points: {selected_indices}  count: {the_count}\"\n",
    "    #my_count = the_count\n",
    "    #let indices = Object.assign([], source.selected.indices);\n",
    "    #data.g =indices.map(i=>data.g[i]);\n",
    "    #var data_g_str = data.g.toString();\n",
    "    #var data_g_repl = data_g_str.replace(/,/g,\" \");\n",
    "    values_at_indices= [vndSpikeEventDataFastest['g'][i] for i in selected_indices]\n",
    "    values_at_indices_text = ' '.join(str(x) for x in values_at_indices)\n",
    "    VND.vndSocketReq(f'::neuro::cmd_mod_rep_node_gid_list {dyn_plot_rep_2} soma magenta Transparent 2.1 10 [list {values_at_indices_text}]')\n",
    "    dyn_plot_highlight_2=values_at_indices_text\n",
    "\n",
    "source.selected.on_change('indices', selection_change)\n",
    "\n",
    "# Layout and display\n",
    "# eliminate column? return extending list of gids or node info?\n",
    "layout = pn.Column(fig2)\n",
    "layout.servable()"
   ]
  },
  {
   "cell_type": "code",
   "execution_count": null,
   "id": "a3335354-4431-462c-a8e3-e98e80cf67d4",
   "metadata": {},
   "outputs": [],
   "source": []
  }
 ],
 "metadata": {
  "kernelspec": {
   "display_name": "bmtk-py3.11",
   "language": "python",
   "name": "bmtk-py3.11"
  },
  "language_info": {
   "codemirror_mode": {
    "name": "ipython",
    "version": 3
   },
   "file_extension": ".py",
   "mimetype": "text/x-python",
   "name": "python",
   "nbconvert_exporter": "python",
   "pygments_lexer": "ipython3",
   "version": "3.11.13"
  }
 },
 "nbformat": 4,
 "nbformat_minor": 5
}
