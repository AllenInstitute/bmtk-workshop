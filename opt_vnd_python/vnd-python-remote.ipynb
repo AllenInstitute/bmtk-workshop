{
 "cells": [
  {
   "cell_type": "markdown",
   "id": "8a667082",
   "metadata": {},
   "source": [
    "*Start up connection to VND session with...*"
   ]
  },
  {
   "cell_type": "code",
   "execution_count": null,
   "id": "ec59b680",
   "metadata": {},
   "outputs": [],
   "source": [
    "import VND\n"
   ]
  },
  {
   "cell_type": "markdown",
   "id": "bfcef981",
   "metadata": {},
   "source": [
    "*Now make a selction object using the VND selection langugage...*"
   ]
  },
  {
   "cell_type": "code",
   "execution_count": null,
   "id": "f7c17fdf",
   "metadata": {},
   "outputs": [],
   "source": [
    "mySel=VND.NeuronSel('(soma x < -15) && (soma y < 0) && (population == internal)')\n",
    "\n"
   ]
  },
  {
   "cell_type": "markdown",
   "id": "401b3fe0",
   "metadata": {},
   "source": [
    "*Check the status of this object, and see how many neurons are in the selection*"
   ]
  },
  {
   "cell_type": "code",
   "execution_count": null,
   "id": "308cd5df",
   "metadata": {},
   "outputs": [],
   "source": [
    "mySel"
   ]
  },
  {
   "cell_type": "markdown",
   "id": "d49a8b3b",
   "metadata": {},
   "source": [
    "*Make a new graphical representation, which will appear in the VND 3D display and be listed in the VND main tab Representations list:*\n"
   ]
  },
  {
   "cell_type": "code",
   "execution_count": null,
   "id": "a1328323",
   "metadata": {
    "scrolled": false
   },
   "outputs": [],
   "source": [
    "VND.add_rep(sel=mySel, color='red', style='soma', scaling='1.8', resolution=\"10\", material='Opaque', show='True')\n"
   ]
  },
  {
   "cell_type": "markdown",
   "id": "0eb3fb42",
   "metadata": {},
   "source": [
    "*List some attribute values of your selection...*"
   ]
  },
  {
   "cell_type": "code",
   "execution_count": null,
   "id": "1294ffea",
   "metadata": {},
   "outputs": [],
   "source": [
    "mySel.get(['x','node', 'model_name'])\n"
   ]
  },
  {
   "cell_type": "code",
   "execution_count": null,
   "id": "7b561b80",
   "metadata": {},
   "outputs": [],
   "source": [
    "#Show some autocompletion\n",
    "VND.list_attributes()\n"
   ]
  },
  {
   "cell_type": "markdown",
   "id": "720f9398",
   "metadata": {},
   "source": [
    "*Use  simple .get queries, connected to selections and GUI representations, to populate Pandas DataFrames...*"
   ]
  },
  {
   "cell_type": "code",
   "execution_count": null,
   "id": "e90e44d0",
   "metadata": {},
   "outputs": [],
   "source": [
    "internalSel=VND.NeuronSel('population == internal ')\n"
   ]
  },
  {
   "cell_type": "code",
   "execution_count": null,
   "id": "7e344d5d",
   "metadata": {},
   "outputs": [],
   "source": [
    "internalSel"
   ]
  },
  {
   "cell_type": "code",
   "execution_count": null,
   "id": "5147556c",
   "metadata": {},
   "outputs": [],
   "source": [
    "attribs=VND.list_attributes()"
   ]
  },
  {
   "cell_type": "code",
   "execution_count": null,
   "id": "9733ba99",
   "metadata": {},
   "outputs": [],
   "source": [
    "import pandas as pd\n",
    "import numpy as np"
   ]
  },
  {
   "cell_type": "code",
   "execution_count": null,
   "id": "4bfda9f7",
   "metadata": {},
   "outputs": [],
   "source": [
    "#choose a random 10 perent of the excitatory cells\n",
    "exc_cell_ids = internal_nodes_df[internal_nodes_df['ei'] == 'e']['node_id'].values\n",
    "exc_cell_ids = np.random.choice(exc_cell_ids, size=int(len(exc_cell_ids)*.1), replace=False)\n"
   ]
  },
  {
   "cell_type": "code",
   "execution_count": null,
   "id": "6dea4989",
   "metadata": {},
   "outputs": [],
   "source": [
    "#combine column data and titles for the columns\n",
    "internal_nodes_df=pd.DataFrame(internalSel.get(attribs),columns=attribs)\n"
   ]
  },
  {
   "cell_type": "code",
   "execution_count": null,
   "id": "b5b7ad92",
   "metadata": {},
   "outputs": [],
   "source": [
    "#choose a random 10 perent of the excitatory cells\n",
    "exc_cell_ids = internal_nodes_df[internal_nodes_df['ei'] == 'e']['node_id'].values\n",
    "exc_cell_ids = np.random.choice(exc_cell_ids, size=int(len(exc_cell_ids)*.1), replace=False)\n"
   ]
  },
  {
   "cell_type": "code",
   "execution_count": null,
   "id": "6e5220b2",
   "metadata": {},
   "outputs": [],
   "source": [
    "exc_cell_ids"
   ]
  },
  {
   "cell_type": "code",
   "execution_count": null,
   "id": "57c2c82f",
   "metadata": {},
   "outputs": [],
   "source": [
    "inh_cell_ids = internal_nodes_df[internal_nodes_df['ei'] == 'i']['node_id'].values\n",
    "inh_cell_ids = np.random.choice(inh_cell_ids, size=int(len(inh_cell_ids)*.1), replace=False)\n"
   ]
  },
  {
   "cell_type": "code",
   "execution_count": null,
   "id": "d1d5aef7",
   "metadata": {},
   "outputs": [],
   "source": [
    "inhSel=VND.NeuronSel(f'(node_id == {\" \".join(inh_cell_ids)}) && (population == internal)')"
   ]
  },
  {
   "cell_type": "code",
   "execution_count": null,
   "id": "41fdf108",
   "metadata": {},
   "outputs": [],
   "source": [
    "inhSel"
   ]
  },
  {
   "cell_type": "code",
   "execution_count": null,
   "id": "9c3a0c63",
   "metadata": {},
   "outputs": [],
   "source": [
    "excSel=VND.NeuronSel(f'(node_id == {\" \".join(exc_cell_ids)}) && (population == internal)')"
   ]
  },
  {
   "cell_type": "code",
   "execution_count": null,
   "id": "4752640c",
   "metadata": {},
   "outputs": [],
   "source": [
    "excSel"
   ]
  },
  {
   "cell_type": "code",
   "execution_count": null,
   "id": "fecb5e03",
   "metadata": {},
   "outputs": [],
   "source": [
    "VND.add_rep(sel=excSel, color='pink', style='soma', scaling='2.0', material='Opaque', resolution='15',show='True')\n"
   ]
  },
  {
   "cell_type": "code",
   "execution_count": null,
   "id": "8435e4a8",
   "metadata": {},
   "outputs": [],
   "source": [
    "VND.add_rep(sel=inhSel, color='iceblue', style='morphology', scaling='1.6', material='Opaque', show='True')\n"
   ]
  },
  {
   "cell_type": "markdown",
   "id": "703e3313",
   "metadata": {},
   "source": [
    "*Work with spike (action potential) events...*"
   ]
  },
  {
   "cell_type": "code",
   "execution_count": null,
   "id": "4ecdc07d",
   "metadata": {},
   "outputs": [],
   "source": [
    "internSel=VND.NeuronSel('population == internal')\n",
    "d = internSel.get_events_dict(\"internal\")\n",
    "spikes_df = pd.DataFrame({\n",
    "    'node_id':d['n'],\n",
    "    'timestamps':d['t']\n",
    "})\n",
    "spikes_df"
   ]
  },
  {
   "cell_type": "markdown",
   "id": "53dce012",
   "metadata": {},
   "source": [
    "*Find cells with the highest spiking rates:*"
   ]
  },
  {
   "cell_type": "code",
   "execution_count": null,
   "id": "473c3599",
   "metadata": {},
   "outputs": [],
   "source": [
    "# group df by id and use 'count' function to determine firing rates, \n",
    "# sort dataframe by firing rate and get the top 10\n",
    "min_ts, max_ts = 0, np.ceil(spikes_df['timestamps'].max())\n",
    "firing_rates_df = (spikes_df.groupby('node_id').agg('count')/(max_ts - min_ts)*1000.0).reset_index()\n",
    "firing_rates_df = firing_rates_df.rename(columns={'timestamps': 'firing_rate'})\n",
    "firing_rates_df = firing_rates_df.sort_values('firing_rate', ascending=False)\n",
    "fastest_cell_ids = firing_rates_df['node_id'].head(10).values\n",
    "fastest_cell_ids_seltext=' '.join(map(str, fastest_cell_ids))"
   ]
  },
  {
   "cell_type": "code",
   "execution_count": null,
   "id": "5a108040",
   "metadata": {},
   "outputs": [],
   "source": [
    "fastest_cell_ids_seltext"
   ]
  },
  {
   "cell_type": "code",
   "execution_count": null,
   "id": "e0fd20b2",
   "metadata": {},
   "outputs": [],
   "source": [
    "fastestSel=VND.NeuronSel(f'(node_id = {fastest_cell_ids_seltext} ) && (population == internal)')"
   ]
  },
  {
   "cell_type": "code",
   "execution_count": null,
   "id": "7f924069",
   "metadata": {},
   "outputs": [],
   "source": [
    "fastestSel"
   ]
  },
  {
   "cell_type": "code",
   "execution_count": null,
   "id": "d8be5650",
   "metadata": {},
   "outputs": [],
   "source": [
    "fastestSel.get(['node', 'ei', 'model_name'])\n"
   ]
  },
  {
   "cell_type": "markdown",
   "id": "57c6cd73",
   "metadata": {},
   "source": [
    "*Animated spike events in activity window...*"
   ]
  },
  {
   "cell_type": "code",
   "execution_count": null,
   "id": "4e200362",
   "metadata": {},
   "outputs": [],
   "source": [
    "#Make a rep for the  the fastestSel selection; then animate it in the Activity window\n",
    "VND.add_rep(sel=fastestSel, color='red', style='soma', scaling='1.8', resolution=6, material='Opaque', show='True')"
   ]
  },
  {
   "cell_type": "markdown",
   "id": "10cf825e",
   "metadata": {},
   "source": [
    "*Use selection objects to draw interactive raster spike plot, examine highlighted events:*"
   ]
  },
  {
   "cell_type": "code",
   "execution_count": null,
   "id": "91a7a273",
   "metadata": {},
   "outputs": [],
   "source": [
    "from bokeh.models import ColumnDataSource, NumeralTickFormatter, LassoSelectTool, HoverTool, TapTool\n",
    "from bokeh.plotting import figure, show\n",
    "from bokeh.events import Tap, SelectionGeometry\n",
    "from bokeh.models.callbacks import CustomJS\n",
    "from bokeh.io import reset_output,output_notebook\n",
    "\n",
    "plottingSel = VND.NeuronSel('population == internal')\n",
    "#Make a rep for the  the plottingSel selection; then animate it in the Activity window\n",
    "\n",
    "\n",
    "dynSel = VND.NeuronSel('! (all)')\n",
    "dyn_plot_rep=VND.add_rep(sel=dynSel, color='red', style='soma', scaling='1.2', resolution=\"6\", material='Transparent', show='True')\n",
    "print (f'dyn_plot_rep is {dyn_plot_rep}')\n",
    "vndSpikeDataTransfer = plottingSel.get_events_plot_dict(\"internal\")\n",
    "#now clear \n",
    "reset_output()\n",
    "output_notebook()\n",
    "\n",
    "source = ColumnDataSource(vndSpikeDataTransfer)\n",
    "selected = ColumnDataSource(dict(\n",
    "    x=[],\n",
    "    y=[],\n",
    "))\n",
    "\n",
    "fig = figure(title='VND Spike Graph: Select the events',\n",
    "             plot_height=500, plot_width=600,\n",
    "             x_range=(0, max(vndSpikeDataTransfer[\"x\"])), y_range=(0, max(vndSpikeDataTransfer[\"y\"])))\n",
    "\n",
    "hover_glyph = fig.circle(source=source, x='x', y='y',\n",
    "           color='c', size=3, alpha=0.5,\n",
    "           hover_fill_color='black', hover_alpha=0.5)\n",
    "\n",
    "tooltips = [('t (ms)', '@x'), ('node', '@y'), ('c', '@c'), ('global_id', '@g')]\n",
    "\n",
    "fig.add_tools(HoverTool(tooltips=tooltips, renderers=[hover_glyph]))\n",
    "fig.add_tools(TapTool())\n",
    "fig.add_tools(LassoSelectTool())"
   ]
  },
  {
   "cell_type": "code",
   "execution_count": null,
   "id": "d93ec985",
   "metadata": {},
   "outputs": [],
   "source": [
    "callback_4 = CustomJS(args=dict(source=source,dyn_plot_rep=dyn_plot_rep), code=\"\"\"\n",
    "    // get data source from Callback args\n",
    "    let data = Object.assign({}, source.data);\n",
    "    var kernel = Jupyter.notebook.kernel;    \n",
    "    var inds = source.selected.indices;\n",
    "    let indices = Object.assign([], source.selected.indices);\n",
    "    data.g =indices.map(i=>data.g[i]);\n",
    "    var data_g_str = data.g.toString();\n",
    "    var data_g_repl = data_g_str.replace(/,/g,\" \");\n",
    "    var command = \"VND.vndSocketReq(f'::neuro::cmd_mod_rep_node_gid_list {dyn_plot_rep} soma 1 Transparent 1.2 6 [list \"+ data_g_repl + \"]')\";\n",
    "    var command2 = `dyn_plot_highlight=\"${data_g_repl}\"`  \n",
    "    kernel.execute(command)\n",
    "    kernel.execute(command2)\n",
    "\"\"\") \n",
    "\n",
    "fig.js_on_event(SelectionGeometry,  callback_4)\n",
    "\n",
    "           \n",
    "show(fig)"
   ]
  },
  {
   "cell_type": "markdown",
   "id": "a3cbe2bc",
   "metadata": {},
   "source": [
    "*Make a selection from the dynamic plot selection...*"
   ]
  },
  {
   "cell_type": "code",
   "execution_count": null,
   "id": "7b6586f0",
   "metadata": {},
   "outputs": [],
   "source": [
    "dynSel = VND.NeuronSel(f'gid == {dyn_plot_highlight}')\n",
    "dynSel\n"
   ]
  },
  {
   "cell_type": "code",
   "execution_count": null,
   "id": "9e02a112",
   "metadata": {},
   "outputs": [],
   "source": [
    "dynSel.get(['node_id', 'ei', 'model_name'])"
   ]
  },
  {
   "cell_type": "code",
   "execution_count": null,
   "id": "aa331b62",
   "metadata": {},
   "outputs": [],
   "source": [
    "attribs=VND.list_attributes()\n",
    "dyn_nodes_df=pd.DataFrame(dynSel.get(attribs),columns=attribs)\n",
    "dyn_nodes_df"
   ]
  },
  {
   "cell_type": "code",
   "execution_count": null,
   "id": "5f5a5e82",
   "metadata": {},
   "outputs": [],
   "source": [
    "dyn_nodes_df['model_name'].value_counts()"
   ]
  },
  {
   "cell_type": "code",
   "execution_count": null,
   "id": "a5fc650a",
   "metadata": {},
   "outputs": [],
   "source": []
  },
  {
   "cell_type": "markdown",
   "id": "8aac5769",
   "metadata": {},
   "source": [
    "*Make a lot for the fastest firing neurons only, using the ``fastestSel`` selection...*"
   ]
  },
  {
   "cell_type": "code",
   "execution_count": null,
   "id": "b45818bc",
   "metadata": {},
   "outputs": [],
   "source": [
    "from bokeh.models import ColumnDataSource, NumeralTickFormatter, LassoSelectTool, HoverTool, TapTool\n",
    "from bokeh.plotting import figure, show\n",
    "from bokeh.events import Tap, SelectionGeometry\n",
    "from bokeh.models.callbacks import CustomJS\n",
    "from bokeh.io import reset_output,output_notebook\n",
    "\n",
    "#fastestSel = VND.NeuronSel('population == internal')\n",
    "#Make a rep for the  the plottingSel selection; then animate it in the Activity window\n",
    "\n",
    "\n",
    "dynSel = VND.NeuronSel('! (all)')\n",
    "dyn_plot_rep=VND.add_rep(sel=dynSel, color='red', style='soma', scaling='1.2', resolution=\"6\", material='Transparent', show='True')\n",
    "print (f'dyn_plot_rep is {dyn_plot_rep}')\n",
    "#here we use the fastestSel selection object...\n",
    "vndSpikeDataTransfer2 = fastestSel.get_events_plot_dict(\"internal\")\n",
    "#now clear \n",
    "reset_output()\n",
    "output_notebook()\n",
    "\n",
    "source = ColumnDataSource(vndSpikeDataTransfer2)\n",
    "selected = ColumnDataSource(dict(\n",
    "    x=[],\n",
    "    y=[],\n",
    "))\n",
    "\n",
    "fig = figure(title='VND Spike Graph: Select the events',\n",
    "             plot_height=500, plot_width=600,\n",
    "             x_range=(0, max(vndSpikeDataTransfer2[\"x\"])), y_range=(0, max(vndSpikeDataTransfer[\"y\"])))\n",
    "\n",
    "hover_glyph = fig.circle(source=source, x='x', y='y',\n",
    "           color='c', size=3, alpha=0.5,\n",
    "           hover_fill_color='black', hover_alpha=0.5)\n",
    "\n",
    "tooltips = [('t (ms)', '@x'), ('node', '@y'), ('c', '@c'), ('global_id', '@g')]\n",
    "\n",
    "fig.add_tools(HoverTool(tooltips=tooltips, renderers=[hover_glyph]))\n",
    "fig.add_tools(TapTool())\n",
    "fig.add_tools(LassoSelectTool())"
   ]
  },
  {
   "cell_type": "code",
   "execution_count": null,
   "id": "3615c95e",
   "metadata": {},
   "outputs": [],
   "source": [
    "callback_4 = CustomJS(args=dict(source=source,dyn_plot_rep=dyn_plot_rep), code=\"\"\"\n",
    "    // get data source from Callback args\n",
    "    let data = Object.assign({}, source.data);\n",
    "    var kernel = Jupyter.notebook.kernel;    \n",
    "    var inds = source.selected.indices;\n",
    "    let indices = Object.assign([], source.selected.indices);\n",
    "    data.g =indices.map(i=>data.g[i]);\n",
    "    var data_g_str = data.g.toString();\n",
    "    var data_g_repl = data_g_str.replace(/,/g,\" \");\n",
    "    var command = \"VND.vndSocketReq(f'::neuro::cmd_mod_rep_node_gid_list {dyn_plot_rep} soma 1 Transparent 1.2 6 [list \"+ data_g_repl + \"]')\";\n",
    "    var command2 = `dyn_plot_highlight=\"${data_g_repl}\"`  \n",
    "    kernel.execute(command)\n",
    "    kernel.execute(command2)\n",
    "\"\"\") \n",
    "\n",
    "fig.js_on_event(SelectionGeometry,  callback_4)\n",
    "\n",
    "           \n",
    "show(fig)"
   ]
  },
  {
   "cell_type": "code",
   "execution_count": null,
   "id": "e04d75ca",
   "metadata": {},
   "outputs": [],
   "source": [
    "dd = mySel.get_events_dict(\"internal\")"
   ]
  },
  {
   "cell_type": "code",
   "execution_count": null,
   "id": "fcc5806e",
   "metadata": {},
   "outputs": [],
   "source": [
    "dd"
   ]
  },
  {
   "cell_type": "code",
   "execution_count": null,
   "id": "903e30c4",
   "metadata": {},
   "outputs": [],
   "source": [
    "gdd=pd.DataFrame(dd)"
   ]
  },
  {
   "cell_type": "code",
   "execution_count": null,
   "id": "2b378795",
   "metadata": {},
   "outputs": [],
   "source": [
    "gdd"
   ]
  },
  {
   "cell_type": "code",
   "execution_count": null,
   "id": "76690be2",
   "metadata": {},
   "outputs": [],
   "source": [
    "VND.add_rep(sel=fastestSel)"
   ]
  },
  {
   "cell_type": "code",
   "execution_count": null,
   "id": "6be155dc",
   "metadata": {},
   "outputs": [],
   "source": [
    "newSel=NeuronSel('')"
   ]
  }
 ],
 "metadata": {
  "kernelspec": {
   "display_name": "Python 3 (ipykernel)",
   "language": "python",
   "name": "python3"
  },
  "language_info": {
   "codemirror_mode": {
    "name": "ipython",
    "version": 3
   },
   "file_extension": ".py",
   "mimetype": "text/x-python",
   "name": "python",
   "nbconvert_exporter": "python",
   "pygments_lexer": "ipython3",
   "version": "3.9.13"
  }
 },
 "nbformat": 4,
 "nbformat_minor": 5
}
