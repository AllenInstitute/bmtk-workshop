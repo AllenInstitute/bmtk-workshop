{
 "cells": [
  {
   "cell_type": "markdown",
   "id": "43369a85",
   "metadata": {},
   "source": [
    "## Exercise 5"
   ]
  },
  {
   "cell_type": "markdown",
   "id": "c2603f7c",
   "metadata": {},
   "source": [
    "### General Instructions\n",
    "\n",
    "Build a cortical column of 400 $\\mu m$ radius consisting of L1 inhibitory population (Htr3a) and L2/3-L6 excitatory and inhibitory populations of PV, SST, and Htr3a cells. Use the `NetworkBuilder` to create a network with 80% excitatory and 20% inhibitory neurons (up to 100 neurons total), and use `BioNet` to run the simulations. Record the extracellular potentials / local field potentials (LFPs) evoked by these neurons with a linear probe located at the center of the cortical column with 100 $\\mu m$ inter-electrode distance and plot the results. Calculate the CSD from the LFPs and plot it as well. Use the `VND` to visualize the network and check synaptic connections. Evaluate the effect of basal and apical dendritic synapses on the LFP and CSD by removing them from the model and simulating the network responses when only one of them is included."
   ]
  },
  {
   "cell_type": "markdown",
   "id": "9345c642",
   "metadata": {},
   "source": [
    "### 1. Build the network:\n",
    "- To build the network, use the biophysically detailed neuron models provided in [node_models.json](node_models.json). It contains the spatial information to generate the location of the neurons within the cortical column, the population types per layer and the biophysical model representing each population with its associated morphology. Biophysical models and morphologies are available in [components/biophysical_neuron_templates](components/biophysical_neuron_templates) and [components/morphologies](components/morphologies), respectively.\n",
    "- To facilitate the comparison across simulation types, build three different networks:\n",
    "  - A network with all synapses (default).\n",
    "  - A network with only basal dendritic synapses.\n",
    "  - A network with only apical dendritic synapses.\n",
    "- Synaptic models are included in [components/synaptic_models](components/synaptic_models)."
   ]
  },
  {
   "cell_type": "markdown",
   "id": "28f8601c",
   "metadata": {},
   "source": [
    "#### 1.1 Create the nodes"
   ]
  },
  {
   "cell_type": "markdown",
   "id": "35e8ffdc",
   "metadata": {},
   "source": [
    "1.1.1. Create internal nodes."
   ]
  },
  {
   "cell_type": "code",
   "execution_count": null,
   "id": "6e8a20bd",
   "metadata": {},
   "outputs": [],
   "source": []
  },
  {
   "cell_type": "markdown",
   "id": "1ae2d6ec",
   "metadata": {},
   "source": [
    "1.1.2. Create external nodes - virtual cells that provide inputs to the network."
   ]
  },
  {
   "cell_type": "code",
   "execution_count": null,
   "id": "abf8d9ec",
   "metadata": {},
   "outputs": [],
   "source": []
  },
  {
   "cell_type": "markdown",
   "id": "6d1a9c4b",
   "metadata": {},
   "source": [
    "#### 1.2 Create the edges"
   ]
  },
  {
   "cell_type": "markdown",
   "id": "4f1c1147",
   "metadata": {},
   "source": [
    "1.2.1. Internal edges - synaptic connections between neurons in the network.\n",
    "\n",
    "Cases:\n",
    "- All synapses\n",
    "- Basal dendritic synapses only\n",
    "- Apical dendritic synapses only"
   ]
  },
  {
   "cell_type": "code",
   "execution_count": null,
   "id": "e749b500",
   "metadata": {},
   "outputs": [],
   "source": []
  },
  {
   "cell_type": "markdown",
   "id": "ea7bd304",
   "metadata": {},
   "source": [
    "##### 1.2.2 External edges - inputs to the network\n",
    "To stimulate the network, create 100 external (virtual) cells connecting to all cell populations in the network. Use the `SpikeGenerator` to create a Poisson spike train with a frequency of 10 Hz and a duration of 3 seconds. Store the generated spike trains in [/inputs](inputs). "
   ]
  },
  {
   "cell_type": "code",
   "execution_count": null,
   "id": "9edc7229",
   "metadata": {},
   "outputs": [],
   "source": []
  },
  {
   "cell_type": "markdown",
   "id": "b99c315b",
   "metadata": {},
   "source": [
    "### 2. Generate the simulation config.json file:\n",
    "- The config.json file should include the following parameters:\n",
    "  - duration: 3 seconds\n",
    "  - dt: 0.1 ms\n",
    "  - reports: add 'ecp' recordings to the `reports` section to record the LFPs.\n",
    "      - `electrode_positions`: path to the csv file containing the electrode positions.\n",
    "  - input: use the external input created in step 1.1.2\n",
    "  - output: save the simulation results in a folder named [outputs](outputs)"
   ]
  },
  {
   "cell_type": "code",
   "execution_count": null,
   "id": "63f89bf8",
   "metadata": {},
   "outputs": [],
   "source": []
  },
  {
   "cell_type": "markdown",
   "id": "6db4c2c2",
   "metadata": {},
   "source": [
    "#### 1.1 Create the electrodes file\n",
    "- Record the LFPs using a linear probe with 100 $\\mu m$ inter-electrode distance. The probe should be located at the center of the cortical column. The electrode positions should be saved in a csv file named ./components/electrodes/linear_electrode.csv with the following format:\n",
    "```csv\n",
    "channel_id,x,y,z\n",
    "0,0,0,0\n",
    "```"
   ]
  },
  {
   "cell_type": "code",
   "execution_count": null,
   "id": "234127e8",
   "metadata": {},
   "outputs": [],
   "source": []
  },
  {
   "cell_type": "markdown",
   "id": "23e93611",
   "metadata": {},
   "source": [
    "### 3. Run the simulation:\n",
    "- Use `BioNet` to run the simulation with the generated config.json file. The simulation should be run for 3 seconds with a time step of 0.1 ms. The results should be saved in the outputs folder.\n",
    "- Remember to compile the [./components/mechanisms](components/mechanisms) before running the simulation. You can do this by running the following command in the terminal:\n",
    "```bash\n",
    "! cd components/mechanisms && nrnivmodl modfiles\n",
    "```"
   ]
  },
  {
   "cell_type": "code",
   "execution_count": null,
   "id": "45948938",
   "metadata": {},
   "outputs": [],
   "source": []
  },
  {
   "cell_type": "markdown",
   "id": "5fda63bd",
   "metadata": {},
   "source": [
    "### 4. Plot the results:\n",
    "- Plot the raster plot of the network activity. The x-axis should represent time and the y-axis should represent the neuron index. Use different colors for different populations.\n",
    "- Create a 2D plot of the LFPs recorded by the linear probe. The x-axis should represent time and the y-axis should represent the electrode number."
   ]
  },
  {
   "cell_type": "code",
   "execution_count": null,
   "id": "c4ee7962",
   "metadata": {},
   "outputs": [],
   "source": []
  },
  {
   "cell_type": "markdown",
   "id": "6415088c",
   "metadata": {},
   "source": [
    "### 5. Calculate the CSD:\n",
    "- Calculate the CSD from the simulated LFPs using the delta-iCSD method. You can find the implementation of the delta-iCSD method in the [icsd_scripts](icsd_scripts) folder."
   ]
  },
  {
   "cell_type": "markdown",
   "id": "d8b663dc",
   "metadata": {},
   "source": []
  }
 ],
 "metadata": {
  "kernelspec": {
   "display_name": "biorealistic-v1",
   "language": "python",
   "name": "python3"
  },
  "language_info": {
   "name": "python",
   "version": "3.11.9"
  }
 },
 "nbformat": 4,
 "nbformat_minor": 5
}
