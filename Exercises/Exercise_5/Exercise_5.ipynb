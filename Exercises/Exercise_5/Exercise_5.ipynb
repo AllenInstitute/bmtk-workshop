{
 "cells": [
  {
   "cell_type": "markdown",
   "id": "43369a85",
   "metadata": {},
   "source": [
    "## Exercise 5"
   ]
  },
  {
   "cell_type": "markdown",
   "id": "c2603f7c",
   "metadata": {},
   "source": [
    "### Instructions\n",
    "\n",
    "Build a cortical column of 400 $\\mu m$ radius consisting of L2/3, L4, and L5 pyramidal cells and inhibitory populations of L2/3, L4, and L5 PV, SST, and Htr3a cells. Select detailed perisomatic biophysical models of these neurons from the Allen Cell Types Database (https://celltypes.brain-map.org/data). Use the `NetworkBuilder` to create a network with 80% excitatory and 20% inhibitory neurons, and use `BioNet` to run the simulations. Record the extracellular potentials / local field potentials (LFPs) evoked by these neurons with a linear probe located at the center of the cortical column with 100 $\\mu m$ inter-electrode distance and plot the results. Calculate the CSD from the LFPs and plot it as well. Use the `VND` to visualize the network and check synaptic connections. Evaluate the effect of basal and apical dendritic synapses on the LFP and CSD by removing them from the model and simulating the network responses when only one of them is included.\n",
    "\n",
    "To stimulate the network, create 100 external (virtual) cells connecting to all cell populations in the network. Use the `SpikeGenerator` to create a Poisson spike train with a frequency of 10 Hz and a duration of 3 seconds. Store the generated spike trains in [Exercises/Exercise_5/inputs](Exercises/Exercise_5/inputs). \n",
    "\n",
    "Synaptic models are included in [Exercises/Exercise_5/components/synaptic_models](Exercises/Exercise_5/components/synaptic_models)."
   ]
  },
  {
   "cell_type": "markdown",
   "id": "742beede",
   "metadata": {},
   "source": [
    "### Please include your answers in the following cells:\n",
    "- The code used to create the network and run the simulation.\n",
    "- The code used to create the external Poisson spike train.\n",
    "- The code used to remove the basal and apical dendritic synapses and simulate the network responses.\n",
    "- The code used to plot the LFPs and CSDs."
   ]
  },
  {
   "cell_type": "code",
   "execution_count": null,
   "id": "9edc7229",
   "metadata": {
    "vscode": {
     "languageId": "plaintext"
    }
   },
   "outputs": [],
   "source": []
  }
 ],
 "metadata": {
  "language_info": {
   "name": "python"
  }
 },
 "nbformat": 4,
 "nbformat_minor": 5
}
