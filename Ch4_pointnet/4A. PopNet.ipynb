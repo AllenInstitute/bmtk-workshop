{
 "cells": [
  {
   "cell_type": "markdown",
   "id": "b9f19634",
   "metadata": {},
   "source": [
    "# 4A. Population-level model with PopNet\n",
    "\n",
    "The interface for using DiPDE/PopNet is similar to BioNet and PointNet and will hopefully look familiar by now, but there are some differences.\n",
    "\n",
    "As before we have two options for building our GLIF Model:\n",
    "1. Build from scratch using BMTK's NetworkBuilder\n",
    "2. Copy an existing biophysical/point model and modify the node_types and edge_types params."
   ]
  },
  {
   "cell_type": "markdown",
   "id": "6457b48c",
   "metadata": {},
   "source": [
    "### Building PopNet version of the L4 Model\n",
    "Some things to take note of:\n",
    "* Populations don't have individual cells so essentially we need **N**=1, which is the same as using the default option.\n",
    "* For **model_type** we want to use option 'population'.\n",
    "* Unlike with the Biophysical and GLIF model, there are no optimized DiPDE/PopNet models in the Allen-Cell Types database. Instead we need to build the **dynamics_params** parameter files from scratch (we'll briefly explain the options available).\n",
    "* There are only two types of **model_templates** for DiPDE/PopNet - \"Internal\" and \"External\" (equivalent to virtual cells). \n"
   ]
  },
  {
   "cell_type": "code",
   "execution_count": 1,
   "id": "152cd663",
   "metadata": {},
   "outputs": [],
   "source": [
    "from bmtk.builder import NetworkBuilder\n",
    "\n",
    "\n",
    "# Create and Build the L4 model\n",
    "l4 = NetworkBuilder('l4')\n",
    "l4.add_nodes(\n",
    "    model_name='Scnn1a',\n",
    "    ei_type='e',\n",
    "    model_type='population',\n",
    "    model_template='dipde:Internal',\n",
    "    dynamics_params='Scnn1a_pop_model.json'\n",
    ")\n",
    "\n",
    "l4.add_nodes(\n",
    "    model_name='Rorb',\n",
    "    ei_type='e',\n",
    "    model_type='population',\n",
    "    model_template='dipde:Internal',\n",
    "    dynamics_params='Rorb_pop_model.json'\n",
    ")\n",
    "\n",
    "l4.add_nodes(\n",
    "    model_name='Nr5a1',\n",
    "    ei_type='e',\n",
    "    model_type='population',\n",
    "    model_template='dipde:Internal',\n",
    "    dynamics_params='Nr5a1_pop_model.json'\n",
    ")\n",
    "\n",
    "l4.add_nodes(\n",
    "    model_name='Pvalb',\n",
    "    ei_type='i',\n",
    "    model_type='population',\n",
    "    model_template='dipde:Internal',\n",
    "    dynamics_params='Pvalb_pop_model.json'\n",
    ")\n",
    "\n",
    "\n",
    "# Recurrently connect internal populations\n",
    "def exc_exc_conns(source, target):\n",
    "    if source['node_id'] == target['node_id']:\n",
    "        return 0\n",
    "    else:\n",
    "        return 2\n",
    "\n",
    "\n",
    "l4.add_edges(\n",
    "    source={'ei_type': 'e'}, target={'ei_type': 'e'},\n",
    "    syn_weight=0.01,\n",
    "    connection_rule=exc_exc_conns,\n",
    "    delay=0.002,\n",
    "    dynamics_params='dipde_ExcToInh.json'\n",
    "\n",
    ")\n",
    "\n",
    "l4.add_edges(\n",
    "    source={'ei_type': 'e'}, target={'ei_type': 'i'},\n",
    "    syn_weight=0.005,\n",
    "    nsyns=20,\n",
    "    delay=0.002,\n",
    "    dynamics_params='dipde_ExcToInh.json'\n",
    ")\n",
    "\n",
    "l4.add_edges(\n",
    "    source={'ei_type': 'i'}, target={'ei_type': 'e'},\n",
    "    syn_weight=-0.002,\n",
    "    nsyns=10,\n",
    "    delay=0.002,\n",
    "    dynamics_params='dipde_InhToExc.json'\n",
    ")\n",
    "\n",
    "l4.build()\n",
    "l4.save(output_dir='network_popnet')"
   ]
  },
  {
   "cell_type": "markdown",
   "id": "6efcfab9",
   "metadata": {},
   "source": [
    "Now for our LGN cells:"
   ]
  },
  {
   "cell_type": "code",
   "execution_count": 2,
   "id": "7c446b63",
   "metadata": {},
   "outputs": [],
   "source": [
    "lgn = NetworkBuilder('lgn')\n",
    "lgn.add_nodes(\n",
    "    pop_name='tON',\n",
    "    ei='e',\n",
    "    model_type='virtual',\n",
    "    model_template='dipde:External'\n",
    ")\n",
    "\n",
    "# Connect external pop to internal pops\n",
    "lgn.add_edges(\n",
    "    source=lgn.nodes(),\n",
    "    target=l4.nodes(),\n",
    "    syn_weight=0.0025,\n",
    "    nsyns=10,\n",
    "    delay=0.002,\n",
    "    dynamics_params='dipde_ExcToExc.json'\n",
    ")\n",
    "\n",
    "lgn.build()\n",
    "lgn.save(output_dir='network_popnet')"
   ]
  },
  {
   "cell_type": "markdown",
   "id": "b6fdef9c",
   "metadata": {},
   "source": [
    "### Setting up the environment\n",
    "\n",
    "We can again use our helper function either through the command line\n",
    "\n",
    "```bash\n",
    "  $python -m bmtk.utils.create_environment                \\\n",
    "              --config-file config.popnet.json            \\\n",
    "              --network-dir network_popnet                \\\n",
    "              --output-dir output_popnet                  \\\n",
    "              --tstop 3000.0                              \\\n",
    "              --dt 0.002                                  \\\n",
    "              --rates-inputs lgn:inputs/lgn_pop_rates.csv \\\n",
    "              --run-script run_popnet.py                  \\\n",
    "              --overwrite                                 \\\n",
    "              popnet .\n",
    "\n",
    "```\n",
    "\n",
    "or in the notebook:"
   ]
  },
  {
   "cell_type": "code",
   "execution_count": 3,
   "id": "2449a803",
   "metadata": {},
   "outputs": [
    {
     "name": "stderr",
     "output_type": "stream",
     "text": [
      "ERROR:root:Configuration file /home/ping/bmtk_workshop/bmtk_workshop_2022/Ch4_pointnet/config.popnet.json already exists, skipping. Please delete existing file, use a different name, or use overwrite=True.\n"
     ]
    }
   ],
   "source": [
    "from bmtk.utils.create_environment import create_environment\n",
    "\n",
    "create_environment(\n",
    "    'popnet',\n",
    "    base_dir='.',\n",
    "    config_file='config.popnet.json',\n",
    "    network_dir='network_popnet',\n",
    "    output_dir='output_popnet',\n",
    "    tstop=3000.0, dt=0.002,\n",
    "    rates_inputs=[('lgn', 'inputs/lgn_pop_rates.csv')],\n",
    "    run_script='run_popnet.py',\n",
    "    # overwrite=True,\n",
    ")"
   ]
  },
  {
   "cell_type": "markdown",
   "id": "468c4528",
   "metadata": {},
   "source": [
    "#### Inputs\n",
    "\n",
    "Unlike BioNet and PointNet, PopNet is not a spiking simulator and instead records the changes in firing-rates. As such the inputs to the LGN External files are not expecting individual spike-train files, but rather a list of firing rates for the External populations (currently firing rates must be constant, not time varying).\n",
    "\n",
    "<table style=\"float:left; border:1px solid black\">\n",
    "  <tr>\n",
    "    <th style='text-align: center;border:1px solid black'>node_type_id</th>\n",
    "    <th style='text-align: center;border:1px solid black'>firing_rate</th>\n",
    "  </tr>\n",
    "  <tr>\n",
    "      <td style='text-align: center;border:1px solid black'>100</td>\n",
    "      <td style='text-align: center;border:1px solid black'>15.0</td>\n",
    "  </tr>\n",
    "</table>\n",
    "<br clear='left'>\n",
    "\n",
    "And the \"inputs\" section of the config file should look like the following:\n",
    "```json\n",
    "{\n",
    "    \"inputs\": {\n",
    "        \"lgn_rates\": {\n",
    "            \"input_type\": \"csv\",\n",
    "            \"module\": \"pop_rates\",\n",
    "            \"rates\": \"$BASE_DIR/inputs/lgn_pop_rates.csv\",\n",
    "            \"node_set\": \"lgn\",\n",
    "        }   \n",
    "    }\n",
    "}\n",
    "```"
   ]
  },
  {
   "cell_type": "markdown",
   "id": "2b145767",
   "metadata": {},
   "source": [
    "We can run the PopNet simulation in either command-line:\n",
    "\n",
    "```bash\n",
    "$ python run_popnet.py config.popnet.json\n",
    "```\n",
    "\n",
    "or in the notebook:"
   ]
  },
  {
   "cell_type": "code",
   "execution_count": 4,
   "id": "902e3713",
   "metadata": {},
   "outputs": [
    {
     "name": "stdout",
     "output_type": "stream",
     "text": [
      "2022-07-18 16:12:49,655 [WARNING] Directory ./output_popnet already exists.\n"
     ]
    },
    {
     "name": "stderr",
     "output_type": "stream",
     "text": [
      "WARNING:IOUtils:Directory ./output_popnet already exists.\n"
     ]
    },
    {
     "name": "stdout",
     "output_type": "stream",
     "text": [
      "2022-07-18 16:12:49,656 [INFO] Created log file\n"
     ]
    },
    {
     "name": "stderr",
     "output_type": "stream",
     "text": [
      "INFO:IOUtils:Created log file\n"
     ]
    },
    {
     "name": "stdout",
     "output_type": "stream",
     "text": [
      "2022-07-18 16:12:49,691 [INFO] Building cells.\n"
     ]
    },
    {
     "name": "stderr",
     "output_type": "stream",
     "text": [
      "INFO:IOUtils:Building cells.\n"
     ]
    },
    {
     "name": "stdout",
     "output_type": "stream",
     "text": [
      "2022-07-18 16:12:49,692 [INFO] Building recurrent connections\n"
     ]
    },
    {
     "name": "stderr",
     "output_type": "stream",
     "text": [
      "INFO:IOUtils:Building recurrent connections\n"
     ]
    },
    {
     "name": "stdout",
     "output_type": "stream",
     "text": [
      "2022-07-18 16:12:49,713 [INFO] Build virtual cell stimulations for lgn_rates\n"
     ]
    },
    {
     "name": "stderr",
     "output_type": "stream",
     "text": [
      "INFO:IOUtils:Build virtual cell stimulations for lgn_rates\n"
     ]
    },
    {
     "name": "stdout",
     "output_type": "stream",
     "text": [
      "2022-07-18 16:12:49,739 [INFO] Network created.\n",
      "2022-07-18 16:12:49,741 [INFO] Running simulation.\n",
      "2022-07-18 16:13:06,884 [INFO] Finished simulation.\n"
     ]
    }
   ],
   "source": [
    "from bmtk.simulator import popnet\n",
    "\n",
    "configure = popnet.config.from_json('config.popnet.json')\n",
    "configure.build_env()\n",
    "\n",
    "network = popnet.PopNetwork.from_config(configure)\n",
    "sim = popnet.PopSimulator.from_config(configure, network)\n",
    "sim.run()"
   ]
  },
  {
   "cell_type": "code",
   "execution_count": 5,
   "id": "b56c7577",
   "metadata": {},
   "outputs": [
    {
     "data": {
      "image/png": "[encoded data removed]",
      "text/plain": [
       "<Figure size 432x288 with 1 Axes>"
      ]
     },
     "metadata": {
      "needs_background": "light"
     },
     "output_type": "display_data"
    }
   ],
   "source": [
    "from bmtk.analyzer.firing_rates import plot_rates_popnet\n",
    "\n",
    "plot_rates_popnet(\n",
    "    cell_models_file='network_popnet/l4_node_types.csv', \n",
    "    rates_file='output_popnet/firing_rates.csv', \n",
    "    model_keys='model_name'\n",
    ")"
   ]
  },
  {
   "cell_type": "markdown",
   "id": "709763c3",
   "metadata": {},
   "source": [
    "[**Return to the main chapter contents**](4.%20Multipopulation%20GLIF%20model.ipynb)"
   ]
  }
 ],
 "metadata": {
  "kernelspec": {
   "display_name": "Python 3 (ipykernel)",
   "language": "python",
   "name": "python3"
  },
  "language_info": {
   "codemirror_mode": {
    "name": "ipython",
    "version": 3
   },
   "file_extension": ".py",
   "mimetype": "text/x-python",
   "name": "python",
   "nbconvert_exporter": "python",
   "pygments_lexer": "ipython3",
   "version": "3.8.10"
  }
 },
 "nbformat": 4,
 "nbformat_minor": 5
}
